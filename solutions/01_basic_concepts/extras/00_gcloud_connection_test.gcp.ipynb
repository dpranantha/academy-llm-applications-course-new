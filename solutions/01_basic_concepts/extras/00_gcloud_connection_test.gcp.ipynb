{
 "cells": [
  {
   "cell_type": "code",
   "execution_count": null,
   "metadata": {},
   "outputs": [],
   "source": [
    "from llm_in_production.llm import instantiate_chat_model\n",
    "\n",
    "llm = instantiate_chat_model(llm_provider=\"gcp\")\n",
    "result = llm.invoke(\"hello!\")\n",
    "print(result.content)"
   ]
  }
 ],
 "metadata": {
  "language_info": {
   "name": "python"
  }
 },
 "nbformat": 4,
 "nbformat_minor": 2
}
