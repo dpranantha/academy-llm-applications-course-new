{
 "cells": [
  {
   "cell_type": "code",
   "metadata": {
    "ExecuteTime": {
     "end_time": "2025-03-05T10:55:01.529236Z",
     "start_time": "2025-03-05T10:54:59.997581Z"
    }
   },
   "source": [
    "%reload_ext dotenv\n",
    "%dotenv /Users/dpranantha/Projects/bol/training/academy-llm-applications-course/.env\n",
    "\n",
    "from llm_in_production.llm import instantiate_langchain_model\n",
    "\n",
    "llm = instantiate_langchain_model(llm_provider=\"gcp\")\n",
    "print(f\"LLM region: {llm.location}\")\n",
    "\n",
    "result = llm.invoke(\"hello!\")\n",
    "print(result.content)"
   ],
   "outputs": [
    {
     "name": "stdout",
     "output_type": "stream",
     "text": [
      "LLM region: europe-west1\n",
      "Hello! 👋  What can I do for you today? 😊 \n",
      "\n"
     ]
    }
   ],
   "execution_count": 7
  }
 ],
 "metadata": {
  "language_info": {
   "name": "python"
  },
  "kernelspec": {
   "name": "python3",
   "language": "python",
   "display_name": "Python 3 (ipykernel)"
  }
 },
 "nbformat": 4,
 "nbformat_minor": 2
}
