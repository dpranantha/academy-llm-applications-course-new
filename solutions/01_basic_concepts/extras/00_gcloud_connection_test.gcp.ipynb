{
 "cells": [
  {
   "cell_type": "code",
   "execution_count": null,
   "metadata": {},
   "outputs": [],
   "source": [
    "from llm_in_production.llm import instantiate_langchain_model\n",
    "\n",
    "llm = instantiate_langchain_model(llm_provider=\"gcp\")\n",
    "print(f\"LLM region: {llm.location}\")\n",
    "\n",
    "result = llm.invoke(\"hello!\")\n",
    "print(result.content)"
   ]
  }
 ],
 "metadata": {
  "language_info": {
   "name": "python"
  }
 },
 "nbformat": 4,
 "nbformat_minor": 2
}
