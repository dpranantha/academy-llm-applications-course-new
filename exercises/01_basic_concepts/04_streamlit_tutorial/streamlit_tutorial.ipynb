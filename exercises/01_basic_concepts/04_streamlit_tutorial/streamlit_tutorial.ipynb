{
 "cells": [
  {
   "cell_type": "markdown",
   "metadata": {},
   "source": [
    "# Building Apps with Streamlit\n",
    "\n",
    "Streamlit is an open-source Python library that makes it easy to create and share beautiful, custom web apps for machine learning and data science.\n",
    "\n",
    "We will use streamlit to build our LLM applications, but first, let's take a look at how to use it.\n",
    "\n",
    "![](images/streamlit.gif)\n"
   ]
  },
  {
   "cell_type": "markdown",
   "metadata": {},
   "source": [
    "## How to run a Streamlit App\n",
    "\n",
    "You'll need to save the code for your app in a `.py` Python file.\n",
    "\n",
    "Then to run a Streamlit app, use the following command in your terminal:\n",
    "\n",
    "```\n",
    "streamlit run path/to/your_script.py\n",
    "```\n",
    "\n",
    "Below are some examples demonstrating Streamlit features."
   ]
  },
  {
   "cell_type": "markdown",
   "metadata": {},
   "source": [
    "## Simple streamlit examples\n",
    "\n",
    "### Example 1: Simple Line Chart\n",
    "\n",
    "This code below creates an App that shows a simple line chart of a sine wave.\n",
    "\n",
    "Copy and paste this code to a new file called `simple_line_chart.py`. Remember to save the file!"
   ]
  },
  {
   "cell_type": "code",
   "metadata": {
    "ExecuteTime": {
     "end_time": "2025-03-05T13:05:46.913526Z",
     "start_time": "2025-03-05T13:05:40.483214Z"
    }
   },
   "source": [
    "# %%writefile simple_line_chart.py\n",
    "\n",
    "import numpy as np\n",
    "import streamlit as st\n",
    "\n",
    "st.title(\"Our First Streamlit App\")\n",
    "st.write(\"The description of our app, or some explanatory text.\")\n",
    "\n",
    "x = np.arange(0, 2 * np.pi, 0.01)\n",
    "y = np.sin(x)\n",
    "st.line_chart(y)\n"
   ],
   "outputs": [
    {
     "name": "stderr",
     "output_type": "stream",
     "text": [
      "2025-03-05 14:05:43.990 WARNING streamlit.runtime.scriptrunner_utils.script_run_context: Thread 'MainThread': missing ScriptRunContext! This warning can be ignored when running in bare mode.\n",
      "2025-03-05 14:05:44.159 \n",
      "  \u001B[33m\u001B[1mWarning:\u001B[0m to view this Streamlit app on a browser, run it with the following\n",
      "  command:\n",
      "\n",
      "    streamlit run /Users/dpranantha/Projects/bol/training/academy-llm-applications-course/.venv/lib/python3.12/site-packages/ipykernel_launcher.py [ARGUMENTS]\n",
      "2025-03-05 14:05:44.159 Thread 'MainThread': missing ScriptRunContext! This warning can be ignored when running in bare mode.\n",
      "2025-03-05 14:05:44.160 Thread 'MainThread': missing ScriptRunContext! This warning can be ignored when running in bare mode.\n",
      "2025-03-05 14:05:44.160 Thread 'MainThread': missing ScriptRunContext! This warning can be ignored when running in bare mode.\n",
      "2025-03-05 14:05:44.160 Thread 'MainThread': missing ScriptRunContext! This warning can be ignored when running in bare mode.\n",
      "2025-03-05 14:05:44.160 Thread 'MainThread': missing ScriptRunContext! This warning can be ignored when running in bare mode.\n",
      "2025-03-05 14:05:46.909 Thread 'MainThread': missing ScriptRunContext! This warning can be ignored when running in bare mode.\n",
      "2025-03-05 14:05:46.909 Thread 'MainThread': missing ScriptRunContext! This warning can be ignored when running in bare mode.\n"
     ]
    },
    {
     "data": {
      "text/plain": [
       "DeltaGenerator()"
      ]
     },
     "execution_count": 1,
     "metadata": {},
     "output_type": "execute_result"
    }
   ],
   "execution_count": 1
  },
  {
   "cell_type": "markdown",
   "metadata": {},
   "source": [
    "Run the following command in your **terminal** to start the App:\n",
    "\n",
    "```python\n",
    "uv run streamlit run path/to/simple_line_chart.py\n",
    "```"
   ]
  },
  {
   "cell_type": "markdown",
   "metadata": {},
   "source": [
    "Alternatively, we have written a helper function to save you typing the path to your file.\n",
    "\n",
    "```python\n",
    "uv run invoke simple-line-chat"
   ]
  },
  {
   "cell_type": "markdown",
   "metadata": {},
   "source": [
    "## Example 2: Interactive Line Chart\n",
    "In this example, we add interactivity using sliders to adjust the amplitude and period of the sine wave."
   ]
  },
  {
   "cell_type": "code",
   "execution_count": null,
   "metadata": {},
   "outputs": [],
   "source": [
    "# %%writefile interaction.py\n",
    "\n",
    "import numpy as np\n",
    "import streamlit as st\n",
    "\n",
    "st.title(\"Interactive Line Chart\")\n",
    "st.write(\"Adjust the sliders to modify the sine wave.\")\n",
    "\n",
    "amplitude = st.slider(\"Amplitude\", min_value=0, max_value=10, value=1)\n",
    "period = st.slider(\"Period\", min_value=0, max_value=10, value=1)\n",
    "\n",
    "st.write(f\"This is a sine wave with amplitude **{amplitude}** and period **{period}**.\")\n",
    "\n",
    "x = np.arange(0, 2 * np.pi, 0.01) * period\n",
    "y = amplitude * np.sin(x)\n",
    "st.line_chart(y)\n"
   ]
  },
  {
   "cell_type": "markdown",
   "metadata": {},
   "source": [
    "After creating `interaction.py`, run the following command in your terminal to open the App.\n",
    "\n",
    "```python\n",
    "uv run invoke interaction\n",
    "```"
   ]
  },
  {
   "cell_type": "markdown",
   "metadata": {},
   "source": [
    "## Example 3: Using a Sidebar\n",
    "This example moves the sliders into a sidebar to keep the main interface cleaner."
   ]
  },
  {
   "cell_type": "code",
   "execution_count": null,
   "metadata": {},
   "outputs": [],
   "source": [
    "# %%writefile sidebar.py\n",
    " \n",
    "import numpy as np\n",
    "import streamlit as st\n",
    "\n",
    "st.title(\"Sidebar Controls\")\n",
    "st.write(\"Use the sidebar sliders to modify the sine wave.\")\n",
    "\n",
    "st.sidebar.markdown(\"# Controls\")\n",
    "amplitude = st.sidebar.slider(\"Amplitude\", min_value=0, max_value=10, value=1)\n",
    "period = st.sidebar.slider(\"Period\", min_value=0, max_value=10, value=1)\n",
    "\n",
    "st.write(f\"This is a sine wave with amplitude **{amplitude}** and period **{period}**.\")\n",
    "\n",
    "x = np.arange(0, 2 * np.pi, 0.01)\n",
    "y = amplitude * np.sin(x * period)\n",
    "st.line_chart(y)\n"
   ]
  },
  {
   "cell_type": "markdown",
   "metadata": {},
   "source": [
    "After creating `sidebar.py`, run the following command in your terminal to open the App.\n",
    "\n",
    "```python\n",
    "uv run invoke sidebar"
   ]
  },
  {
   "cell_type": "markdown",
   "metadata": {},
   "source": [
    "We're now ready to start making apps using the **LangChain** API.\n",
    "\n",
    "## Introduction to LangChain\n",
    "\n",
    "In the previous notebook, we explored how to interact directly with language models, like OpenAI's GPT or Google's Gemini (Vertex AI). While these APIs are powerful, working with them directly can become repetitive and cloud-specific.\n",
    "\n",
    "LangChain is a Python-based framework that simplifies the use of language models, providing a cloud-agnostic interface for interacting with providers like Google Vertex AI and (Azure) OpenAI. With LangChain, you can focus on what you want the model to do, not how to interact with different APIs.\n",
    "\n",
    "**Why Use LangChain?**\n",
    "- Cloud-Agnostic: Switch between providers (e.g., OpenAI, Azure, Google) with minimal changes to your code.\n",
    "- Simplified Usage: LangChain abstracts away API-specific details, letting you use models in a more consistent and straightforward way.\n",
    "- Scalability: As your projects grow, LangChain makes it easier to manage interactions with models.\n",
    "\n",
    "\n",
    "Let's import the necessary libraries and create a client for our LLM."
   ]
  },
  {
   "cell_type": "code",
   "metadata": {
    "ExecuteTime": {
     "end_time": "2025-03-05T13:18:11.246699Z",
     "start_time": "2025-03-05T13:18:00.082580Z"
    }
   },
   "source": [
    "from llm_in_production.llm import instantiate_langchain_model\n",
    "import dotenv\n",
    "import pandas as pd\n",
    "\n",
    "\n",
    "dotenv.load_dotenv()\n",
    "\n",
    "# Here we create the client. \n",
    "# Make sure you select the LLM provider that corresponds to the one you are using in this course!\n",
    "client = instantiate_langchain_model(\n",
    "    # llm_provider=\"azure\",\n",
    "    llm_provider=\"gcp\",\n",
    ")\n",
    "client.model_name"
   ],
   "outputs": [
    {
     "data": {
      "text/plain": [
       "'gemini-1.5-flash'"
      ]
     },
     "execution_count": 2,
     "metadata": {},
     "output_type": "execute_result"
    }
   ],
   "execution_count": 2
  },
  {
   "cell_type": "markdown",
   "metadata": {},
   "source": [
    "To use the LangChain client, you can call the `invoke` method. This takes a prompt as input and generates text.\n",
    "\n",
    "The prompt can be a simple **instruction** to follow:"
   ]
  },
  {
   "cell_type": "code",
   "metadata": {
    "ExecuteTime": {
     "end_time": "2025-03-05T13:18:19.838734Z",
     "start_time": "2025-03-05T13:18:14.746147Z"
    }
   },
   "source": [
    "response = client.invoke(\"Hello, tell me about building Apps with streamlit.\")\n",
    "\n",
    "print(response.content)"
   ],
   "outputs": [
    {
     "name": "stdout",
     "output_type": "stream",
     "text": [
      "## Building Apps with Streamlit: A Quick Overview\n",
      "\n",
      "Streamlit is a popular open-source Python library designed for building interactive web applications with minimal coding. It's particularly useful for data scientists and machine learning engineers who want to share their work and insights with others without extensive web development knowledge.\n",
      "\n",
      "**Here's a breakdown of why Streamlit is great and how it works:**\n",
      "\n",
      "**Benefits of Using Streamlit:**\n",
      "\n",
      "* **Rapid Prototyping:**  Streamlit lets you create interactive prototypes quickly, iterating and adding features with ease. \n",
      "* **Focus on Python:** You write your app's logic primarily in Python, leveraging familiar libraries like Pandas, NumPy, Scikit-learn, etc.\n",
      "* **Easy Deployment:** Streamlit makes it simple to deploy your app to the cloud, allowing others to access and interact with it.\n",
      "* **Built-in Components:** Streamlit offers a wide range of pre-built components for UI elements like buttons, sliders, text input, data visualization, and more.\n",
      "* **Customization:** Streamlit allows for customization, allowing you to style and enhance your app's look and feel.\n",
      "\n",
      "**How Streamlit Works:**\n",
      "\n",
      "1. **Python Script:** You write your Streamlit app within a Python script, defining your logic, data processing, and UI elements.\n",
      "2. **Components:** Streamlit provides functions to add UI components like `st.title()`, `st.button()`, `st.slider()`, `st.text_input()`, and more.\n",
      "3. **Execution:** When you run the script, Streamlit automatically starts a web server and displays your app in a web browser.\n",
      "4. **Interaction:** Users interact with the app through the UI elements, and Streamlit handles the updates and data flow behind the scenes.\n",
      "\n",
      "**Example:**\n",
      "\n",
      "```python\n",
      "import streamlit as st\n",
      "\n",
      "st.title(\"Simple Streamlit App\")\n",
      "\n",
      "# Input\n",
      "name = st.text_input(\"Enter your name:\")\n",
      "\n",
      "# Output\n",
      "if st.button(\"Submit\"):\n",
      "    st.write(f\"Hello, {name}!\")\n",
      "```\n",
      "\n",
      "This code creates a basic Streamlit app with a title, a text input for the user's name, and a button to submit the name. When the button is clicked, it displays a greeting with the entered name.\n",
      "\n",
      "**Key Features:**\n",
      "\n",
      "* **Widgets:** Streamlit provides a variety of UI widgets to gather user input, display data, and control the flow of your app.\n",
      "* **Data Visualization:** Easily integrate libraries like Matplotlib, Plotly, and Altair to create interactive charts and graphs.\n",
      "* **Caching:** Improve performance by caching results of expensive computations, reducing loading times.\n",
      "* **Themes:** Customize the look and feel of your app with themes and CSS styling.\n",
      "* **Deployment:** Streamlit offers a simple and intuitive method for deploying your apps to platforms like Heroku, AWS, and Streamlit Cloud.\n",
      "\n",
      "**Getting Started:**\n",
      "\n",
      "1. **Install:** `pip install streamlit`\n",
      "2. **Create:** Create a Python file (e.g., `app.py`)\n",
      "3. **Code:** Write your Streamlit code\n",
      "4. **Run:** Execute the script from your terminal: `streamlit run app.py`\n",
      "5. **Explore:** Streamlit will automatically open your app in a web browser.\n",
      "\n",
      "**In conclusion, Streamlit offers a powerful and user-friendly way to build interactive web applications with Python, empowering data scientists and developers to share their insights and work effectively.**\n",
      "\n"
     ]
    }
   ],
   "execution_count": 3
  },
  {
   "cell_type": "markdown",
   "metadata": {},
   "source": [
    "Or, you can structure your prompt with `role`s.\n",
    "\n",
    "- `system`: This contains the system instructions the model should follow during the conversation.\n",
    "- `user`:  This means that the message is something the user said.\n",
    "- `assistant`: This means that the message is something the assistant/model said."
   ]
  },
  {
   "cell_type": "code",
   "metadata": {
    "ExecuteTime": {
     "end_time": "2025-03-05T13:18:56.547839Z",
     "start_time": "2025-03-05T13:18:52.279623Z"
    }
   },
   "source": [
    "system_prompt = \"You explain Python concepts in a simple and clear manner.\"\n",
    "user_message = \"Can you explain how to build streamlit apps?\"\n",
    "\n",
    "messages = [{\"role\": \"system\", \"content\": system_prompt},\n",
    "           {\"role\": \"user\", \"content\": user_message}]\n",
    "\n",
    "\n",
    "response = client.invoke(\n",
    "    input=messages,\n",
    "    temperature=1.0)\n",
    "\n",
    "print(response.content)"
   ],
   "outputs": [
    {
     "name": "stdout",
     "output_type": "stream",
     "text": [
      "Okay, let's break down how to build Streamlit apps in a simple and clear way:\n",
      "\n",
      "**What is Streamlit?**\n",
      "\n",
      "* Imagine you want to create interactive web apps using Python but don't want to learn complex web frameworks. Streamlit makes this easy! \n",
      "* It's a Python library designed to build beautiful, interactive apps with minimal code. \n",
      "* Think of it as a \"Python for web apps\" – you focus on the logic and Streamlit handles the front-end.\n",
      "\n",
      "**Getting Started**\n",
      "\n",
      "1. **Installation:**  First, make sure you have Python installed. Then, install Streamlit using pip:\n",
      "\n",
      "   ```bash\n",
      "   pip install streamlit\n",
      "   ```\n",
      "\n",
      "2. **Create a Streamlit App:**  Make a new Python file (e.g., `my_app.py`). \n",
      "\n",
      "**Building Your App (Example: Simple Data Visualization)**\n",
      "\n",
      "```python\n",
      "import streamlit as st\n",
      "import pandas as pd\n",
      "\n",
      "# Load your data (replace 'your_data.csv' with your file)\n",
      "data = pd.read_csv('your_data.csv')\n",
      "\n",
      "# Title\n",
      "st.title(\"My Data Dashboard\")\n",
      "\n",
      "# Display the data table\n",
      "st.write(\"Here's your data:\", data)\n",
      "\n",
      "# Create an interactive chart\n",
      "st.line_chart(data['column_name'])  # Replace 'column_name' with a column in your data\n",
      "\n",
      "# Run the app\n",
      "if __name__ == '__main__':\n",
      "    st.run() \n",
      "```\n",
      "\n",
      "**Explanation:**\n",
      "\n",
      "* **Import:** We import `streamlit` for app building and `pandas` for data handling.\n",
      "* **Data Loading:**  Replace `'your_data.csv'` with the actual path to your data file.\n",
      "* **Title:**  `st.title()` sets a title for your app.\n",
      "* **Displaying Data:** `st.write()` prints things like text or data tables.\n",
      "* **Interactive Chart:** `st.line_chart()` creates a line chart based on a data column.\n",
      "* **Running the App:**  `st.run()` tells Streamlit to start the app.\n",
      "\n",
      "**Key Streamlit Components:**\n",
      "\n",
      "* **Widgets:** Widgets let your users interact with your app:\n",
      "    * `st.button(\"Click Me\"):`  A button \n",
      "    * `st.slider(0, 100):` A slider \n",
      "    * `st.text_input(\"Enter your name\"):`  A text input field\n",
      "    * ... and many more!\n",
      "\n",
      "* **Layout:**  Streamlit provides ways to arrange your content:\n",
      "    * `st.sidebar` for a side panel\n",
      "    * `st.columns()` to create multiple columns\n",
      "\n",
      "* **Displaying Data:**  Streamlit excels at visualizing data:\n",
      "    * `st.line_chart()`, `st.bar_chart()`, `st.map()` (for maps), etc.\n",
      "\n",
      "**Running Your App**\n",
      "\n",
      "1. **Terminal:** Open your terminal and navigate to the directory containing your `my_app.py` file.\n",
      "2. **Run:** Type `streamlit run my_app.py` and press Enter.\n",
      "3. **Web App:** Streamlit will open your app in your web browser.\n",
      "\n",
      "**Tips and Tricks:**\n",
      "\n",
      "* **Documentation:** Refer to the official Streamlit documentation for comprehensive information: [https://docs.streamlit.io/](https://docs.streamlit.io/)\n",
      "* **Community:**  Join the Streamlit community forum for help and inspiration: [https://discuss.streamlit.io/](https://discuss.streamlit.io/)\n",
      "* **Examples:**  Explore Streamlit's amazing example apps: [https://github.com/streamlit/streamlit/tree/main/examples](https://github.com/streamlit/streamlit/tree/main/examples)\n",
      "\n",
      "Let me know if you have a specific type of app in mind, and I can provide more tailored guidance.  Happy coding! \n",
      "\n"
     ]
    }
   ],
   "execution_count": 4
  },
  {
   "cell_type": "markdown",
   "metadata": {},
   "source": [
    "## Exercise 4: A Streamlit Chat App\n",
    "\n",
    "Streamlit has great [in-built functionality for building chat apps](https://docs.streamlit.io/develop/tutorials/chat-and-llm-apps/build-conversational-apps).\n",
    "\n",
    "The example below can be used to create a very simple chatbot."
   ]
  },
  {
   "cell_type": "code",
   "execution_count": null,
   "metadata": {},
   "outputs": [],
   "source": [
    "# %%writefile simple_chatbot.py\n",
    "\n",
    "import streamlit as st\n",
    "from llm_in_production.llm import instantiate_langchain_model\n",
    "import dotenv\n",
    "\n",
    "# Step 1: Set up Streamlit UI\n",
    "title = \"Simple Chatbot\"\n",
    "st.set_page_config(\n",
    "    page_title=title,\n",
    "    page_icon=\"👋\",\n",
    ")\n",
    "st.title(title)\n",
    "\n",
    "# Step 2: Create LLM Client\n",
    "dotenv.load_dotenv()\n",
    "\n",
    "# Here we create the client. \n",
    "# Make sure you select the LLM provider that corresponds to the one you are using in this course!\n",
    "client = instantiate_langchain_model(\n",
    "    # llm_provider=\"azure\",\n",
    "    llm_provider=\"gcp\",\n",
    ")\n",
    "st.write(\"Powered by\", client.model_name)\n",
    "\n",
    "\n",
    "# Step 3: Initialize Chat History\n",
    "if \"messages\" not in st.session_state:\n",
    "    st.session_state.messages = []\n",
    "\n",
    "# Step 4: Display Chat History\n",
    "for message in st.session_state.messages:\n",
    "    with st.chat_message(message[\"role\"]):\n",
    "        st.markdown(message[\"content\"])\n",
    "\n",
    "# Step 5: Accept User Input\n",
    "prompt = st.chat_input(\"Say something:\")\n",
    "\n",
    "if prompt:\n",
    "    # Add user message to chat history\n",
    "    input_message = {\"role\": \"user\", \"content\": prompt}\n",
    "    st.session_state.messages.append(input_message)\n",
    "\n",
    "    # Display user message\n",
    "    with st.chat_message(\"user\"):\n",
    "        st.markdown(prompt)\n",
    "\n",
    "    # Simple response logic\n",
    "    response_message = client.invoke(st.session_state.messages).content\n",
    "    \n",
    "    # Display chatbot response\n",
    "    with st.chat_message(\"assistant\"):\n",
    "        st.markdown(response_message)\n",
    "    \n",
    "    # Store assistant response\n",
    "    st.session_state.messages.append(\n",
    "        {\"role\": \"assistant\", \"content\": response_message}\n",
    "    )\n"
   ]
  },
  {
   "cell_type": "markdown",
   "metadata": {},
   "source": [
    "After creating `simple_chatbot.py`, run the following command in your terminal to open the App.\n",
    "\n",
    "```python\n",
    "uv run invoke simple-chatbot"
   ]
  },
  {
   "cell_type": "markdown",
   "metadata": {},
   "source": [
    "## Streamlit LLM Apps"
   ]
  },
  {
   "cell_type": "markdown",
   "metadata": {},
   "source": [
    "Now, that you know Streamlit and LangChain, you've all the tools you need to build your own LLM Chatbot App!\n",
    "\n",
    "Run the following command in your terminal to get started!\n",
    "\n",
    "```python\n",
    "uv run invoke chatot\n",
    "```\n",
    "---"
   ]
  }
 ],
 "metadata": {
  "language_info": {
   "name": "python"
  },
  "kernelspec": {
   "name": "python3",
   "language": "python",
   "display_name": "Python 3 (ipykernel)"
  }
 },
 "nbformat": 4,
 "nbformat_minor": 4
}
