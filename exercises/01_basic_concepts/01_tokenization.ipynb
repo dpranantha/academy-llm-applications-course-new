{
 "cells": [
  {
   "attachments": {},
   "cell_type": "markdown",
   "id": "a61ebce70e82a34b",
   "metadata": {
    "collapsed": false
   },
   "source": [
    "# Exercise 1 - Tokenization\n",
    "In this exercise, we will explore how text is tokenized. The goal is to develop a deeper understanding of the tokenization process and how it varies across different languages.\n",
    "\n",
    "## Tokenization App\n",
    "\n",
    "To see an example, OpenAI provides a clear demonstration of how an application like ChatGPT performs tokenization. You can see the demonstration [here](https://platform.openai.com/tokenizer).\n",
    "\n",
    "![](../../assets/openai-tokenizer.png)\n",
    "\n",
    "## Exercise 1a\n",
    "Using the tool linked above, try to answer the following questions:\n",
    "- What are the characteristics of the English words that do not get split into subtokens? (e.g., length, type of word, rareness, etc.)\n",
    "- What are the characteristics of the English words that get split into subtokens? (e.g., length, type of word, rareness, etc.)\n",
    "\n",
    "After you have examined English words, try to do the same for non-English words. Ideally, use a non-English language you know well. If you do not know any non-English languages, you can use Google Translate to translate some English text. Try to answer the following questions:\n",
    "- What are the characteristics of the non-English words that do not get split into subtokens? (e.g., length, type of word, rareness, etc.)\n",
    "- What are the characteristics of the non-English words that do get split into subtokens? (e.g., length, type of word, rareness, etc.)\n",
    "- Do you notice any differences between the English and non-English tokens? (e.g., number of tokens used, average length of tokens, etc.)\n"
   ]
  },
  {
   "attachments": {},
   "cell_type": "markdown",
   "id": "34fd5c019491377f",
   "metadata": {
    "collapsed": false
   },
   "source": [
    "## Tokenization with Python\n",
    "\n",
    "The tokenizer used in the visualization tool is also available as a Python SDK through the [tiktoken](https://github.com/openai/tiktoken) package.\n",
    "\n",
    "In this exercise, we'll use **tiktoken** to gain a deeper understanding of how tokenization works.\n",
    "\n",
    "Note: While this exercise uses an OpenAI tokenization library, the process is similar across various large language models (LLMs)."
   ]
  },
  {
   "cell_type": "code",
   "id": "8f72239939e2a89c",
   "metadata": {
    "ExecuteTime": {
     "end_time": "2025-03-05T09:49:40.257918Z",
     "start_time": "2025-03-05T09:49:39.872553Z"
    }
   },
   "source": [
    "from tiktoken import encoding_for_model"
   ],
   "outputs": [],
   "execution_count": 1
  },
  {
   "attachments": {},
   "cell_type": "markdown",
   "id": "1416e82039311124",
   "metadata": {
    "collapsed": false
   },
   "source": [
    "Next, we need to select which tokenizer we want to use. "
   ]
  },
  {
   "cell_type": "code",
   "id": "29862ba7",
   "metadata": {
    "ExecuteTime": {
     "end_time": "2025-03-05T09:49:43.952472Z",
     "start_time": "2025-03-05T09:49:42.011342Z"
    }
   },
   "source": [
    "tokenizer = encoding_for_model(\"gpt-4\")"
   ],
   "outputs": [],
   "execution_count": 2
  },
  {
   "attachments": {},
   "cell_type": "markdown",
   "id": "c625dea23e7e8d5a",
   "metadata": {
    "collapsed": false
   },
   "source": [
    "We can now use the tokenizer as follows:\n",
    "- `openai_tokenizer.encode(text)` will return the token indices of the text.\n",
    "- `openai_tokenizer.decode_single_token_bytes(token)` will return the token index in text format.\n"
   ]
  },
  {
   "cell_type": "code",
   "id": "970732a3b358c224",
   "metadata": {
    "ExecuteTime": {
     "end_time": "2025-03-05T10:00:33.912097Z",
     "start_time": "2025-03-05T10:00:33.909571Z"
    }
   },
   "source": [
    "text = \"hello world or hello-world Hello World! I see vcetor vector going gonig\"\n",
    "token_indices = tokenizer.encode(text)\n",
    "tokens = [tokenizer.decode_single_token_bytes(token).decode('utf-8') for token in token_indices]\n",
    "print(\"These are the indices of the tokens:\", token_indices)\n",
    "print(\"These are the tokens in text format:\", tokens)"
   ],
   "outputs": [
    {
     "name": "stdout",
     "output_type": "stream",
     "text": [
      "These are the indices of the tokens: [15339, 1917, 477, 24748, 31184, 22691, 4435, 0, 358, 1518, 25571, 295, 269, 4724, 2133, 64592, 343]\n",
      "These are the tokens in text format: ['hello', ' world', ' or', ' hello', '-world', ' Hello', ' World', '!', ' I', ' see', ' vc', 'et', 'or', ' vector', ' going', ' gon', 'ig']\n"
     ]
    }
   ],
   "execution_count": 18
  },
  {
   "cell_type": "code",
   "id": "97c0da92",
   "metadata": {
    "ExecuteTime": {
     "end_time": "2025-03-05T09:50:01.590526Z",
     "start_time": "2025-03-05T09:50:01.587851Z"
    }
   },
   "source": [
    "text = \"Voici une phrase en Français.\"\n",
    "token_indices = tokenizer.encode(text)\n",
    "tokens = [tokenizer.decode_single_token_bytes(token).decode('utf-8') for token in token_indices]\n",
    "print(\"These are the indices of the tokens:\", token_indices)\n",
    "print(\"These are the tokens in text format:\", tokens)"
   ],
   "outputs": [
    {
     "name": "stdout",
     "output_type": "stream",
     "text": [
      "These are the indices of the tokens: [28615, 3457, 6316, 17571, 665, 84939, 2852, 13]\n",
      "These are the tokens in text format: ['Vo', 'ici', ' une', ' phrase', ' en', ' Franç', 'ais', '.']\n"
     ]
    }
   ],
   "execution_count": 4
  },
  {
   "attachments": {},
   "cell_type": "markdown",
   "id": "f27fd2638b34d9aa",
   "metadata": {
    "collapsed": false
   },
   "source": [
    "## Exercise 1b - Tokenizing different languages\n",
    "Next, we will use the tokenizer to calculate the average token length of an English text and a non-English text.\n",
    "We have given you two example texts, one in English and one in Dutch. You can use these texts or replace them with your own texts."
   ]
  },
  {
   "cell_type": "code",
   "id": "3a09c7003cc66d31",
   "metadata": {
    "ExecuteTime": {
     "end_time": "2025-03-05T09:53:37.698771Z",
     "start_time": "2025-03-05T09:53:37.695970Z"
    }
   },
   "source": [
    "text = \"A windmill is a structure that converts wind power into rotational energy using vanes called sails or blades.\"\n",
    "\n",
    "# YOUR CODE HERE START\n",
    "tokens_indices_2 = tokenizer.encode(text)\n",
    "tokens_2 = [tokenizer.decode_single_token_bytes(token).decode('utf-8') for token in tokens_indices_2]\n",
    "print(tokens_indices_2)\n",
    "print(tokens_2)\n",
    "# YOUR CODE HERE END"
   ],
   "outputs": [
    {
     "name": "stdout",
     "output_type": "stream",
     "text": [
      "[32, 10160, 26064, 374, 264, 6070, 430, 33822, 10160, 2410, 1139, 92371, 4907, 1701, 5355, 288, 2663, 86105, 477, 42742, 13]\n",
      "['A', ' wind', 'mill', ' is', ' a', ' structure', ' that', ' converts', ' wind', ' power', ' into', ' rotational', ' energy', ' using', ' van', 'es', ' called', ' sails', ' or', ' blades', '.']\n"
     ]
    }
   ],
   "execution_count": 11
  },
  {
   "cell_type": "code",
   "id": "e668f3992015b2d8",
   "metadata": {
    "ExecuteTime": {
     "end_time": "2025-03-05T09:54:23.953463Z",
     "start_time": "2025-03-05T09:54:23.949307Z"
    }
   },
   "source": [
    "text = \"Een windmolen is een constructie die windenergie omzet in rotatie-energie met behulp van schoepen die zeilen of bladen worden genoemd.\"\n",
    "\n",
    "# YOUR CODE HERE START\n",
    "tokens_indices_3 = tokenizer.encode(text)\n",
    "tokens_3 = [tokenizer.decode_single_token_bytes(token).decode('utf-8') for token in tokens_indices_3]\n",
    "print(tokens_indices_3)\n",
    "print(tokens_3)\n",
    "# YOUR CODE HERE END"
   ],
   "outputs": [
    {
     "name": "stdout",
     "output_type": "stream",
     "text": [
      "[36, 268, 10160, 76, 17648, 374, 8517, 9429, 648, 2815, 10160, 804, 22235, 8019, 61828, 304, 5868, 26937, 12, 804, 22235, 2322, 2824, 13136, 5355, 78140, 752, 268, 2815, 14017, 23684, 315, 1529, 21825, 31279, 4173, 78, 95210, 13]\n",
      "['E', 'en', ' wind', 'm', 'olen', ' is', ' een', ' construct', 'ie', ' die', ' wind', 'ener', 'gie', ' om', 'zet', ' in', ' rot', 'atie', '-', 'ener', 'gie', ' met', ' beh', 'ulp', ' van', ' scho', 'ep', 'en', ' die', ' ze', 'ilen', ' of', ' bl', 'aden', ' worden', ' gen', 'o', 'emd', '.']\n"
     ]
    }
   ],
   "execution_count": 12
  },
  {
   "metadata": {
    "ExecuteTime": {
     "end_time": "2025-03-05T09:57:13.271296Z",
     "start_time": "2025-03-05T09:57:13.268985Z"
    }
   },
   "cell_type": "code",
   "source": [
    "text = \"ik zie bladjes.\"\n",
    "\n",
    "# YOUR CODE HERE START\n",
    "tokens_indices_4 = tokenizer.encode(text)\n",
    "tokens_4 = [tokenizer.decode_single_token_bytes(token).decode('utf-8') for token in tokens_indices_4]\n",
    "print(tokens_indices_4)\n",
    "print(tokens_4)\n",
    "# YOUR CODE HERE END"
   ],
   "id": "fc7e363b36298e57",
   "outputs": [
    {
     "name": "stdout",
     "output_type": "stream",
     "text": [
      "[1609, 75347, 1529, 329, 21297, 13]\n",
      "['ik', ' zie', ' bl', 'ad', 'jes', '.']\n"
     ]
    }
   ],
   "execution_count": 15
  },
  {
   "cell_type": "markdown",
   "id": "18964503",
   "metadata": {},
   "source": [
    "---"
   ]
  }
 ],
 "metadata": {
  "language_info": {
   "name": "python"
  },
  "kernelspec": {
   "name": "python3",
   "language": "python",
   "display_name": "Python 3 (ipykernel)"
  }
 },
 "nbformat": 4,
 "nbformat_minor": 5
}
