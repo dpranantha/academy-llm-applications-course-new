{
 "cells": [
  {
   "attachments": {},
   "cell_type": "markdown",
   "id": "9fdcd6e0a3ab320c",
   "metadata": {
    "collapsed": false
   },
   "source": [
    "# Exercise 1 - Basic prompt engineering\n",
    "The goal of this exercise is to become familiar with the basic prompt engineering techniques.\n",
    "We do this by first interactively exploring the examples from the slides.\n",
    "Then, we will apply the same techniques to extract information from a dataset of housing descriptions.\n"
   ]
  },
  {
   "cell_type": "markdown",
   "id": "e1a40893",
   "metadata": {},
   "source": [
    "\n",
    "To do this will make use of the cloud-agnostic **LangChain** API.\n",
    "\n",
    "## Introduction to LangChain\n",
    "\n",
    "In the previous chapter, we explored how to interact directly with language models, like OpenAI's GPT or Google's Gemini (Vertex AI). While these APIs are powerful, working with them directly can become repetitive and cloud-specific.\n",
    "\n",
    "LangChain is a Python-based framework that simplifies the use of language models, providing a cloud-agnostic interface for interacting with providers like Google Vertex AI and (Azure) OpenAI. With LangChain, you can focus on what you want the model to do, not how to interact with different APIs.\n",
    "\n",
    "**Why Use LangChain?**\n",
    "- Cloud-Agnostic: Switch between providers (e.g., OpenAI, Azure, Google) with minimal changes to your code.\n",
    "- Simplified Usage: LangChain abstracts away API-specific details, letting you use models in a more consistent and straightforward way.\n",
    "- Scalability: As your projects grow, LangChain makes it easier to manage interactions with models.\n"
   ]
  },
  {
   "cell_type": "markdown",
   "id": "6600ff9a",
   "metadata": {},
   "source": [
    "\n",
    "Let's import the necessary libraries and create a client for our LLM."
   ]
  },
  {
   "cell_type": "code",
   "id": "7aaf5960f5b7e5",
   "metadata": {
    "ExecuteTime": {
     "end_time": "2025-03-06T08:21:21.325589Z",
     "start_time": "2025-03-06T08:21:21.316757Z"
    }
   },
   "source": [
    "from llm_in_production.llm import instantiate_langchain_model\n",
    "import dotenv\n",
    "import pandas as pd\n",
    "\n",
    "\n",
    "dotenv.load_dotenv()\n",
    "\n",
    "# Here we create the client. \n",
    "# Make sure you select the LLM provider that corresponds to the one you are using in this course!\n",
    "client = instantiate_langchain_model(\n",
    "    # llm_provider=\"azure\",\n",
    "    llm_provider=\"gcp\",\n",
    ")\n",
    "client.model_name"
   ],
   "outputs": [
    {
     "data": {
      "text/plain": [
       "'gemini-1.5-flash'"
      ]
     },
     "execution_count": 75,
     "metadata": {},
     "output_type": "execute_result"
    }
   ],
   "execution_count": 75
  },
  {
   "attachments": {},
   "cell_type": "markdown",
   "id": "14055929d19b83e6",
   "metadata": {
    "collapsed": false
   },
   "source": [
    "## Exercise 1a: Examples from the slides\n",
    "In this exercise, you can interactively re-run the examples from the slides.\n",
    "\n",
    "\n",
    "For each example, do the following:\n",
    "- First, run the example as is and observe the output.\n",
    "- Compare how using the LangChain model differs from using the cloud-specific API.\n",
    "- Next, modify the prompt and see how it affects the output.\n",
    "- Optionally, try giving it a different problem to see how it handles that as well.\n"
   ]
  },
  {
   "attachments": {},
   "cell_type": "markdown",
   "id": "be2dc1dbc2852c80",
   "metadata": {
    "collapsed": false
   },
   "source": [
    "### Classification\n",
    "\n",
    "It is possible to write prompts that transform LLMs into classifers.\n"
   ]
  },
  {
   "cell_type": "code",
   "id": "9233b412d97b158a",
   "metadata": {
    "ExecuteTime": {
     "end_time": "2025-03-05T14:23:25.345184Z",
     "start_time": "2025-03-05T14:23:23.944521Z"
    }
   },
   "source": [
    "system_prompt = \"Classify the user messages into neutral, negative, or positive. Respond only with one of the above classes.\"\n",
    "text = \"I think the food was okay.\"\n",
    "\n",
    "messages = [\n",
    "    (\"system\", system_prompt),\n",
    "    (\"human\", text),\n",
    "]\n",
    "response = client.invoke(messages)\n",
    "response.content"
   ],
   "outputs": [
    {
     "data": {
      "text/plain": [
       "'Neutral \\n'"
      ]
     },
     "execution_count": 2,
     "metadata": {},
     "output_type": "execute_result"
    }
   ],
   "execution_count": 2
  },
  {
   "cell_type": "markdown",
   "id": "ad8dbbcb",
   "metadata": {},
   "source": [
    "The prompt above uses a chat-style format, where a system message defines the task (classifying sentiment) and a human message provides the input text, mimicking a conversational interaction with the language model."
   ]
  },
  {
   "attachments": {},
   "cell_type": "markdown",
   "id": "24a4d362165f5bcb",
   "metadata": {
    "collapsed": false
   },
   "source": [
    "### Summarization\n",
    "\n",
    "We can also use the LLM to summarize text. Here we show an example of summarization prompt."
   ]
  },
  {
   "cell_type": "code",
   "id": "4e26efc3ab0089f7",
   "metadata": {
    "ExecuteTime": {
     "end_time": "2025-03-05T14:24:27.598570Z",
     "start_time": "2025-03-05T14:24:27.151007Z"
    }
   },
   "source": [
    "text = \"\"\"\n",
    "Extract the names of locations in the following text.\n",
    "Desired format:\n",
    "Places: Comma separated list of location_names\n",
    "Input: In Paris, love's embrace ignites the night, Venice's canals whisper secrets in moonlight, Berlin's walls echo stories of resilience and might\n",
    "Places: \"\"\"\n",
    "\n",
    "response = client.invoke(\n",
    "    text\n",
    ")\n",
    "completion = response.content.strip()\n",
    "places = completion.split(\",\")\n",
    "print(places)"
   ],
   "outputs": [
    {
     "name": "stdout",
     "output_type": "stream",
     "text": [
      "['Places: Paris', ' Venice', ' Berlin']\n"
     ]
    }
   ],
   "execution_count": 3
  },
  {
   "cell_type": "markdown",
   "id": "10a24aeb",
   "metadata": {},
   "source": [
    "The above eprompt uses an instruction-following format, where a clear instruction and desired output format are provided within the input text. The language model processes the input and generates a response in the specified format, extracting location names from the given text."
   ]
  },
  {
   "attachments": {},
   "cell_type": "markdown",
   "id": "81b635b81d23186f",
   "metadata": {
    "collapsed": false
   },
   "source": [
    "### Chain of thought reasoning\n",
    "For more complex reasoning tasks, we can use the [chain of thought reasoning technique](https://www.promptingguide.ai/techniques/cot#chain-of-thought-cot-prompting). \n",
    "\n",
    "With this style, the LLM first generates a thought by writing down its observations, reasoning, and calculations. Then, it gives as final answer."
   ]
  },
  {
   "attachments": {},
   "cell_type": "markdown",
   "id": "59d39d064bdf65de",
   "metadata": {
    "collapsed": false
   },
   "source": [
    "Using the instruction-following format, the prompt could looks as follows:"
   ]
  },
  {
   "cell_type": "code",
   "id": "d46127d1440f6d87",
   "metadata": {
    "ExecuteTime": {
     "end_time": "2025-03-05T14:24:42.572922Z",
     "start_time": "2025-03-05T14:24:42.570866Z"
    }
   },
   "source": [
    "instruction_prompt = \"\"\"\n",
    "You solve mathematical problems by writing down your reasoning and calculations and then writing down the answer.\n",
    "\n",
    "Respond using this format:\n",
    "Thought: describe here you write reasoning, and calculations need to solve the problem\n",
    "Answer: your answer without any explanation, text or calculations.\n",
    "\n",
    "\n",
    "Problem: I went to the market and bought 10 apples. I gave 2 apples to the neighbor and 2 to the repairman. I then went and bought 5 more apples and ate 1.\n",
    "Thought:\"\"\".strip()\n"
   ],
   "outputs": [],
   "execution_count": 4
  },
  {
   "cell_type": "markdown",
   "id": "583ef133",
   "metadata": {},
   "source": [
    "Whilst using the chat-style format could look like this:"
   ]
  },
  {
   "cell_type": "code",
   "id": "a39a2d86",
   "metadata": {
    "ExecuteTime": {
     "end_time": "2025-03-05T14:25:13.296926Z",
     "start_time": "2025-03-05T14:25:13.294774Z"
    }
   },
   "source": [
    "system_prompt = \"\"\"\n",
    "The user will give you mathematical problems to solve.\n",
    "You should solve the problems and respond with the answer.\n",
    "Respond using this format:\n",
    "Thought: describe here you write reasoning, and calculations need to solve the problem\n",
    "Answer: your answer without any explanation, text or calculations.\n",
    "\"\"\".strip()\n",
    "\n",
    "user_message = \"\"\"\n",
    "I went to the market and bought 10 apples. \n",
    "I gave 2 apples to the neighbor and 2 to the repairman. \n",
    "I then went and bought 5 more apples and ate 1.\n",
    "How many apples did I remain with?\n",
    "\"\"\".strip()\n",
    "\n",
    "chat_prompt = [\n",
    "        {\"role\": \"system\", \"content\": system_prompt},\n",
    "        {\"role\": \"user\", \"content\": user_message},\n",
    "    ]"
   ],
   "outputs": [],
   "execution_count": 5
  },
  {
   "cell_type": "markdown",
   "id": "38026e14",
   "metadata": {},
   "source": [
    "Compare the responses when using the instruction-following and chat-style prompting."
   ]
  },
  {
   "cell_type": "code",
   "id": "bbad22a5",
   "metadata": {
    "ExecuteTime": {
     "end_time": "2025-03-05T14:25:20.847562Z",
     "start_time": "2025-03-05T14:25:20.231584Z"
    }
   },
   "source": [
    "\n",
    "response = client.invoke(\n",
    "    # instruction_prompt,\n",
    "    chat_prompt\n",
    ")\n",
    "completion = response.content\n",
    "print(completion)\n",
    "answer = completion.split(\"Answer:\")[1].strip()\n",
    "print(\"#\" * 80)\n",
    "print(\"Extracted answer:\", answer)"
   ],
   "outputs": [
    {
     "name": "stdout",
     "output_type": "stream",
     "text": [
      "Thought: Start with 10 apples, subtract the 2 given to the neighbor and 2 given to the repairman. Then add the 5 purchased and subtract the 1 eaten. \n",
      "\n",
      "Answer: 11 \n",
      "\n",
      "################################################################################\n",
      "Extracted answer: 11\n"
     ]
    }
   ],
   "execution_count": 6
  },
  {
   "attachments": {},
   "cell_type": "markdown",
   "id": "7b9cce06765fe8ef",
   "metadata": {
    "collapsed": false
   },
   "source": [
    "### Few shot examples\n",
    "Few shot examples are another useful technique to guide the LLM to generate a specific output.\n",
    "It is especially useful when it easier to just show the desired format, instead of describing it.\n",
    "\n",
    "This way of prompting suits the chat-style format."
   ]
  },
  {
   "cell_type": "code",
   "id": "e3d0944759a5777",
   "metadata": {
    "ExecuteTime": {
     "end_time": "2025-03-05T14:26:42.259239Z",
     "start_time": "2025-03-05T14:26:41.765721Z"
    }
   },
   "source": [
    "response = client.invoke(\n",
    "    input=[\n",
    "        {\"role\": \"system\", \"content\": \"Posible values for sentiment: neutral, negative, good\"},\n",
    "        {\"role\": \"user\", \"content\": \"I think the food was okay.\"},\n",
    "        {\"role\": \"assistant\", \"content\": \"Sentiment: neutral\"},\n",
    "        {\"role\": \"user\", \"content\": \"I think the food was bad.\"},\n",
    "        {\"role\": \"assistant\", \"content\": \"Sentiment: negative\"},\n",
    "        {\"role\": \"user\", \"content\": \"I think the food was good.\"},\n",
    "    ],\n",
    "    temperature=0.0,\n",
    ")\n",
    "completion = response.content.strip()\n",
    "print(completion)"
   ],
   "outputs": [
    {
     "name": "stdout",
     "output_type": "stream",
     "text": [
      "Sentiment: good\n"
     ]
    }
   ],
   "execution_count": 7
  },
  {
   "attachments": {},
   "cell_type": "markdown",
   "id": "3ee8309573a5b2bf",
   "metadata": {
    "collapsed": false
   },
   "source": [
    "## Extracting housing information\n",
    "Now that we have seen some examples of prompt engineering, let's apply them to extract information from a dataset of housing descriptions. \n",
    "\n",
    "We have a dataset with house listing descriptions. This description contains information about the house, such as the number of bedrooms, the neighborhood, and whether pets are allowed. However, everybody writes the information slightly differently, making it hard to parse it using regular expressions. Let's try to use the LLM to extract this information.\n",
    "\n",
    "We have also included the known answer for each example in the dataset. This makes it easier to evaluate your solution, although in practice, we would not have this information.\n"
   ]
  },
  {
   "cell_type": "code",
   "id": "4b4ed01463c5d9ba",
   "metadata": {
    "ExecuteTime": {
     "end_time": "2025-03-05T14:27:14.546796Z",
     "start_time": "2025-03-05T14:27:14.481587Z"
    }
   },
   "source": [
    "df = pd.read_csv(\"houses.csv\")\n",
    "print(df.shape)\n",
    "df"
   ],
   "outputs": [
    {
     "name": "stdout",
     "output_type": "stream",
     "text": [
      "(10, 8)\n"
     ]
    },
    {
     "data": {
      "text/plain": [
       "                                         description       city  price  \\\n",
       "0  This tastefully styled one-bedroom apartment i...  Amsterdam   2350   \n",
       "1  Amazing double floor house with 2 balconys (11...  Amsterdam   3250   \n",
       "2  Details:\\n- Size of the property: 78 m2\\n- Num...  Amsterdam   2500   \n",
       "3  On this beautiful location in the Geuzenbuurt,...  Amsterdam   2000   \n",
       "4  Viewings; reequest per e-mail only. Not for st...  Amsterdam   2150   \n",
       "5  Apartment on 1 minute walking distance of the ...  Amsterdam   1900   \n",
       "6  THIS FURNISHED ONE BEDROOM APARTMENT IS LOCATE...  Amsterdam   2050   \n",
       "7  — ENGLISH TRANSLATION BELOW —\\n AANVRAGEN VOOR...  Amsterdam   2400   \n",
       "8  \"This very spacious unfurnished apartment with...  Amsterdam   5000   \n",
       "9  We proudly offer For Rent this spacious, luxur...  Amsterdam   2350   \n",
       "\n",
       "   surface_area        neighborhood  bedrooms   house_type pets_allowed  \n",
       "0            67       Da Costabuurt         1  Appartement      allowed  \n",
       "1           119            Oud-Zuid         3  Appartement      unknown  \n",
       "2            78         Kinkerbuurt         2  Appartement  not_allowed  \n",
       "3            56         Geuzenbuurt         2  Appartement  not_allowed  \n",
       "4            58             De Pijp         1  Appartement      unknown  \n",
       "5            70        Nieuw-Sloten         2  Appartement  not_allowed  \n",
       "6            50        Helmersbuurt         1  Appartement      unknown  \n",
       "7            63             De Pijp         2  Appartement      unknown  \n",
       "8           225         Apollobuurt         6  Appartement      unknown  \n",
       "9            85  Buitenveldert-West         2  Appartement      unknown  "
      ],
      "text/html": [
       "<div>\n",
       "<style scoped>\n",
       "    .dataframe tbody tr th:only-of-type {\n",
       "        vertical-align: middle;\n",
       "    }\n",
       "\n",
       "    .dataframe tbody tr th {\n",
       "        vertical-align: top;\n",
       "    }\n",
       "\n",
       "    .dataframe thead th {\n",
       "        text-align: right;\n",
       "    }\n",
       "</style>\n",
       "<table border=\"1\" class=\"dataframe\">\n",
       "  <thead>\n",
       "    <tr style=\"text-align: right;\">\n",
       "      <th></th>\n",
       "      <th>description</th>\n",
       "      <th>city</th>\n",
       "      <th>price</th>\n",
       "      <th>surface_area</th>\n",
       "      <th>neighborhood</th>\n",
       "      <th>bedrooms</th>\n",
       "      <th>house_type</th>\n",
       "      <th>pets_allowed</th>\n",
       "    </tr>\n",
       "  </thead>\n",
       "  <tbody>\n",
       "    <tr>\n",
       "      <th>0</th>\n",
       "      <td>This tastefully styled one-bedroom apartment i...</td>\n",
       "      <td>Amsterdam</td>\n",
       "      <td>2350</td>\n",
       "      <td>67</td>\n",
       "      <td>Da Costabuurt</td>\n",
       "      <td>1</td>\n",
       "      <td>Appartement</td>\n",
       "      <td>allowed</td>\n",
       "    </tr>\n",
       "    <tr>\n",
       "      <th>1</th>\n",
       "      <td>Amazing double floor house with 2 balconys (11...</td>\n",
       "      <td>Amsterdam</td>\n",
       "      <td>3250</td>\n",
       "      <td>119</td>\n",
       "      <td>Oud-Zuid</td>\n",
       "      <td>3</td>\n",
       "      <td>Appartement</td>\n",
       "      <td>unknown</td>\n",
       "    </tr>\n",
       "    <tr>\n",
       "      <th>2</th>\n",
       "      <td>Details:\\n- Size of the property: 78 m2\\n- Num...</td>\n",
       "      <td>Amsterdam</td>\n",
       "      <td>2500</td>\n",
       "      <td>78</td>\n",
       "      <td>Kinkerbuurt</td>\n",
       "      <td>2</td>\n",
       "      <td>Appartement</td>\n",
       "      <td>not_allowed</td>\n",
       "    </tr>\n",
       "    <tr>\n",
       "      <th>3</th>\n",
       "      <td>On this beautiful location in the Geuzenbuurt,...</td>\n",
       "      <td>Amsterdam</td>\n",
       "      <td>2000</td>\n",
       "      <td>56</td>\n",
       "      <td>Geuzenbuurt</td>\n",
       "      <td>2</td>\n",
       "      <td>Appartement</td>\n",
       "      <td>not_allowed</td>\n",
       "    </tr>\n",
       "    <tr>\n",
       "      <th>4</th>\n",
       "      <td>Viewings; reequest per e-mail only. Not for st...</td>\n",
       "      <td>Amsterdam</td>\n",
       "      <td>2150</td>\n",
       "      <td>58</td>\n",
       "      <td>De Pijp</td>\n",
       "      <td>1</td>\n",
       "      <td>Appartement</td>\n",
       "      <td>unknown</td>\n",
       "    </tr>\n",
       "    <tr>\n",
       "      <th>5</th>\n",
       "      <td>Apartment on 1 minute walking distance of the ...</td>\n",
       "      <td>Amsterdam</td>\n",
       "      <td>1900</td>\n",
       "      <td>70</td>\n",
       "      <td>Nieuw-Sloten</td>\n",
       "      <td>2</td>\n",
       "      <td>Appartement</td>\n",
       "      <td>not_allowed</td>\n",
       "    </tr>\n",
       "    <tr>\n",
       "      <th>6</th>\n",
       "      <td>THIS FURNISHED ONE BEDROOM APARTMENT IS LOCATE...</td>\n",
       "      <td>Amsterdam</td>\n",
       "      <td>2050</td>\n",
       "      <td>50</td>\n",
       "      <td>Helmersbuurt</td>\n",
       "      <td>1</td>\n",
       "      <td>Appartement</td>\n",
       "      <td>unknown</td>\n",
       "    </tr>\n",
       "    <tr>\n",
       "      <th>7</th>\n",
       "      <td>— ENGLISH TRANSLATION BELOW —\\n AANVRAGEN VOOR...</td>\n",
       "      <td>Amsterdam</td>\n",
       "      <td>2400</td>\n",
       "      <td>63</td>\n",
       "      <td>De Pijp</td>\n",
       "      <td>2</td>\n",
       "      <td>Appartement</td>\n",
       "      <td>unknown</td>\n",
       "    </tr>\n",
       "    <tr>\n",
       "      <th>8</th>\n",
       "      <td>\"This very spacious unfurnished apartment with...</td>\n",
       "      <td>Amsterdam</td>\n",
       "      <td>5000</td>\n",
       "      <td>225</td>\n",
       "      <td>Apollobuurt</td>\n",
       "      <td>6</td>\n",
       "      <td>Appartement</td>\n",
       "      <td>unknown</td>\n",
       "    </tr>\n",
       "    <tr>\n",
       "      <th>9</th>\n",
       "      <td>We proudly offer For Rent this spacious, luxur...</td>\n",
       "      <td>Amsterdam</td>\n",
       "      <td>2350</td>\n",
       "      <td>85</td>\n",
       "      <td>Buitenveldert-West</td>\n",
       "      <td>2</td>\n",
       "      <td>Appartement</td>\n",
       "      <td>unknown</td>\n",
       "    </tr>\n",
       "  </tbody>\n",
       "</table>\n",
       "</div>"
      ]
     },
     "execution_count": 8,
     "metadata": {},
     "output_type": "execute_result"
    }
   ],
   "execution_count": 8
  },
  {
   "attachments": {},
   "cell_type": "markdown",
   "id": "8bdd68b3aeb3b91",
   "metadata": {
    "collapsed": false
   },
   "source": [
    "As you can see, we have the following information available:"
   ]
  },
  {
   "cell_type": "code",
   "id": "6764e92261ea6521",
   "metadata": {
    "ExecuteTime": {
     "end_time": "2025-03-05T14:59:10.215824Z",
     "start_time": "2025-03-05T14:59:10.127479Z"
    }
   },
   "source": [
    "house_idx =1\n",
    "row = df.iloc[house_idx]\n",
    "print(\"House:\", house_idx)\n",
    "print(\"City:\", row[\"city\"])\n",
    "print(\"Price:\", row[\"price\"])\n",
    "print(\"Surface area:\", row[\"surface_area\"])\n",
    "print(\"Bedrooms:\", row[\"bedrooms\"])\n",
    "print(\"Description: \", row[\"description\"])\n",
    "print(\"Neigborhood: \", row[\"neighborhood\"])"
   ],
   "outputs": [
    {
     "ename": "IndexError",
     "evalue": "single positional indexer is out-of-bounds",
     "output_type": "error",
     "traceback": [
      "\u001B[0;31m---------------------------------------------------------------------------\u001B[0m",
      "\u001B[0;31mIndexError\u001B[0m                                Traceback (most recent call last)",
      "Cell \u001B[0;32mIn[54], line 2\u001B[0m\n\u001B[1;32m      1\u001B[0m house_idx \u001B[38;5;241m=\u001B[39m\u001B[38;5;241m10\u001B[39m\n\u001B[0;32m----> 2\u001B[0m row \u001B[38;5;241m=\u001B[39m \u001B[43mdf\u001B[49m\u001B[38;5;241;43m.\u001B[39;49m\u001B[43miloc\u001B[49m\u001B[43m[\u001B[49m\u001B[43mhouse_idx\u001B[49m\u001B[43m]\u001B[49m\n\u001B[1;32m      3\u001B[0m \u001B[38;5;28mprint\u001B[39m(\u001B[38;5;124m\"\u001B[39m\u001B[38;5;124mHouse:\u001B[39m\u001B[38;5;124m\"\u001B[39m, house_idx)\n\u001B[1;32m      4\u001B[0m \u001B[38;5;28mprint\u001B[39m(\u001B[38;5;124m\"\u001B[39m\u001B[38;5;124mCity:\u001B[39m\u001B[38;5;124m\"\u001B[39m, row[\u001B[38;5;124m\"\u001B[39m\u001B[38;5;124mcity\u001B[39m\u001B[38;5;124m\"\u001B[39m])\n",
      "File \u001B[0;32m~/Projects/bol/training/academy-llm-applications-course/.venv/lib/python3.12/site-packages/pandas/core/indexing.py:1191\u001B[0m, in \u001B[0;36m_LocationIndexer.__getitem__\u001B[0;34m(self, key)\u001B[0m\n\u001B[1;32m   1189\u001B[0m maybe_callable \u001B[38;5;241m=\u001B[39m com\u001B[38;5;241m.\u001B[39mapply_if_callable(key, \u001B[38;5;28mself\u001B[39m\u001B[38;5;241m.\u001B[39mobj)\n\u001B[1;32m   1190\u001B[0m maybe_callable \u001B[38;5;241m=\u001B[39m \u001B[38;5;28mself\u001B[39m\u001B[38;5;241m.\u001B[39m_check_deprecated_callable_usage(key, maybe_callable)\n\u001B[0;32m-> 1191\u001B[0m \u001B[38;5;28;01mreturn\u001B[39;00m \u001B[38;5;28;43mself\u001B[39;49m\u001B[38;5;241;43m.\u001B[39;49m\u001B[43m_getitem_axis\u001B[49m\u001B[43m(\u001B[49m\u001B[43mmaybe_callable\u001B[49m\u001B[43m,\u001B[49m\u001B[43m \u001B[49m\u001B[43maxis\u001B[49m\u001B[38;5;241;43m=\u001B[39;49m\u001B[43maxis\u001B[49m\u001B[43m)\u001B[49m\n",
      "File \u001B[0;32m~/Projects/bol/training/academy-llm-applications-course/.venv/lib/python3.12/site-packages/pandas/core/indexing.py:1752\u001B[0m, in \u001B[0;36m_iLocIndexer._getitem_axis\u001B[0;34m(self, key, axis)\u001B[0m\n\u001B[1;32m   1749\u001B[0m     \u001B[38;5;28;01mraise\u001B[39;00m \u001B[38;5;167;01mTypeError\u001B[39;00m(\u001B[38;5;124m\"\u001B[39m\u001B[38;5;124mCannot index by location index with a non-integer key\u001B[39m\u001B[38;5;124m\"\u001B[39m)\n\u001B[1;32m   1751\u001B[0m \u001B[38;5;66;03m# validate the location\u001B[39;00m\n\u001B[0;32m-> 1752\u001B[0m \u001B[38;5;28;43mself\u001B[39;49m\u001B[38;5;241;43m.\u001B[39;49m\u001B[43m_validate_integer\u001B[49m\u001B[43m(\u001B[49m\u001B[43mkey\u001B[49m\u001B[43m,\u001B[49m\u001B[43m \u001B[49m\u001B[43maxis\u001B[49m\u001B[43m)\u001B[49m\n\u001B[1;32m   1754\u001B[0m \u001B[38;5;28;01mreturn\u001B[39;00m \u001B[38;5;28mself\u001B[39m\u001B[38;5;241m.\u001B[39mobj\u001B[38;5;241m.\u001B[39m_ixs(key, axis\u001B[38;5;241m=\u001B[39maxis)\n",
      "File \u001B[0;32m~/Projects/bol/training/academy-llm-applications-course/.venv/lib/python3.12/site-packages/pandas/core/indexing.py:1685\u001B[0m, in \u001B[0;36m_iLocIndexer._validate_integer\u001B[0;34m(self, key, axis)\u001B[0m\n\u001B[1;32m   1683\u001B[0m len_axis \u001B[38;5;241m=\u001B[39m \u001B[38;5;28mlen\u001B[39m(\u001B[38;5;28mself\u001B[39m\u001B[38;5;241m.\u001B[39mobj\u001B[38;5;241m.\u001B[39m_get_axis(axis))\n\u001B[1;32m   1684\u001B[0m \u001B[38;5;28;01mif\u001B[39;00m key \u001B[38;5;241m>\u001B[39m\u001B[38;5;241m=\u001B[39m len_axis \u001B[38;5;129;01mor\u001B[39;00m key \u001B[38;5;241m<\u001B[39m \u001B[38;5;241m-\u001B[39mlen_axis:\n\u001B[0;32m-> 1685\u001B[0m     \u001B[38;5;28;01mraise\u001B[39;00m \u001B[38;5;167;01mIndexError\u001B[39;00m(\u001B[38;5;124m\"\u001B[39m\u001B[38;5;124msingle positional indexer is out-of-bounds\u001B[39m\u001B[38;5;124m\"\u001B[39m)\n",
      "\u001B[0;31mIndexError\u001B[0m: single positional indexer is out-of-bounds"
     ]
    }
   ],
   "execution_count": 54
  },
  {
   "attachments": {},
   "cell_type": "markdown",
   "id": "88a0ed04302f9afc",
   "metadata": {
    "collapsed": false
   },
   "source": [
    "## Exercise 1b: Extract the number of bedrooms\n",
    "The first thing we want to extract is the number of bedrooms.\n",
    "This should be a positive integer number.\n",
    "It is your task to write a prompt that extracts this information from the description in the function below.\n",
    "\n",
    "For example:\n",
    "- Description: \"The house has 3 bedrooms and two bathrooms.\"\n",
    "- Extracted number: \"3\"\n",
    "\n",
    "If you run this cell, it will automatically test your function against the known correct answers in the dataset."
   ]
  },
  {
   "cell_type": "code",
   "id": "1d6bb348ce18f211",
   "metadata": {
    "ExecuteTime": {
     "end_time": "2025-03-06T08:30:55.648914Z",
     "start_time": "2025-03-06T08:30:55.318383Z"
    }
   },
   "source": [
    "def extract_n_bedrooms(description: str) -> str:\n",
    "    # YOUR CODE HERE START\n",
    "    system_prompt=\"Extract ONLY the number of bedrooms in the following text. Your response will be only number or digit! A house can have different types of rooms and we are interested only in the number of bedrooms. Only the bedroom, like 1 bedroom or one-bedroom meaning 1.\"\n",
    "    # YOUR CODE HERE END\n",
    "    \n",
    "    # Feel free to change more of the code below if you want to\n",
    "    # This is just a skeleton to get you started\n",
    "    response = client.invoke(\n",
    "        input=[\n",
    "            {\"role\": \"system\", \"content\": system_prompt},\n",
    "            # YOUR CODE HERE START: Optionally add some few shot examples here\n",
    "            {\"role\": \"user\", \"content\": \"The house has 4 rooms: 1 dining room, 1 family room, and 2 bedrooms.\"},\n",
    "            {\"role\": \"system\", \"content\": \"2\"},\n",
    "            {\"role\": \"user\", \"content\": \"This tastefully styled one-bedroom apartment is located in the heart of Amsterdam Oud-West in the Da Costabuurt neighborhood. This beautiful home in the bustling center of Amsterdam tucked away on a quiet street can be your home away from home\"},\n",
    "            {\"role\": \"system\", \"content\": \"1\"},\n",
    "            {\"role\": \"user\", \"content\": \"\"\"Amazing double floor house with 2 balconys (119m2) attached to the canal. Oud-Zuid is a desirable area. It always has been and always will be. Countless monumental buildings, bustling streets, cozy restaurants and trendy shops (Beethovenstraat, Marathonweg en Stadionplein) contribute to the area's unique scene. Sophisticated, but very \"now\". Just around the corner from this street, the entire world is at your fingertips! Private entrance; Very spacious and sun filled living overlooking the Canal; Separate and modern kitchen equipped with all built-in appliances; Master bedroom with double bed and design built in wardrobes Beautiful bathroom, with walk-in shower, double sink and toilet; 2nd (Guest) toilet; large basement for extra storage Separate laundry area (including washer and dryer); 2nd and 3rd bedroom are both very well sized.\"\"\" },\n",
    "            {\"role\": \"system\", \"content\": \"3\"},\n",
    "            # YOUR CODE HERE END\n",
    "            {\"role\": \"user\", \"content\": description},\n",
    "        ],\n",
    "        temperature=0.2,\n",
    "    )\n",
    "    return response.content.strip()\n",
    "\n",
    "\n",
    "# Here we test your function against the known correct answers\n",
    "# Feel free to inspect df[\"bedrooms\"] to get a better understanding go the answers.\n",
    "for i, row in df.iterrows():\n",
    "    n_bedrooms = extract_n_bedrooms(row[\"description\"])\n",
    "    assert n_bedrooms.isdigit() or isinstance(n_bedrooms, float), f\"For row {i}, we got not a number: {n_bedrooms}\"\n",
    "    assert row[\"bedrooms\"] == int(n_bedrooms), f\"For row {i}, we expected {row['bedrooms']} but got {n_bedrooms}\"\n",
    "    print(f\"✅ Row {i} passed `{n_bedrooms}` == `{row['bedrooms']}`\")"
   ],
   "outputs": [
    {
     "ename": "AssertionError",
     "evalue": "For row 0, we got not a number: 2\n1\n1\n2\n1\n1",
     "output_type": "error",
     "traceback": [
      "\u001B[0;31m---------------------------------------------------------------------------\u001B[0m",
      "\u001B[0;31mAssertionError\u001B[0m                            Traceback (most recent call last)",
      "Cell \u001B[0;32mIn[90], line 30\u001B[0m\n\u001B[1;32m     28\u001B[0m \u001B[38;5;28;01mfor\u001B[39;00m i, row \u001B[38;5;129;01min\u001B[39;00m df\u001B[38;5;241m.\u001B[39miterrows():\n\u001B[1;32m     29\u001B[0m     n_bedrooms \u001B[38;5;241m=\u001B[39m extract_n_bedrooms(row[\u001B[38;5;124m\"\u001B[39m\u001B[38;5;124mdescription\u001B[39m\u001B[38;5;124m\"\u001B[39m])\n\u001B[0;32m---> 30\u001B[0m     \u001B[38;5;28;01massert\u001B[39;00m n_bedrooms\u001B[38;5;241m.\u001B[39misdigit() \u001B[38;5;129;01mor\u001B[39;00m \u001B[38;5;28misinstance\u001B[39m(n_bedrooms, \u001B[38;5;28mfloat\u001B[39m), \u001B[38;5;124mf\u001B[39m\u001B[38;5;124m\"\u001B[39m\u001B[38;5;124mFor row \u001B[39m\u001B[38;5;132;01m{\u001B[39;00mi\u001B[38;5;132;01m}\u001B[39;00m\u001B[38;5;124m, we got not a number: \u001B[39m\u001B[38;5;132;01m{\u001B[39;00mn_bedrooms\u001B[38;5;132;01m}\u001B[39;00m\u001B[38;5;124m\"\u001B[39m\n\u001B[1;32m     31\u001B[0m     \u001B[38;5;28;01massert\u001B[39;00m row[\u001B[38;5;124m\"\u001B[39m\u001B[38;5;124mbedrooms\u001B[39m\u001B[38;5;124m\"\u001B[39m] \u001B[38;5;241m==\u001B[39m \u001B[38;5;28mint\u001B[39m(n_bedrooms), \u001B[38;5;124mf\u001B[39m\u001B[38;5;124m\"\u001B[39m\u001B[38;5;124mFor row \u001B[39m\u001B[38;5;132;01m{\u001B[39;00mi\u001B[38;5;132;01m}\u001B[39;00m\u001B[38;5;124m, we expected \u001B[39m\u001B[38;5;132;01m{\u001B[39;00mrow[\u001B[38;5;124m'\u001B[39m\u001B[38;5;124mbedrooms\u001B[39m\u001B[38;5;124m'\u001B[39m]\u001B[38;5;132;01m}\u001B[39;00m\u001B[38;5;124m but got \u001B[39m\u001B[38;5;132;01m{\u001B[39;00mn_bedrooms\u001B[38;5;132;01m}\u001B[39;00m\u001B[38;5;124m\"\u001B[39m\n\u001B[1;32m     32\u001B[0m     \u001B[38;5;28mprint\u001B[39m(\u001B[38;5;124mf\u001B[39m\u001B[38;5;124m\"\u001B[39m\u001B[38;5;124m✅ Row \u001B[39m\u001B[38;5;132;01m{\u001B[39;00mi\u001B[38;5;132;01m}\u001B[39;00m\u001B[38;5;124m passed `\u001B[39m\u001B[38;5;132;01m{\u001B[39;00mn_bedrooms\u001B[38;5;132;01m}\u001B[39;00m\u001B[38;5;124m` == `\u001B[39m\u001B[38;5;132;01m{\u001B[39;00mrow[\u001B[38;5;124m'\u001B[39m\u001B[38;5;124mbedrooms\u001B[39m\u001B[38;5;124m'\u001B[39m]\u001B[38;5;132;01m}\u001B[39;00m\u001B[38;5;124m`\u001B[39m\u001B[38;5;124m\"\u001B[39m)\n",
      "\u001B[0;31mAssertionError\u001B[0m: For row 0, we got not a number: 2\n1\n1\n2\n1\n1"
     ]
    }
   ],
   "execution_count": 90
  },
  {
   "attachments": {},
   "cell_type": "markdown",
   "id": "25ef1e2a7342019f",
   "metadata": {
    "collapsed": false
   },
   "source": [
    "## Exercise 1c: Extract neighborhood name\n",
    "The second thing we want to extract is the name of the neighborhood.\n",
    "This should be a string with the name of the neighborhood.\n",
    "It is your task to write a prompt that extracts this information from the description in the function below.\n",
    "\n",
    "For example:\n",
    "- Description: \"The house is located in De Pijp.\"\n",
    "- Extracted neighborhood: \"De Pijp\"\n",
    "\n",
    "If you run this cell, it will automatically test your function against the known correct answers in the dataset."
   ]
  },
  {
   "cell_type": "code",
   "id": "11b49d7963a57b5e",
   "metadata": {
    "ExecuteTime": {
     "end_time": "2025-03-06T08:26:24.386373Z",
     "start_time": "2025-03-06T08:26:23.932241Z"
    }
   },
   "source": [
    "def extract_neighborhood(description):\n",
    "    # YOUR CODE HERE START\n",
    "    system_prompt=\"Extract ONLY the neighborhood or of a house where the house is located given a house description. Each house has only has one neigbourhood. The format should only the neigborhood name. Neighborhood is not the same as city and neighborhood can belong to bigger neighborhoods, tried to get the most specific one and only that one. Usually it starts with located or followed by neighborhood. It is an area in the smallest part of the city usually one or two words length.\"\n",
    "    # YOUR CODE HERE END\n",
    "    \n",
    "    # Feel free to change more of the code below if you want to\n",
    "    # This is just a skeleton to get you started\n",
    "    response = client.invoke(\n",
    "        input=[\n",
    "            {\"role\": \"system\", \"content\": system_prompt},\n",
    "             # YOUR CODE HERE START: Optionally add some few shot examples here\n",
    "            {\"role\": \"user\", \"content\":  \"It is located in the heart of Amsterdam Oud-West in the Da Costabuurt neighborhood. This beautiful home in the bustling center of Amsterdam tucked away on a quiet street can be your home away from home.\" },\n",
    "            {\"role\": \"system\", \"content\": \"Da Costabuurt\"},\n",
    "            {\"role\": \"user\", \"content\": \"Amazing double floor house in Oud-Zuid is a desirable area.\" },\n",
    "            {\"role\": \"system\", \"content\": \"Oud-Zuid\"},\n",
    "            {\"role\": \"user\", \"content\":  \"On this beautiful location in the Geuzenbuurt, situated between Oud-West and de Baarsjes and conveniently close to the city center, you'll find this stunning 2 bedroom apartment measuring approximately 56 m2, with a balcony and storage. The apartment is located on the most beautiful and wide section of Willem de Zwijgerlaan\" },\n",
    "            {\"role\": \"system\", \"content\": \"Geuzenbuurt\"},\n",
    "            # YOUR CODE HERE END\n",
    "            {\"role\": \"user\", \"content\": description},\n",
    "\n",
    "        ],\n",
    "        temperature=0.0,\n",
    "    )\n",
    "    message = response.content\n",
    "    \n",
    "    return message.replace(\".\", \"\").strip()\n",
    "\n",
    "# Here we test your function against the known correct answers\n",
    "# Feel free to inspect df[\"neighborhood\"] to get a better understanding go the answers.\n",
    "for i, row in df.iterrows():\n",
    "    neighborhood_name = extract_neighborhood(row[\"description\"])\n",
    "    assert neighborhood_name.lower().strip() == row[\"neighborhood\"].lower().strip(), f\"For row {i}, we expected `{row['neighborhood']}` but got `{neighborhood_name}`\"\n",
    "    print(f\"✅ Row {i} passed {neighborhood_name} == {row['neighborhood']}\")\n",
    "    "
   ],
   "outputs": [
    {
     "ename": "AssertionError",
     "evalue": "For row 0, we expected `Da Costabuurt` but got `Da Costabuurt\nOud-Zuid\nGeuzenbuurt \nDa Costabuurt \nOud West`",
     "output_type": "error",
     "traceback": [
      "\u001B[0;31m---------------------------------------------------------------------------\u001B[0m",
      "\u001B[0;31mAssertionError\u001B[0m                            Traceback (most recent call last)",
      "Cell \u001B[0;32mIn[84], line 32\u001B[0m\n\u001B[1;32m     30\u001B[0m \u001B[38;5;28;01mfor\u001B[39;00m i, row \u001B[38;5;129;01min\u001B[39;00m df\u001B[38;5;241m.\u001B[39miterrows():\n\u001B[1;32m     31\u001B[0m     neighborhood_name \u001B[38;5;241m=\u001B[39m extract_neighborhood(row[\u001B[38;5;124m\"\u001B[39m\u001B[38;5;124mdescription\u001B[39m\u001B[38;5;124m\"\u001B[39m])\n\u001B[0;32m---> 32\u001B[0m     \u001B[38;5;28;01massert\u001B[39;00m neighborhood_name\u001B[38;5;241m.\u001B[39mlower()\u001B[38;5;241m.\u001B[39mstrip() \u001B[38;5;241m==\u001B[39m row[\u001B[38;5;124m\"\u001B[39m\u001B[38;5;124mneighborhood\u001B[39m\u001B[38;5;124m\"\u001B[39m]\u001B[38;5;241m.\u001B[39mlower()\u001B[38;5;241m.\u001B[39mstrip(), \u001B[38;5;124mf\u001B[39m\u001B[38;5;124m\"\u001B[39m\u001B[38;5;124mFor row \u001B[39m\u001B[38;5;132;01m{\u001B[39;00mi\u001B[38;5;132;01m}\u001B[39;00m\u001B[38;5;124m, we expected `\u001B[39m\u001B[38;5;132;01m{\u001B[39;00mrow[\u001B[38;5;124m'\u001B[39m\u001B[38;5;124mneighborhood\u001B[39m\u001B[38;5;124m'\u001B[39m]\u001B[38;5;132;01m}\u001B[39;00m\u001B[38;5;124m` but got `\u001B[39m\u001B[38;5;132;01m{\u001B[39;00mneighborhood_name\u001B[38;5;132;01m}\u001B[39;00m\u001B[38;5;124m`\u001B[39m\u001B[38;5;124m\"\u001B[39m\n\u001B[1;32m     33\u001B[0m     \u001B[38;5;28mprint\u001B[39m(\u001B[38;5;124mf\u001B[39m\u001B[38;5;124m\"\u001B[39m\u001B[38;5;124m✅ Row \u001B[39m\u001B[38;5;132;01m{\u001B[39;00mi\u001B[38;5;132;01m}\u001B[39;00m\u001B[38;5;124m passed \u001B[39m\u001B[38;5;132;01m{\u001B[39;00mneighborhood_name\u001B[38;5;132;01m}\u001B[39;00m\u001B[38;5;124m == \u001B[39m\u001B[38;5;132;01m{\u001B[39;00mrow[\u001B[38;5;124m'\u001B[39m\u001B[38;5;124mneighborhood\u001B[39m\u001B[38;5;124m'\u001B[39m]\u001B[38;5;132;01m}\u001B[39;00m\u001B[38;5;124m\"\u001B[39m)\n",
      "\u001B[0;31mAssertionError\u001B[0m: For row 0, we expected `Da Costabuurt` but got `Da Costabuurt\nOud-Zuid\nGeuzenbuurt \nDa Costabuurt \nOud West`"
     ]
    }
   ],
   "execution_count": 84
  },
  {
   "attachments": {},
   "cell_type": "markdown",
   "id": "68c18950e0e42f6f",
   "metadata": {
    "collapsed": false
   },
   "source": [
    "## Exercise 1d: Extract if pets are allowed\n",
    "The last thing we want to extract is whether pets are allowed.\n",
    "This can be one of the following classes:\n",
    "- `allowed`: If the description explicitly mentions that pets are allowed.\n",
    "- `not_allowed`: If the description explicitly mentions that pets are not allowed.\n",
    "- `unknown`: If the description does not explicitly mention whether pets are allowed or not.\n",
    "\n",
    "It is your task to write a prompt that extracts this information from the description in the function below.\n",
    "\n",
    "For example:\n",
    "- Description: \"No dogs allowed.\"\n",
    "- Extracted: \"not_allowed\"\n",
    "\n",
    "If you run this cell, it will automatically test your function against the known correct answers in the dataset."
   ]
  },
  {
   "cell_type": "code",
   "id": "d923bb17eba43d5f",
   "metadata": {
    "ExecuteTime": {
     "end_time": "2025-03-06T08:21:44.555578Z",
     "start_time": "2025-03-06T08:21:41.167794Z"
    }
   },
   "source": [
    "def are_pets_allowed(description):\n",
    "    # YOUR CODE HERE START\n",
    "    system_prompt=\"Extract if the house allows to bring pets like cat or dog. The output should be either allowed, not_allowed, or unknown. If there is no information, just say unknown.\"\n",
    "    # YOUR CODE HERE END\n",
    "\n",
    "    response = client.invoke(\n",
    "        input=[\n",
    "            {\"role\": \"system\", \"content\": system_prompt},\n",
    "            # YOUR CODE HERE START: Optionally, add some few shot examples here\n",
    "            { \"role\": \"user\", \"content\": \"\"\"Conditions:\n",
    "- Pets not allowed\n",
    "- Sharing not allowed\n",
    "- Students not allowed\n",
    "- Smoking not allowed\n",
    "- Tenancy agreements subject to owner’s consent\n",
    "- Measurements not conform NEN 2580\n",
    "The rental price of this house is exclusive Gas/Electricity/Water, TV/Internet and local Taxes.\",Amsterdam,2500,78,Kinkerbuurt,2,Appartement,not_allowed\n",
    "\"On this beautiful location in the Geuzenbuurt, situated between Oud-West and de Baarsjes and conveniently close to the city center, you'll find this stunning 2 bedroom apartment measuring approximately 56 m2, with a balcony and storage. The apartment is located on the most beautiful and wide section of Willem de Zwijgerlaan, offering unobstructed views of the magnificent chestnut trees lining the street and the recently architect-designed courtyard.\n",
    "The apartment has a very practical layout with 2 bedrooms, a separate toilet, a spacious bathroom with a walk-in shower with a glass door and a sink, a spacious modern kitchen equipped with all built-in appliances and a composite countertop. The living room features high ceilings and plenty of natural light, and it adjoins the second bedroom through a beautiful design (steel glass) door. The east-facing balcony (morning sun) spans the entire width of the apartment and overlooks the beautiful courtyard. The garden, just recently landscaped by an architect, is for the exclusive use of the residents and they also have the option to store a bicycle/motorcycle/scooter under the covered area. Additionally, there is a convenient private storage space in the basement.\n",
    "The apartment is part of Geuzenhof I, an unique residential complex recognized as a municipal monument. An active owners association ensures proper maintenance.\n",
    "The location is\"\"\" },\n",
    "            {\"role\": \"system\", \"content\": \"not_allowed\"},\n",
    "            # YOUR CODE HERE END\n",
    "            {\"role\": \"user\", \"content\": description},\n",
    "        ],\n",
    "        temperature=0.0,\n",
    "    )\n",
    "    message = response.content\n",
    "    # YOUR CODE HERE START: Parse the response\n",
    "    return message.replace(\".\", \"\").strip()\n",
    "    # YOUR CODE HERE END\n",
    "\n",
    "# Here we test your function against the known correct answers\n",
    "# Feel free to inspect df[\"neighborhood\"] to get a better understanding go the answers.\n",
    "for i, row in df.iterrows():\n",
    "    pets_allowed = are_pets_allowed(row[\"description\"])\n",
    "    assert pets_allowed in [\"allowed\", \"not_allowed\", \"unknown\"], f\"For row {i}, we got unexpected class: {pets_allowed}\"\n",
    "    assert pets_allowed == row[\"pets_allowed\"], f\"For row {i}, we expected {row['pets_allowed']} but got {pets_allowed}\"\n",
    "    print(f\"✅ Row {i} passed {pets_allowed} == {row['pets_allowed']}\")\n"
   ],
   "outputs": [
    {
     "name": "stdout",
     "output_type": "stream",
     "text": [
      "✅ Row 0 passed allowed == allowed\n",
      "✅ Row 1 passed unknown == unknown\n",
      "✅ Row 2 passed not_allowed == not_allowed\n",
      "✅ Row 3 passed not_allowed == not_allowed\n",
      "✅ Row 4 passed unknown == unknown\n",
      "✅ Row 5 passed not_allowed == not_allowed\n",
      "✅ Row 6 passed unknown == unknown\n",
      "✅ Row 7 passed unknown == unknown\n",
      "✅ Row 8 passed unknown == unknown\n",
      "✅ Row 9 passed unknown == unknown\n"
     ]
    }
   ],
   "execution_count": 76
  },
  {
   "attachments": {},
   "cell_type": "markdown",
   "id": "f6bdef0ae809b952",
   "metadata": {
    "collapsed": false
   },
   "source": [
    "## Exercise 1e: Reflection\n",
    "So far, we have implemented multiple functions that each extract some information from the description.\n",
    "Before we continue, let's reflect on the current approach.\n",
    "- What are the disadvantages of the current approach with separate functions for each extraction task? \n",
    "- How could we improve the current approach?"
   ]
  },
  {
   "attachments": {},
   "cell_type": "markdown",
   "id": "a34f984ab0f285e1",
   "metadata": {
    "collapsed": false
   },
   "source": [
    "## Optional exercise 1f: Combine all the extraction methods into a single prompt\n",
    "Let's try to combine all the extraction methods into a single function.\n",
    "It is your task to write a prompt that extracts this information from the description in the function below.\n",
    "\n",
    "For example:\n",
    "- Description: \"This is a 3 bedrooms house in De Pijp where pets are not allowed.\"\n",
    "- Extracted: `{\"n_bedrooms\": 3, \"neighborhood\": \"De Pijp\", \"pets_allowed\": \"not_allowed\"}`\n",
    "\n",
    "If you run this cell, it will automatically test your function against the known correct answers in the dataset.\n",
    "\n",
    "Note: might need the [json.load](https://docs.python.org/3/library/json.html) function to parse a JSON string into a Python dictionary.\n",
    "\n",
    "Note: In the Chat API, setting `response_format={\"type\": \"json_object\"}` guarantees the ouput is a JSON (although it doesn't guarantee it will be the format we want!)."
   ]
  },
  {
   "cell_type": "code",
   "id": "944f67ede0341252",
   "metadata": {
    "ExecuteTime": {
     "end_time": "2025-03-06T08:21:53.347210Z",
     "start_time": "2025-03-06T08:21:53.051489Z"
    }
   },
   "source": [
    "import json\n",
    "from typing import Any\n",
    "def extract_info(description: str) -> dict[str, Any]:\n",
    "    # YOUR CODE HERE START\n",
    "    system_prompt=\"Extract the number of bedrooms, neighborhood, pets allowed from given house description. The output pets allowed should be either allowed, not_allowed, or unknown. Output should be in JSON.\"\n",
    "    # YOUR CODE HERE END\n",
    "    response = client.invoke(\n",
    "        input=[\n",
    "            {\"role\": \"system\", \"content\": system_prompt},\n",
    "            # YOUR CODE HERE START: Optionally add some few shot examples here\n",
    "            { \"role\": \"user\", \"content\": \"\"\"Conditions: - Pets not allowed. The rental price of this house is exclusive Gas/Electricity/Water, TV/Internet and local Taxes.\",Amsterdam,2500,78,Kinkerbuurt,2,Appartement,not_allowed \"On this beautiful location in the Geuzenbuurt, situated between Oud-West and de Baarsjes and conveniently close to the city center. The apartment has a very practical layout with 2 bedrooms, a separate toilet, a spacious bathroom.\"\"\" },\n",
    "            {\"role\": \"system\", \"content\": \"{ 'n_bedrooms': '2', 'neighborhood': 'Kinkerbuurt', 'pets_allowed': 'not_allowed' }\" },\n",
    "            # YOUR CODE HERE END\n",
    "            {\"role\": \"user\", \"content\": description},\n",
    "        ],\n",
    "        # Optional: some models have a JSON response format which allows you to \n",
    "        # enforce the response format. Uncomment the following lines if you want to use it.\n",
    "        # response_format={\"type\": \"json_object\"}, # OpenAI or Azure\n",
    "        response_mime_type=\"application/json\", # GCP\n",
    "        temperature=0.0,\n",
    "    )\n",
    "    \n",
    "    # YOUR CODE HERE START: Parse the response\n",
    "    data = json.loads(response.content)\n",
    "    print(data)\n",
    "    # YOUR CODE HERE END\n",
    "\n",
    "    # for every value, attempt to cast ints. Keep original value if it fails.\n",
    "    for key in data:\n",
    "        try:\n",
    "            if key == \"n_bedrooms\":\n",
    "                data[key] = int(data[key])\n",
    "        except ValueError:\n",
    "            pass\n",
    "\n",
    "    \n",
    "    return data\n",
    "\n",
    "for i, row in df.iterrows():\n",
    "    info = extract_info(row[\"description\"])\n",
    "    assert info[\"n_bedrooms\"] == row[\"bedrooms\"], f\"For row {i}, we expected {row['bedrooms']} but got {info['n_bedrooms']}\"\n",
    "    assert info[\"neighborhood\"].lower().strip() == row[\"neighborhood\"].lower().strip(), f\"For row {i}, we expected `{row['neighborhood']}` but got `{info['neighborhood']}`\"\n",
    "    assert info[\"pets_allowed\"] == row[\"pets_allowed\"], f\"For row {i}, we expected {row['pets_allowed']} but got {info['pets_allowed']}\"\n",
    "    print(f\"✅ Row {i} passed {info}\")"
   ],
   "outputs": [
    {
     "name": "stdout",
     "output_type": "stream",
     "text": [
      "{'n_bedrooms': '1', 'neighborhood': 'Oud West', 'pets_allowed': 'allowed'}\n"
     ]
    },
    {
     "ename": "AssertionError",
     "evalue": "For row 0, we expected `Da Costabuurt` but got `Oud West`",
     "output_type": "error",
     "traceback": [
      "\u001B[0;31m---------------------------------------------------------------------------\u001B[0m",
      "\u001B[0;31mAssertionError\u001B[0m                            Traceback (most recent call last)",
      "Cell \u001B[0;32mIn[77], line 42\u001B[0m\n\u001B[1;32m     40\u001B[0m info \u001B[38;5;241m=\u001B[39m extract_info(row[\u001B[38;5;124m\"\u001B[39m\u001B[38;5;124mdescription\u001B[39m\u001B[38;5;124m\"\u001B[39m])\n\u001B[1;32m     41\u001B[0m \u001B[38;5;28;01massert\u001B[39;00m info[\u001B[38;5;124m\"\u001B[39m\u001B[38;5;124mn_bedrooms\u001B[39m\u001B[38;5;124m\"\u001B[39m] \u001B[38;5;241m==\u001B[39m row[\u001B[38;5;124m\"\u001B[39m\u001B[38;5;124mbedrooms\u001B[39m\u001B[38;5;124m\"\u001B[39m], \u001B[38;5;124mf\u001B[39m\u001B[38;5;124m\"\u001B[39m\u001B[38;5;124mFor row \u001B[39m\u001B[38;5;132;01m{\u001B[39;00mi\u001B[38;5;132;01m}\u001B[39;00m\u001B[38;5;124m, we expected \u001B[39m\u001B[38;5;132;01m{\u001B[39;00mrow[\u001B[38;5;124m'\u001B[39m\u001B[38;5;124mbedrooms\u001B[39m\u001B[38;5;124m'\u001B[39m]\u001B[38;5;132;01m}\u001B[39;00m\u001B[38;5;124m but got \u001B[39m\u001B[38;5;132;01m{\u001B[39;00minfo[\u001B[38;5;124m'\u001B[39m\u001B[38;5;124mn_bedrooms\u001B[39m\u001B[38;5;124m'\u001B[39m]\u001B[38;5;132;01m}\u001B[39;00m\u001B[38;5;124m\"\u001B[39m\n\u001B[0;32m---> 42\u001B[0m \u001B[38;5;28;01massert\u001B[39;00m info[\u001B[38;5;124m\"\u001B[39m\u001B[38;5;124mneighborhood\u001B[39m\u001B[38;5;124m\"\u001B[39m]\u001B[38;5;241m.\u001B[39mlower()\u001B[38;5;241m.\u001B[39mstrip() \u001B[38;5;241m==\u001B[39m row[\u001B[38;5;124m\"\u001B[39m\u001B[38;5;124mneighborhood\u001B[39m\u001B[38;5;124m\"\u001B[39m]\u001B[38;5;241m.\u001B[39mlower()\u001B[38;5;241m.\u001B[39mstrip(), \u001B[38;5;124mf\u001B[39m\u001B[38;5;124m\"\u001B[39m\u001B[38;5;124mFor row \u001B[39m\u001B[38;5;132;01m{\u001B[39;00mi\u001B[38;5;132;01m}\u001B[39;00m\u001B[38;5;124m, we expected `\u001B[39m\u001B[38;5;132;01m{\u001B[39;00mrow[\u001B[38;5;124m'\u001B[39m\u001B[38;5;124mneighborhood\u001B[39m\u001B[38;5;124m'\u001B[39m]\u001B[38;5;132;01m}\u001B[39;00m\u001B[38;5;124m` but got `\u001B[39m\u001B[38;5;132;01m{\u001B[39;00minfo[\u001B[38;5;124m'\u001B[39m\u001B[38;5;124mneighborhood\u001B[39m\u001B[38;5;124m'\u001B[39m]\u001B[38;5;132;01m}\u001B[39;00m\u001B[38;5;124m`\u001B[39m\u001B[38;5;124m\"\u001B[39m\n\u001B[1;32m     43\u001B[0m \u001B[38;5;28;01massert\u001B[39;00m info[\u001B[38;5;124m\"\u001B[39m\u001B[38;5;124mpets_allowed\u001B[39m\u001B[38;5;124m\"\u001B[39m] \u001B[38;5;241m==\u001B[39m row[\u001B[38;5;124m\"\u001B[39m\u001B[38;5;124mpets_allowed\u001B[39m\u001B[38;5;124m\"\u001B[39m], \u001B[38;5;124mf\u001B[39m\u001B[38;5;124m\"\u001B[39m\u001B[38;5;124mFor row \u001B[39m\u001B[38;5;132;01m{\u001B[39;00mi\u001B[38;5;132;01m}\u001B[39;00m\u001B[38;5;124m, we expected \u001B[39m\u001B[38;5;132;01m{\u001B[39;00mrow[\u001B[38;5;124m'\u001B[39m\u001B[38;5;124mpets_allowed\u001B[39m\u001B[38;5;124m'\u001B[39m]\u001B[38;5;132;01m}\u001B[39;00m\u001B[38;5;124m but got \u001B[39m\u001B[38;5;132;01m{\u001B[39;00minfo[\u001B[38;5;124m'\u001B[39m\u001B[38;5;124mpets_allowed\u001B[39m\u001B[38;5;124m'\u001B[39m]\u001B[38;5;132;01m}\u001B[39;00m\u001B[38;5;124m\"\u001B[39m\n\u001B[1;32m     44\u001B[0m \u001B[38;5;28mprint\u001B[39m(\u001B[38;5;124mf\u001B[39m\u001B[38;5;124m\"\u001B[39m\u001B[38;5;124m✅ Row \u001B[39m\u001B[38;5;132;01m{\u001B[39;00mi\u001B[38;5;132;01m}\u001B[39;00m\u001B[38;5;124m passed \u001B[39m\u001B[38;5;132;01m{\u001B[39;00minfo\u001B[38;5;132;01m}\u001B[39;00m\u001B[38;5;124m\"\u001B[39m)\n",
      "\u001B[0;31mAssertionError\u001B[0m: For row 0, we expected `Da Costabuurt` but got `Oud West`"
     ]
    }
   ],
   "execution_count": 77
  },
  {
   "cell_type": "markdown",
   "id": "eaaebfc1",
   "metadata": {},
   "source": [
    "---"
   ]
  }
 ],
 "metadata": {
  "language_info": {
   "name": "python"
  },
  "kernelspec": {
   "name": "python3",
   "language": "python",
   "display_name": "Python 3 (ipykernel)"
  }
 },
 "nbformat": 4,
 "nbformat_minor": 5
}
