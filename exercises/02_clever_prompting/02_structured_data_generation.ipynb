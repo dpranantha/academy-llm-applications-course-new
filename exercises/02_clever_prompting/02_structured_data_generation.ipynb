{
 "cells": [
  {
   "attachments": {},
   "cell_type": "markdown",
   "id": "57049ed9fbfeeea0",
   "metadata": {
    "collapsed": false
   },
   "source": [
    "# Exercise 2 - Structured information extraction\n",
    "The previous exercise used standard prompt techniques to extract information from a house description. However, this approach was ad hoc and not very robust. \n",
    "\n",
    "In this exercise, we will again extract information from the house, but now we will extract it into a structure data model using Pydantic. This will allow us to:\n",
    "- Validate if the extracted information is correct.\n",
    "- Easily extend the model to extract more information.\n",
    "- Easily parse raw strings into our structured Pydantic model.\n",
    "\n",
    "Before we start, let's import the necessary libraries and create a client for the  LangChain model API."
   ]
  },
  {
   "cell_type": "code",
   "id": "acc0bee845a3d44e",
   "metadata": {
    "ExecuteTime": {
     "end_time": "2025-03-06T08:40:02.541692Z",
     "start_time": "2025-03-06T08:40:02.536988Z"
    }
   },
   "source": [
    "from llm_in_production.llm import instantiate_langchain_model\n",
    "from vertexai.generative_models import GenerationConfig\n",
    "import dotenv\n",
    "import os\n",
    "import pandas as pd\n",
    "from typing import Literal, List, Optional\n",
    "import pydantic\n",
    "import datetime\n",
    "\n",
    "\n",
    "dotenv.load_dotenv()\n",
    "\n",
    "# Here we create the client. \n",
    "# Make sure you select the LLM provider that corresponds to the one you are using in this course!\n",
    "client = instantiate_langchain_model(\n",
    "    # llm_provider=\"azure\",\n",
    "    llm_provider=\"gcp\",\n",
    ")\n",
    "client.model_name"
   ],
   "outputs": [
    {
     "data": {
      "text/plain": [
       "'gemini-1.5-flash'"
      ]
     },
     "execution_count": 13,
     "metadata": {},
     "output_type": "execute_result"
    }
   ],
   "execution_count": 13
  },
  {
   "attachments": {},
   "cell_type": "markdown",
   "id": "2bfc20a06b4ae736",
   "metadata": {
    "collapsed": false
   },
   "source": [
    "## Introduction to Pydantic\n",
    "Before we dive into the exercise, let's first look at [Pydantic](https://docs.pydantic.dev/latest/). Pydantic is a library that allows you to create structured data models in Python. These models can be used to validate if data is correct and to parse raw data into a structured model. Pydantic is used in many Python libraries, including FastAPI and Typer.\n",
    "\n",
    "The syntax for creating a Pydantic model is very similar to the syntax for creating a dataclass. You create a Pydantic model as follows:\n",
    "- Create a class that inherits from `pydantic.BaseModel`.\n",
    "- Add fields to the class. Each field is a class attribute with a type annotation. Pydantic supports all Python types. For example, `int`, `str`, `bool`, `float`, `datetime.datetime`, etc. Pydantic also supports more advanced types such as `typing.List`, `typing.Dict`, and even union type using the `|` operator. For example, `int | None` means that the field can be either an integer or `None`.\n"
   ]
  },
  {
   "cell_type": "code",
   "id": "bf7230da6af61203",
   "metadata": {
    "ExecuteTime": {
     "end_time": "2025-03-06T08:33:48.069646Z",
     "start_time": "2025-03-06T08:33:48.064565Z"
    }
   },
   "source": [
    "# Here we define a Pydantic model.\n",
    "class User(pydantic.BaseModel):\n",
    "    id: int # Optionally, you can add additional information to the fields, such as descriptions.\n",
    "    name: str = pydantic.Field(description=\"The first and last name of the user\")\n",
    "    gender: Literal['unknown', \"male\", \"female\", \"other\"] = pydantic.Field(\n",
    "        \"unknown\", # The default value of the field.\n",
    "        description=\"The gender of the user\"\n",
    "    ) \n",
    "    signup: datetime.datetime | None = pydantic.Field(description=\"The date and time the user signed up\") # None means that its optional.\n",
    "\n",
    "# We can create an instance of the model by passing in the correct types.\n",
    "user = User(id=123, name='John', gender=\"male\", signup=datetime.datetime(2021, 1, 26, 9, 32, 15))\n",
    "print(user)"
   ],
   "outputs": [
    {
     "name": "stdout",
     "output_type": "stream",
     "text": [
      "id=123 name='John' gender='male' signup=datetime.datetime(2021, 1, 26, 9, 32, 15)\n"
     ]
    }
   ],
   "execution_count": 3
  },
  {
   "attachments": {},
   "cell_type": "markdown",
   "id": "9e7db73357a073a3",
   "metadata": {
    "collapsed": false
   },
   "source": [
    "The nice thing about Pydantic is that it can also parse raw JSON into a Pydantic model. For example, we can parse the following JSON into a Pydantic model:"
   ]
  },
  {
   "cell_type": "code",
   "id": "5bce7e34a826e729",
   "metadata": {
    "ExecuteTime": {
     "end_time": "2025-03-06T08:34:01.937274Z",
     "start_time": "2025-03-06T08:34:01.934994Z"
    }
   },
   "source": [
    "# The model_validate_json takes an input a raw JSON string and returns a instance of the model.\n",
    "user = User.model_validate_json('{\"id\": 123, \"name\": \"John\", \"signup\": \"2021-01-26 09:32:15\"}')\n",
    "print(user)"
   ],
   "outputs": [
    {
     "name": "stdout",
     "output_type": "stream",
     "text": [
      "id=123 name='John' gender='unknown' signup=datetime.datetime(2021, 1, 26, 9, 32, 15)\n"
     ]
    }
   ],
   "execution_count": 4
  },
  {
   "attachments": {},
   "cell_type": "markdown",
   "id": "1068d8487a95f2b1",
   "metadata": {
    "collapsed": false
   },
   "source": [
    "Pydantic can also generate JSON schema using the `model_json_schema` method. This is very useful since LLM are very good at understanding these types of schemas and can generate JSON that matches the schema. For example, we can generate the JSON schema for our `User` model using the code bellow.\n",
    "\n",
    "Have a look at this JSON and try to link the different parts of the schema to the fields in the `User` model.\n"
   ]
  },
  {
   "cell_type": "code",
   "id": "50768a2a777cd315",
   "metadata": {
    "ExecuteTime": {
     "end_time": "2025-03-06T08:34:32.680880Z",
     "start_time": "2025-03-06T08:34:32.659277Z"
    }
   },
   "source": [
    "print(User.model_json_schema())"
   ],
   "outputs": [
    {
     "name": "stdout",
     "output_type": "stream",
     "text": [
      "{'properties': {'id': {'title': 'Id', 'type': 'integer'}, 'name': {'description': 'The first and last name of the user', 'title': 'Name', 'type': 'string'}, 'gender': {'default': 'unknown', 'description': 'The gender of the user', 'enum': ['unknown', 'male', 'female', 'other'], 'title': 'Gender', 'type': 'string'}, 'signup': {'anyOf': [{'format': 'date-time', 'type': 'string'}, {'type': 'null'}], 'description': 'The date and time the user signed up', 'title': 'Signup'}}, 'required': ['id', 'name', 'signup'], 'title': 'User', 'type': 'object'}\n"
     ]
    }
   ],
   "execution_count": 5
  },
  {
   "attachments": {},
   "cell_type": "markdown",
   "id": "b3de43106b7ed2e3",
   "metadata": {
    "collapsed": false
   },
   "source": [
    "## Exercise 2a: Demo of pydantic text extraction\n",
    "Let's put it all our pydantic knowledge to together into the following text extraction prompt. \n",
    "\n",
    "In the cell below we create a Pydantic model that can emit the JSON schema of a user's details."
   ]
  },
  {
   "cell_type": "code",
   "id": "98c8fe3169172790",
   "metadata": {
    "ExecuteTime": {
     "end_time": "2025-03-06T08:43:15.484941Z",
     "start_time": "2025-03-06T08:43:15.480468Z"
    }
   },
   "source": [
    "class Address(pydantic.BaseModel):\n",
    "    street: str\n",
    "    number: int\n",
    "    city: str\n",
    "    country: str\n",
    "\n",
    "class User(pydantic.BaseModel):\n",
    "    id: int = pydantic.Field(description=\"The id of the user\")\n",
    "    name: str = pydantic.Field(description=\"The first and last name of the user\")\n",
    "    gender: Literal['unknown', \"male\", \"female\", \"other\"] = pydantic.Field(\"unknown\", description=\"The gender of the user\") \n",
    "    signup: datetime.datetime | None = pydantic.Field(None, description=\"The date and time the user signed up\")\n",
    "    address: Address # You can also use nested models in Pydantic\n",
    "    # YOUR CODE HERE START: Add a new field to the model\n",
    "    characters: Optional[List[str]] | None = pydantic.Field(None, description=\"The characteristic of the user\")\n",
    "    job: str | None = pydantic.Field(None, description=\"The job of the user\")\n",
    "    # YOUR CODE HERE END\n"
   ],
   "outputs": [],
   "execution_count": 17
  },
  {
   "attachments": {},
   "cell_type": "markdown",
   "id": "c7b0030d",
   "metadata": {},
   "source": [
    "In the next cell, the following happens:\n",
    "- We write a system prompt, which explains that the LLM's responses must follow the `User` JSON schema.\n",
    "- We write a small description of a person to send to the LLM.\n",
    "- We ask the LLM to generate a JSON object.\n",
    "- The model responds with this JSON object in raw string format.\n",
    "- We then parse this raw string into a Pydantic model using the `User.model_validate_json` method.\n",
    "- Finally, we print the parsed model.\n",
    "\n",
    "Do the following:\n",
    "1. Run the code as it is. Does it the parsed user match the description?\n",
    "2. Change the user message. Does the parsed user still match the description?\n",
    "3. Add a new field to the `User` model created above (e.g. `job: str`). Does the model still parse the JSON including the new attribute correctly?"
   ]
  },
  {
   "cell_type": "code",
   "id": "3c957211",
   "metadata": {
    "ExecuteTime": {
     "end_time": "2025-03-06T08:43:18.319865Z",
     "start_time": "2025-03-06T08:43:17.531991Z"
    }
   },
   "source": [
    "\n",
    "system_prompt = f\"\"\"\n",
    "The user sends a description of a User. Its your task to extract details from the description.\n",
    "Your response must be valid JSON parsable by Pydantic using the following schema:\n",
    "{User.model_json_schema()}\n",
    "This should not be a JSON Schema, but a JSON object that can be parsed by Pydantic based on the above schema.\n",
    "\"\"\".strip()\n",
    "\n",
    "print(\"System prompt:\")\n",
    "print(system_prompt)\n",
    "print(\"#\" * 80 + \"\\n\")\n",
    "\n",
    "user_message = f\"\"\"\n",
    "John, a compassionate and dedicated male living at 123 Main Street, New York, NY 10030, USA, is a lawyer who is passionate about helping others. Recently, he signed up for a local volunteering program on January 26, 2021. When he signed up received id number 42. Throughout the year, he selflessly contributed his time and skills to various projects, making a profound impact on his community. John's commitment inspired other lawyers colleagues to join him, creating a ripple effect of kindness and compassion.\n",
    "\"\"\".strip()\n",
    "\n",
    "print(\"User message:\")\n",
    "print(user_message)\n",
    "print(\"#\" * 80+ \"\\n\")\n",
    "\n",
    "response = client.invoke(\n",
    "    input=[\n",
    "        {\"role\": \"system\", \"content\": system_prompt},\n",
    "        {\"role\": \"user\", \"content\": user_message},\n",
    "    ],\n",
    "    # Optional: some models have a JSON response format which allows you to \n",
    "    # enforce the response format. Uncomment the following lines if you want to use it.\n",
    "    # response_format={\"type\": \"json_object\"}, # OpenAI or Azure\n",
    "    response_mime_type=\"application/json\", # GCP\n",
    "    temperature=0.0,\n",
    ")\n",
    "\n",
    "\n",
    "message = response.content\n",
    "print(\"Response:\")\n",
    "print(message)\n",
    "print(\"#\" * 80 + \"\\n\")\n",
    "\n",
    "user = User.model_validate_json(message)\n",
    "print(\"Parsed user:\")\n",
    "print(user)"
   ],
   "outputs": [
    {
     "name": "stdout",
     "output_type": "stream",
     "text": [
      "System prompt:\n",
      "The user sends a description of a User. Its your task to extract details from the description.\n",
      "Your response must be valid JSON parsable by Pydantic using the following schema:\n",
      "{'$defs': {'Address': {'properties': {'street': {'title': 'Street', 'type': 'string'}, 'number': {'title': 'Number', 'type': 'integer'}, 'city': {'title': 'City', 'type': 'string'}, 'country': {'title': 'Country', 'type': 'string'}}, 'required': ['street', 'number', 'city', 'country'], 'title': 'Address', 'type': 'object'}}, 'properties': {'id': {'description': 'The id of the user', 'title': 'Id', 'type': 'integer'}, 'name': {'description': 'The first and last name of the user', 'title': 'Name', 'type': 'string'}, 'gender': {'default': 'unknown', 'description': 'The gender of the user', 'enum': ['unknown', 'male', 'female', 'other'], 'title': 'Gender', 'type': 'string'}, 'signup': {'anyOf': [{'format': 'date-time', 'type': 'string'}, {'type': 'null'}], 'default': None, 'description': 'The date and time the user signed up', 'title': 'Signup'}, 'address': {'$ref': '#/$defs/Address'}, 'characters': {'anyOf': [{'items': {'type': 'string'}, 'type': 'array'}, {'type': 'null'}], 'default': None, 'description': 'The characteristic of the user', 'title': 'Characters'}, 'job': {'anyOf': [{'type': 'string'}, {'type': 'null'}], 'default': None, 'description': 'The job of the user', 'title': 'Job'}}, 'required': ['id', 'name', 'address'], 'title': 'User', 'type': 'object'}\n",
      "This should not be a JSON Schema, but a JSON object that can be parsed by Pydantic based on the above schema.\n",
      "################################################################################\n",
      "\n",
      "User message:\n",
      "John, a compassionate and dedicated male living at 123 Main Street, New York, NY 10030, USA, is a lawyer who is passionate about helping others. Recently, he signed up for a local volunteering program on January 26, 2021. When he signed up received id number 42. Throughout the year, he selflessly contributed his time and skills to various projects, making a profound impact on his community. John's commitment inspired other lawyers colleagues to join him, creating a ripple effect of kindness and compassion.\n",
      "################################################################################\n",
      "\n",
      "Response:\n",
      "{\"id\": 42, \"name\": \"John\", \"gender\": \"male\", \"signup\": \"2021-01-26T00:00:00\", \"address\": {\"street\": \"Main Street\", \"number\": 123, \"city\": \"New York\", \"country\": \"USA\"}, \"characters\": [\"compassionate\", \"dedicated\"], \"job\": \"lawyer\"}\n",
      "################################################################################\n",
      "\n",
      "Parsed user:\n",
      "id=42 name='John' gender='male' signup=datetime.datetime(2021, 1, 26, 0, 0) address=Address(street='Main Street', number=123, city='New York', country='USA') characters=['compassionate', 'dedicated'] job='lawyer'\n"
     ]
    }
   ],
   "execution_count": 18
  },
  {
   "attachments": {},
   "cell_type": "markdown",
   "id": "aa4e82c26ef24c08",
   "metadata": {
    "collapsed": false
   },
   "source": [
    "## Validation errors and error handling\n",
    "Besides parsing JSON, Pydantic also validates if raw JSON has the correct types and other constraints. If the JSON is invalid, Pydantic will raise a `ValidationError` error. Additionally, the exception also gives you a clear list of which fields are invalid and why."
   ]
  },
  {
   "cell_type": "code",
   "id": "c320afcadb192f5d",
   "metadata": {
    "ExecuteTime": {
     "end_time": "2025-03-06T08:43:25.345971Z",
     "start_time": "2025-03-06T08:43:25.343902Z"
    }
   },
   "source": [
    "try:\n",
    "    user = User.model_validate_json('{\"id\": \"NaN\", \"name\": \"John\", \"signup\": \"2021-01-26 09:32:15\"}')\n",
    "except pydantic.ValidationError as e:\n",
    "    for error in e.errors():\n",
    "        print(f\"Errors: {error}\")"
   ],
   "outputs": [
    {
     "name": "stdout",
     "output_type": "stream",
     "text": [
      "Errors: {'type': 'int_parsing', 'loc': ('id',), 'msg': 'Input should be a valid integer, unable to parse string as an integer', 'input': 'NaN', 'url': 'https://errors.pydantic.dev/2.9/v/int_parsing'}\n",
      "Errors: {'type': 'missing', 'loc': ('address',), 'msg': 'Field required', 'input': {'id': 'NaN', 'name': 'John', 'signup': '2021-01-26 09:32:15'}, 'url': 'https://errors.pydantic.dev/2.9/v/missing'}\n"
     ]
    }
   ],
   "execution_count": 19
  },
  {
   "attachments": {},
   "cell_type": "markdown",
   "id": "26065ef420c986ad",
   "metadata": {
    "collapsed": false
   },
   "source": [
    "These error messages are very useful since they tell us exactly what is wrong with the JSON. Additionally, they are also in an easy-to-understand format for the LLM. We can leverage this by allowing the LLM to fix its own mistakes. We do exactly that in the cell below. \n",
    "\n",
    "Here, we:\n",
    "- First, create a system prompt with the task description and the JSON schema for the expected response.\n",
    "- We then reuse the previous user description as a user message.\n",
    "- We imagine receiving an invalid response, by hard-coding a response with missing attributes.\n",
    "- When we parse the incorrect response into a Pydantic model, we get a `ValidationError`.\n",
    "- We then use the `e.errors()` method to get a list of errors.\n",
    "- We then create a new user message that tells the LLM what the errors are and how to fix them.\n",
    "- The LLM then responds with a new JSON string that does not have the errors.\n",
    "\n",
    "\n",
    "Please run the cell below to see this in action. Also, try to add other errors to the incorrect response and see if the LLM can fix them such as:\n",
    "- Other missing attributes.\n",
    "- Incorrect types.\n",
    "- etc."
   ]
  },
  {
   "cell_type": "code",
   "id": "71497bba7c0f9287",
   "metadata": {
    "ExecuteTime": {
     "end_time": "2025-03-06T08:44:38.499535Z",
     "start_time": "2025-03-06T08:44:37.750716Z"
    }
   },
   "source": [
    "system_prompt = f\"\"\"\n",
    "The user sends a description of a User. Its your task to extract details from the description.\n",
    "Your response must be valid JSON parsable by Pydantic using the following schema:\n",
    "{User.model_json_schema()}\n",
    "This should not be a JSON Schema, but a JSON object that can be parsed by Pydantic based on the above schema.\n",
    "\"\"\".strip()\n",
    "\n",
    "user_message = f\"\"\"\n",
    "John, a compassionate and dedicated male living at 123 Main Street, New York, NY 10030, USA, is a lawyer who is passionate about helping others. Recently, he signed up for a local volunteering program on January 26, 2021. When he signed up received id number 42. Throughout the year, he selflessly contributed his time and skills to various projects, making a profound impact on his community. John's commitment inspired other lawyers colleagues to join him, creating a ripple effect of kindness and compassion.\n",
    "\"\"\".strip()\n",
    "\n",
    "# This hardcoded response is incorrect since:\n",
    "# - The id is missing.\n",
    "# - the name is missing.\n",
    "incorrect_response = \"\"\"\n",
    "{\n",
    "    \"gender\": \"male\",\n",
    "    \"signup\": \"2021-01-26T00:00:00\",\n",
    "    \"address\": {\n",
    "        \"street\": \"123 Main Street\",\n",
    "        \"number\": 0,\n",
    "        \"city\": \"New York\",\n",
    "        \"country\": \"USA\"\n",
    "    },\n",
    "    \"job\": \"lawyer\"\n",
    "}\n",
    "\"\"\"\n",
    "\n",
    "# Parse the incorrect response into a Pydantic model\n",
    "# This will raise a pydantic.ValidationError\n",
    "try:\n",
    "    User.model_validate_json(incorrect_response)\n",
    "except pydantic.ValidationError as e:\n",
    "    # We then ask the LLM to repair the response by telling it what the errors are.\n",
    "    fix_request_user_message = f\"Your response is incorrect! Respond only with JSON that does not have these errors: {e.errors()}\"\n",
    "    print(\"Fix request user prompt:\")\n",
    "    print(fix_request_user_message)\n",
    "    print(\"#\" * 80)\n",
    "    \n",
    "    # We then include the past message for context since it \n",
    "    # needs the description to find the correct name and id.\n",
    "    response = client.invoke(\n",
    "        input=[\n",
    "            {\"role\": \"system\", \"content\": system_prompt},\n",
    "            {\"role\": \"user\", \"content\": user_message},\n",
    "            {\"role\": \"assistant\", \"content\": incorrect_response},\n",
    "            {\"role\": \"user\", \"content\": fix_request_user_message},\n",
    "        ],\n",
    "        # Optional: some models have a JSON response format which allows you to \n",
    "        # enforce the response format. Uncomment the following lines if you want to use it.\n",
    "        # response_format={\"type\": \"json_object\"}, # OpenAI or Azure\n",
    "        response_mime_type=\"application/json\", # GCP\n",
    "        temperature=0.0,\n",
    "    )\n",
    "\n",
    "    # We then try to parse the (fixed) response again.\n",
    "    message = response.content\n",
    "    print(\"Response after fixing:\")\n",
    "    print(message)\n",
    "    print(\"#\" * 80)\n",
    "    user = User.model_validate_json(message)\n",
    "    print(\"Parsed user after fixing:\")\n",
    "    print(user)"
   ],
   "outputs": [
    {
     "name": "stdout",
     "output_type": "stream",
     "text": [
      "Fix request user prompt:\n",
      "Your response is incorrect! Respond only with JSON that does not have these errors: [{'type': 'missing', 'loc': ('id',), 'msg': 'Field required', 'input': {'gender': 'male', 'signup': '2021-01-26T00:00:00', 'address': {'street': '123 Main Street', 'number': 0, 'city': 'New York', 'country': 'USA'}, 'job': 'lawyer'}, 'url': 'https://errors.pydantic.dev/2.9/v/missing'}, {'type': 'missing', 'loc': ('name',), 'msg': 'Field required', 'input': {'gender': 'male', 'signup': '2021-01-26T00:00:00', 'address': {'street': '123 Main Street', 'number': 0, 'city': 'New York', 'country': 'USA'}, 'job': 'lawyer'}, 'url': 'https://errors.pydantic.dev/2.9/v/missing'}]\n",
      "################################################################################\n",
      "Response after fixing:\n",
      "{\"id\": 42, \"name\": \"John\", \"gender\": \"male\", \"signup\": \"2021-01-26T00:00:00\", \"address\": {\"street\": \"123 Main Street\", \"number\": 123, \"city\": \"New York\", \"country\": \"USA\"}, \"characters\": null, \"job\": \"lawyer\"}\n",
      "################################################################################\n",
      "Parsed user after fixing:\n",
      "id=42 name='John' gender='male' signup=datetime.datetime(2021, 1, 26, 0, 0) address=Address(street='123 Main Street', number=123, city='New York', country='USA') characters=None job='lawyer'\n"
     ]
    }
   ],
   "execution_count": 22
  },
  {
   "attachments": {},
   "cell_type": "markdown",
   "id": "e80db10312bc5d69",
   "metadata": {
    "collapsed": false
   },
   "source": [
    "## Bring Pydantic to the house listing problem\n",
    "We have now seen that we can use Pydantic to:\n",
    "- Specify to an LLM what kind of JSON we want to generate using the `model_json_schema` method.\n",
    "- Parse raw JSON into a Pydantic model using the `model_validate_json` method.\n",
    "- That we get nice error messages if the JSON is invalid.\n",
    "\n",
    "Let's now use these properties to make a more robust information extraction system for our house listing problem.\n",
    "In this problem, although we are mainly interested in extracting the value, we are also interested in additional information, such as:\n",
    "- The thoughts and reasoning that the LLM used to extract the value. As a side benefit, this also allows the LLM to improve its reasoning since it is using chain of thought.\n",
    "- The quotes from the description that were used to extract the value.\n",
    "\n",
    "There are different types of features that can be extracted, for example:\n",
    "- Boolean features: Is a certain feature present in the description? For example, does the house have a garden or a balcony? A house either has this feature or not.\n",
    "- Digit features: A digit feature is a feature that has a numeric value. For example, the number of bedrooms or the price of the house.\n",
    "- String features: A string feature is a feature that has a string value. For example, the name of the neighborhood or the name of the real estate agent, etc.\n",
    "\n",
    "For example, we are interested in the following information:\n",
    "- Whether the house is pet-friendly (boolean feature)\n",
    "- The number of bedrooms (digit feature)\n",
    "- The neighborhood name (string feature)\n",
    "\n",
    "So an output might look something like this:\n",
    "```json\n",
    "{\n",
    "  \"pets_allowed\": {\n",
    "    \"thoughts\": \"The description does mention that pets are not allowed.\",\n",
    "    \"quotes\": [\n",
    "      \"Pets not allowed\"\n",
    "    ],\n",
    "    \"value\": false,\n",
    "  },\n",
    "  \"number_of_bedrooms\": {\n",
    "    \"thoughts\": \"The description mentions the number of bedrooms is 2.\",\n",
    "    \"quotes\": [\n",
    "      \"Number of bedrooms: 2 (the 2nd bedroom has no windows)\"\n",
    "    ],\n",
    "    \"value\": 2\n",
    "  },\n",
    "  \"neighborhood\": {\n",
    "    \"thoughts\": \"The description mentions the neighborhood is Nieuw-Sloten.\",\n",
    "    \"quotes\": [\n",
    "      \"Neighborhood: Nieuw-Sloten\"\n",
    "    ],\n",
    "    \"value\": \"Nieuw-Sloten\",\n",
    "  }\n",
    "}\n",
    "```\n",
    "It can also happen that some information is not present in the description. In that situation, we want something like this:\n",
    "```json\n",
    "{\n",
    "  \"pets_allowed\": {\n",
    "    \"thoughts\": \"The description does not mention anything about pets.\",\n",
    "    \"quotes\": null,\n",
    "    \"value\": null,\n",
    "  },\n",
    "  \"number_of_bedrooms\": {\n",
    "    \"thoughts\": \"The description does not mention anything about bedrooms.\",\n",
    "    \"quotes\": null,\n",
    "    \"value\": null\n",
    "  },\n",
    "  \"neighborhood\": {\n",
    "    \"thoughts\": \"The description does not mention anything about neighborhoods.\",\n",
    "    \"quotes\": null,\n",
    "    \"value\": null\n",
    "  }\n",
    "}\n",
    "```"
   ]
  },
  {
   "attachments": {},
   "cell_type": "markdown",
   "id": "9aaedad8c01a902",
   "metadata": {
    "collapsed": false
   },
   "source": [
    "## Exercise 2b: Create a pydantic model for the structured house information\n",
    "\n",
    "In the example above we gave examples of information we may want to extract, for example, the number of bedrooms or the neighborhood of the property. In the future, we might also want to extract more information from the description. For example, the price of the house, the name of the real estate agent, etc.\n",
    "\n",
    "To make this easier, we will create a `DigitFeature`, `StringFeature`, and `BooleanFeature` class that we can use to extract the different types of features. If we ever have a new feature that we want to extract, we can simply add a new attribute to the `HouseFeatures` model with the correct type of feature.\n",
    "\n",
    "In the cell below, we have already created the `DigitFeature` and `StringFeature` classes and response format: `HouseFeatures`.\n",
    "\n",
    "Your first task is as follows:\n",
    "1. Complete the `BooleanFeature` class. You can use the `DigitFeature` and `StringFeature` classes as an example. The `BooleanFeature` class should have the following properties:\n",
    "    - `quotes`: A list of strings that contains the exact sentences that were used to extract the value. If the feature was not found in the description, this property should be `None`.\n",
    "    - `value`: A boolean that indicates if the feature is present in the description. If the feature was not found in the description, this property should be `None`.\n"
   ]
  },
  {
   "cell_type": "code",
   "id": "b0523ff523a98a98",
   "metadata": {
    "ExecuteTime": {
     "end_time": "2025-03-06T09:54:54.954045Z",
     "start_time": "2025-03-06T09:54:54.944543Z"
    }
   },
   "source": [
    "class DigitFeature(pydantic.BaseModel):\n",
    "    thoughts: str = pydantic.Field(\n",
    "        description=\"Here you write your thought and reasoning about your observations that will help you determine the value\" \n",
    "    )\n",
    "    quotes: list[str] = pydantic.Field(\n",
    "        description=\"The exact sentences where you got the answer from. This property is empty list if value is None.\"\n",
    "    )\n",
    "    value: int | None = pydantic.Field(\n",
    "        default=None, description=\"The exact integer value in the sentences. This property is an empty list if the feature was not found in the description. It must be None if no quotes are found.\"\n",
    "    )\n",
    "    \n",
    "    @pydantic.model_validator(mode='after')\n",
    "    def check_if_no_quotes_value_is_none(self) -> 'DigitFeature':\n",
    "        if len(self.quotes) == 0 and self.value is not None:\n",
    "            raise ValueError('If there are no quotes, the value must be None.')\n",
    "        return self\n",
    "        \n",
    "\n",
    "\n",
    "class StringFeature(pydantic.BaseModel):\n",
    "    thoughts: str = pydantic.Field(\n",
    "        description=\"Here you write your thought and reasoning about your observations that will help you determine the value.\" \n",
    "    )\n",
    "    quotes: list[str] = pydantic.Field(\n",
    "        description=\"The exact sentences or fragments where you got the answer from. This property can contain indirect evidence if the value is inferred.\"\n",
    "    )\n",
    "    value: str | None = pydantic.Field(\n",
    "        description=\"The exact value in the sentences or inferred context. This property is None if the feature was not found in the description.\"\n",
    "    )\n",
    "    \n",
    "    @pydantic.model_validator(mode='after')\n",
    "    def validate_quotes_and_thoughts(self) -> 'StringFeature':\n",
    "        if self.value is not None and len(self.quotes) == 0 and not self.thoughts.strip():\n",
    "            raise ValueError('If there are no quotes, the `thoughts` field must explain the inference clearly.')\n",
    "        return self\n",
    "\n",
    "\n",
    "\n",
    "class BooleanFeature(pydantic.BaseModel):\n",
    "    # YOUR CODE HERE START: Complete the pydantic model by adding the correct fields and descriptions\n",
    "    thoughts: str = pydantic.Field(\n",
    "        description=\"Here you write your thought and reasoning about your observations that will help you determine the value.\"\n",
    "    )\n",
    "    quotes: List[str] = pydantic.Field(\n",
    "        description=\"The exact sentences or fragments where you got the answer from. This property can contain indirect evidence if the value is inferred.\"\n",
    "    )\n",
    "    value: bool | None = pydantic.Field(default=None,\n",
    "        description=\"The exact value in the sentences or inferred context with value either True or False. This property is None if the feature was not found in the description.\"\n",
    "    )\n",
    "\n",
    "    @pydantic.model_validator(mode='after')\n",
    "    def check_if_no_quotes_value_is_none(self) -> 'BooleanFeature':\n",
    "        if len(self.quotes) == 0 and self.value is not None:\n",
    "            raise ValueError('If there are no quotes, the value must be None.')\n",
    "        return self\n",
    "    # YOUR CODE HERE END\n",
    "\n",
    "class FloatFeature(pydantic.BaseModel):\n",
    "    # YOUR CODE HERE START: Complete the pydantic model by adding the correct fields and descriptions\n",
    "    thoughts: str = pydantic.Field(\n",
    "        description=\"Here you write your thought and reasoning about your observations that will help you determine the value.\"\n",
    "    )\n",
    "    quotes: List[str] = pydantic.Field(\n",
    "        description=\"The exact sentences or fragments where you got the answer from. This property can contain indirect evidence if the value is inferred.\"\n",
    "    )\n",
    "    value: float | None = pydantic.Field(default=None,\n",
    "                                        description=\"The exact value in the sentences or inferred context with value either True or False. This property is None if the feature was not found in the description.\"\n",
    "                                        )\n",
    "\n",
    "    @pydantic.model_validator(mode='after')\n",
    "    def check_if_no_quotes_value_is_none(self) -> 'FloatFeature':\n",
    "        if len(self.quotes) == 0 and self.value is not None:\n",
    "            raise ValueError('If there are no quotes, the value must be None.')\n",
    "        return self\n",
    "    # YOUR CODE HERE END"
   ],
   "outputs": [],
   "execution_count": 76
  },
  {
   "attachments": {},
   "cell_type": "markdown",
   "id": "2c37c085",
   "metadata": {},
   "source": [
    "Your second task is as follows:\n",
    "\n",
    "2. Add a `pets_allowed` attribute to the `HouseFeatures` class with the correct type and description. You can use the `number_of_bedrooms` and `neighborhood` attributes as an example.\n",
    "\n",
    "Run the cell and check if all tests pass."
   ]
  },
  {
   "cell_type": "code",
   "id": "6eaf854f",
   "metadata": {
    "ExecuteTime": {
     "end_time": "2025-03-06T09:21:32.415944Z",
     "start_time": "2025-03-06T09:21:32.410939Z"
    }
   },
   "source": [
    "class HouseFeatures(pydantic.BaseModel):\n",
    "    \"\"\"Extracted house listing features\"\"\"\n",
    "    number_of_bedrooms: DigitFeature = pydantic.Field(description=\"The number of bedrooms in the house\")\n",
    "    neighborhood: StringFeature = pydantic.Field(description=\"The name of the neighborhood where the house is located. Do not include the city name.\")\n",
    "    # YOUR CODE HERE START: Add the boolean feature for pets_allowed and add a description with pydantic.Field\n",
    "    pets_allowed: BooleanFeature = pydantic.Field(description=\"The status if pet is allowed in the house.\")\n",
    "    # YOUR CODE HERE END\n",
    "    \n",
    "# Below are some automated tests to check if your Pydantic model is correct.\n",
    "raw_feature = {\"thoughts\": \"The description mentions a garden.\", \"quotes\": [\"The house has a garden\"], \"value\": True}\n",
    "feature = BooleanFeature.model_validate(raw_feature)\n",
    "assert feature.quotes == raw_feature[\"quotes\"]\n",
    "assert feature.value == raw_feature[\"value\"]\n",
    "\n",
    "raw_feature = {\"thoughts\": \"The description is empty.\", \"quotes\": [], \"value\": None}\n",
    "feature = BooleanFeature.model_validate(raw_feature)\n",
    "assert feature.quotes == raw_feature[\"quotes\"]\n",
    "assert feature.value == raw_feature[\"value\"]\n",
    "\n",
    "raw_feature = {\"thoughts\": \"This reponds is invalid.\", \"quotes\": [], \"value\": True}\n",
    "try:\n",
    "    feature = BooleanFeature.model_validate(raw_feature)\n",
    "    assert False, \"It looks like the model does not raise an error if the quotes are empty but the value is not None\"\n",
    "except pydantic.ValidationError as e:\n",
    "    pass\n",
    "\n",
    "\n",
    "raw_house_featues = {\n",
    "    \"pets_allowed\": {\n",
    "        \"thoughts\": \"The description mentions that pets are not allowed.\",\n",
    "        \"quotes\": [\"Pets not allowed\"],\n",
    "        \"value\": False,\n",
    "    },\n",
    "    \"number_of_bedrooms\": {\n",
    "        \"thoughts\": \"The description mentions the number of bedrooms.\",\n",
    "        \"quotes\": [\"Number of bedrooms: 2 (the 2nd bedroom has no windows)\"],\n",
    "        \"value\": 2,\n",
    "    },\n",
    "    \"neighborhood\": {\n",
    "        \"thoughts\": \"The description mentions the neighborhood.\",\n",
    "        \"quotes\": [\"Neighborhood: Nieuw-Sloten\"],\n",
    "        \"value\": \"Nieuw-Sloten\",\n",
    "    },\n",
    "}\n",
    "feature = HouseFeatures.model_validate(raw_house_featues)\n",
    "assert feature.pets_allowed.quotes == raw_house_featues[\"pets_allowed\"][\"quotes\"], \"It looks like the quotes are not parsed correctly for the pets_allowed feature\"\n",
    "assert feature.pets_allowed.value == raw_house_featues[\"pets_allowed\"][\"value\"], \"It looks like the value is not parsed correctly for the pets_allowed feature\"\n",
    "assert feature.number_of_bedrooms.quotes == raw_house_featues[\"number_of_bedrooms\"][\"quotes\"], \"It looks like the quotes are not parsed correctly for the number_of_bedrooms feature\"\n",
    "assert feature.number_of_bedrooms.value == raw_house_featues[\"number_of_bedrooms\"][\"value\"], \"It looks like the value is not parsed correctly for the number_of_bedrooms feature\"\n",
    "assert feature.neighborhood.quotes == raw_house_featues[\"neighborhood\"][\"quotes\"], \"It looks like the quotes are not parsed correctly for the neighborhood feature\"\n",
    "assert feature.neighborhood.value == raw_house_featues[\"neighborhood\"][\"value\"], \"It looks like the value is not parsed correctly for the neighborhood feature\""
   ],
   "outputs": [],
   "execution_count": 62
  },
  {
   "attachments": {},
   "cell_type": "markdown",
   "id": "a73db8c1f46be00",
   "metadata": {
    "collapsed": false
   },
   "source": [
    "## Exercise 2c: Explore the json schema\n",
    "We now have a Pydantic model that describes how to structure the information we extract from the description.\n",
    "\n",
    "Now, the big question is, is it informative enough for the LLM to generate the correct JSON?\n",
    "\n",
    "To answer this question, let's first explore the JSON schema ourselves.\n",
    "Run the cell bellow to inspect the JSON schema.\n",
    "\n",
    "Read through the JSON schema and try to link the different parts of the schema to the fields in the `HouseFeatures` model.\n",
    "Then ask yourself the following questions:\n",
    "- What happens if you:\n",
    "    - Change the `description` of a field?\n",
    "    - What happens if you change the `default` of a field?\n",
    "    - What if change the docstring of a class? \n",
    "- Are the descriptions of the fields correct?\n",
    "- Do the descriptions contain enough information to tell the LLM what kind of value we want to extract?\n",
    "\n",
    "Note: there is a lot of information in the JSON schema. Don't worry if you don't understand everything. Mainly focus on the `description` fields and `type` fields."
   ]
  },
  {
   "cell_type": "code",
   "id": "ca5583dbffc9535c",
   "metadata": {
    "ExecuteTime": {
     "end_time": "2025-03-06T09:19:31.225532Z",
     "start_time": "2025-03-06T09:19:31.221099Z"
    }
   },
   "source": [
    "HouseFeatures.model_json_schema()"
   ],
   "outputs": [
    {
     "data": {
      "text/plain": [
       "{'$defs': {'BooleanFeature': {'properties': {'thoughts': {'description': 'Here you write your thought and reasoning about your observations that will help you determine the value.',\n",
       "     'title': 'Thoughts',\n",
       "     'type': 'string'},\n",
       "    'quotes': {'default': None,\n",
       "     'description': 'The exact sentences or fragments where you got the answer from. This property can contain indirect evidence if the value is inferred.',\n",
       "     'items': {'type': 'string'},\n",
       "     'title': 'Quotes',\n",
       "     'type': 'array'},\n",
       "    'value': {'anyOf': [{'type': 'boolean'}, {'type': 'null'}],\n",
       "     'default': None,\n",
       "     'description': 'The exact value in the sentences or inferred context with value either True or False. This property is None if the feature was not found in the description.',\n",
       "     'title': 'Value'}},\n",
       "   'required': ['thoughts'],\n",
       "   'title': 'BooleanFeature',\n",
       "   'type': 'object'},\n",
       "  'DigitFeature': {'properties': {'thoughts': {'description': 'Here you write your thought and reasoning about your observations that will help you determine the value',\n",
       "     'title': 'Thoughts',\n",
       "     'type': 'string'},\n",
       "    'quotes': {'description': 'The exact sentences where you got the answer from. This property is empty list if value is None.',\n",
       "     'items': {'type': 'string'},\n",
       "     'title': 'Quotes',\n",
       "     'type': 'array'},\n",
       "    'value': {'anyOf': [{'type': 'integer'}, {'type': 'null'}],\n",
       "     'default': None,\n",
       "     'description': 'The exact integer value in the sentences. This property is an empty list if the feature was not found in the description. It must be None if no quotes are found.',\n",
       "     'title': 'Value'}},\n",
       "   'required': ['thoughts', 'quotes'],\n",
       "   'title': 'DigitFeature',\n",
       "   'type': 'object'},\n",
       "  'StringFeature': {'properties': {'thoughts': {'description': 'Here you write your thought and reasoning about your observations that will help you determine the value.',\n",
       "     'title': 'Thoughts',\n",
       "     'type': 'string'},\n",
       "    'quotes': {'description': 'The exact sentences or fragments where you got the answer from. This property can contain indirect evidence if the value is inferred.',\n",
       "     'items': {'type': 'string'},\n",
       "     'title': 'Quotes',\n",
       "     'type': 'array'},\n",
       "    'value': {'anyOf': [{'type': 'string'}, {'type': 'null'}],\n",
       "     'description': 'The exact value in the sentences or inferred context. This property is None if the feature was not found in the description.',\n",
       "     'title': 'Value'}},\n",
       "   'required': ['thoughts', 'quotes', 'value'],\n",
       "   'title': 'StringFeature',\n",
       "   'type': 'object'}},\n",
       " 'description': 'Extracted house listing features',\n",
       " 'properties': {'number_of_bedrooms': {'$ref': '#/$defs/DigitFeature',\n",
       "   'description': 'The number of bedrooms in the house'},\n",
       "  'neighborhood': {'$ref': '#/$defs/StringFeature',\n",
       "   'description': 'The name of the neighborhood where the house is located. Do not include the city name.'},\n",
       "  'pets_allowed': {'$ref': '#/$defs/BooleanFeature',\n",
       "   'description': 'The status if pet is allowed in the house.'}},\n",
       " 'required': ['number_of_bedrooms', 'neighborhood', 'pets_allowed'],\n",
       " 'title': 'HouseFeatures',\n",
       " 'type': 'object'}"
      ]
     },
     "execution_count": 50,
     "metadata": {},
     "output_type": "execute_result"
    }
   ],
   "execution_count": 50
  },
  {
   "attachments": {},
   "cell_type": "markdown",
   "id": "da06957796c17b8",
   "metadata": {
    "collapsed": false
   },
   "source": [
    "## Exercise 2d: Extracting information from the descriptions\n",
    "Now that we have a Pydantic model that describes the structure of the extracted information, let's use it to extract information from the descriptions.\n",
    "\n",
    "In the cell below, we have already created a function that extracts information from a description using the LLM. Notice that we have also specified that the model ouput should be [JSON](https://learn.microsoft.com/en-us/azure/ai-services/openai/how-to/json-mode?tabs=python#json-mode-support). However, please note that JSON mode does not guarantee the output matches any specific schema.\n",
    "\n",
    "Your task is as follows:\n",
    "1. Write the prompt that tells the LLM what kind of JSON we want to generate. You can use the `HouseFeatures.model_json_schema()` method to generate the JSON schema.\n",
    "2. Parse the response from the LLM into a `HouseFeatures` model using the `HouseFeatures.model_validate_json` method.\n",
    "3. Run the cell and check if all tests pass. If not, try to improve the system prompt."
   ]
  },
  {
   "cell_type": "code",
   "id": "1c665674bbec936f",
   "metadata": {
    "ExecuteTime": {
     "end_time": "2025-03-06T09:34:46.366673Z",
     "start_time": "2025-03-06T09:34:46.363439Z"
    }
   },
   "source": [
    "def extract_info(description):\n",
    "    \n",
    "    # YOUR CODE HERE START: Replace this your system prompt you can the above system prompt as an example.\n",
    "    system_prompt = f\"\"\"The user sends a description of a House. Its your task to extract details from the description.\n",
    "    Your response must be valid JSON parsable by Pydantic using the following schema:\n",
    "    {HouseFeatures.model_json_schema()}\n",
    "    This should not be a JSON Schema, but a JSON object that can be parsed by Pydantic based on the above schema.\n",
    "    \"\"\"\n",
    "    # YOUR CODE HERE END\n",
    "    \n",
    "    messages = [\n",
    "        {\"role\": \"system\", \"content\": system_prompt},\n",
    "        {\"role\": \"user\", \"content\": description},\n",
    "    ]\n",
    "    response = client.invoke(\n",
    "        input=messages,\n",
    "        # Optional: some models have a JSON response format which allows you to \n",
    "        # enforce the response format. Uncomment the following lines if you want to use it.\n",
    "        # response_format={\"type\": \"json_object\"}, # OpenAI or Azure\n",
    "        response_mime_type=\"application/json\", # GCP\n",
    "        temperature=0.0,\n",
    "    )\n",
    "\n",
    "    message = response.content\n",
    "    \n",
    "    try:\n",
    "        # YOUR CODE HERE START: Replace this with your code to parse the message into a HouseFeatures model\n",
    "        HouseFeatures.model_validate_json(incorrect_response)\n",
    "        # YOUR CODE HERE END    \n",
    "    except pydantic.ValidationError as e:\n",
    "        #print(\"LLM response:\")\n",
    "        #print(message)\n",
    "        print(\"Errors:\")\n",
    "        print(e.errors())\n",
    "        print(\"Asking the LLM to fix the errors:\")\n",
    "\n",
    "        messages.append({\n",
    "            \"role\": \"user\", \n",
    "            # Write a user message that tells the LLM about the errors in its response `e.errors()`\n",
    "            # and tell the LLM to respond with JSON that does not have these errors.\n",
    "            # YOUR CODE HERE START:\n",
    "            \"content\": f\"Your response is incorrect! Respond only with JSON that does not have these errors: {e.errors()}\"\n",
    "            # YOUR CODE HERE END\n",
    "        })\n",
    "        response = client.invoke(\n",
    "            input=messages,\n",
    "            # Optional: some models have a JSON response format which allows you to \n",
    "            # enforce the response format. Uncomment the following lines if you want to use it.\n",
    "            # response_format={\"type\": \"json_object\"}, # OpenAI or Azure\n",
    "            response_mime_type=\"application/json\", # GCP\n",
    "            temperature=0.0,\n",
    "        )\n",
    "        message = response.content\n",
    "        #print(\"LLM response after fixing:\")\n",
    "        #print(message)\n",
    "        # YOUR CODE HERE START: Replace this with your code to parse the message into a HouseFeatures model\n",
    "        parsed_house_features = HouseFeatures.model_validate_json(message)\n",
    "        # YOUR CODE HERE END\n",
    "    return parsed_house_features"
   ],
   "outputs": [],
   "execution_count": 70
  },
  {
   "cell_type": "code",
   "id": "a25d413e",
   "metadata": {
    "ExecuteTime": {
     "end_time": "2025-03-06T09:46:29.196324Z",
     "start_time": "2025-03-06T09:46:29.192226Z"
    }
   },
   "source": [
    "df = pd.read_csv(\"houses.csv\")"
   ],
   "outputs": [],
   "execution_count": 74
  },
  {
   "cell_type": "code",
   "id": "a0193dc1",
   "metadata": {
    "ExecuteTime": {
     "end_time": "2025-03-06T09:46:51.121124Z",
     "start_time": "2025-03-06T09:46:31.157231Z"
    }
   },
   "source": [
    "# Here we map the pets_allowed column to a boolean value to match our new boolean feature pydantic model\n",
    "expected_pets_allowed_value = {\n",
    "    \"allowed\": True,\n",
    "    \"not_allowed\": False,\n",
    "    \"unknown\": None,\n",
    "}\n",
    "df[\"pets_allowed\"] = df[\"pets_allowed\"].map(expected_pets_allowed_value)\n",
    "\n",
    "# Herre we loop through all the rows in the dataset and check if the extracted information is correct\n",
    "for i, row in df.iterrows():\n",
    "    description = row[\"description\"]\n",
    "    info = extract_info(description)\n",
    "    print(info.pets_allowed.value)\n",
    "\n",
    "    assert info.pets_allowed.value == row[\"pets_allowed\"], f\"For row {i}, expected `{row['pets_allowed']}` but got `{info.pets_allowed.value}` in `{info}`\"\n",
    "    assert info.neighborhood.value == row[\"neighborhood\"], f\"For row {i}, expected `{row['neighborhood']}` but got `{info.neighborhood}` in `{info}`\"\n",
    "    assert info.number_of_bedrooms.value == row[\"bedrooms\"], f\"For row {i}, expected `{row['bedrooms']}` but got `{info.number_of_bedrooms}` in `{info}`\"\n",
    "    print(f\"✅ Row {i} is correct: {info}\")"
   ],
   "outputs": [
    {
     "name": "stdout",
     "output_type": "stream",
     "text": [
      "Errors:\n",
      "[{'type': 'missing', 'loc': ('number_of_bedrooms',), 'msg': 'Field required', 'input': {'gender': 'male', 'signup': '2021-01-26T00:00:00', 'address': {'street': '123 Main Street', 'number': 0, 'city': 'New York', 'country': 'USA'}, 'job': 'lawyer'}, 'url': 'https://errors.pydantic.dev/2.9/v/missing'}, {'type': 'missing', 'loc': ('neighborhood',), 'msg': 'Field required', 'input': {'gender': 'male', 'signup': '2021-01-26T00:00:00', 'address': {'street': '123 Main Street', 'number': 0, 'city': 'New York', 'country': 'USA'}, 'job': 'lawyer'}, 'url': 'https://errors.pydantic.dev/2.9/v/missing'}, {'type': 'missing', 'loc': ('pets_allowed',), 'msg': 'Field required', 'input': {'gender': 'male', 'signup': '2021-01-26T00:00:00', 'address': {'street': '123 Main Street', 'number': 0, 'city': 'New York', 'country': 'USA'}, 'job': 'lawyer'}, 'url': 'https://errors.pydantic.dev/2.9/v/missing'}]\n",
      "Asking the LLM to fix the errors:\n",
      "True\n",
      "✅ Row 0 is correct: number_of_bedrooms=DigitFeature(thoughts='The description explicitly states \"one-bedroom apartment\" and \"1 bedroom\" in the \"PARTICULARITIES\" section.', quotes=['This tastefully styled one-bedroom apartment', '- 1 bedroom'], value=1) neighborhood=StringFeature(thoughts='The description mentions \"Amsterdam Oud-West\" and \"Da Costabuurt neighborhood\". I am choosing the more specific neighborhood name.', quotes=['This tastefully styled one-bedroom apartment is located in the heart of Amsterdam Oud-West in the Da Costabuurt neighborhood.'], value='Da Costabuurt') pets_allowed=BooleanFeature(thoughts='The description mentions \"Dogs are allowed\" in the \"PARTICULARITIES\" section.', quotes=['Dogs are allowed.'], value=True)\n",
      "Errors:\n",
      "[{'type': 'missing', 'loc': ('number_of_bedrooms',), 'msg': 'Field required', 'input': {'gender': 'male', 'signup': '2021-01-26T00:00:00', 'address': {'street': '123 Main Street', 'number': 0, 'city': 'New York', 'country': 'USA'}, 'job': 'lawyer'}, 'url': 'https://errors.pydantic.dev/2.9/v/missing'}, {'type': 'missing', 'loc': ('neighborhood',), 'msg': 'Field required', 'input': {'gender': 'male', 'signup': '2021-01-26T00:00:00', 'address': {'street': '123 Main Street', 'number': 0, 'city': 'New York', 'country': 'USA'}, 'job': 'lawyer'}, 'url': 'https://errors.pydantic.dev/2.9/v/missing'}, {'type': 'missing', 'loc': ('pets_allowed',), 'msg': 'Field required', 'input': {'gender': 'male', 'signup': '2021-01-26T00:00:00', 'address': {'street': '123 Main Street', 'number': 0, 'city': 'New York', 'country': 'USA'}, 'job': 'lawyer'}, 'url': 'https://errors.pydantic.dev/2.9/v/missing'}]\n",
      "Asking the LLM to fix the errors:\n",
      "None\n",
      "✅ Row 1 is correct: number_of_bedrooms=DigitFeature(thoughts='The description mentions 3 bedrooms: a master bedroom, a guest bedroom, and a third bedroom that can be used as a guest bedroom or office space. ', quotes=['Master bedroom with double bed and design built in wardrobes', '2nd (Guest) toilet', '2nd and 3rd bedroom are both very well sized, . Can be used as guest bedroom and office space as well'], value=3) neighborhood=StringFeature(thoughts='The description mentions Oud-Zuid as the neighborhood. ', quotes=['Oud-Zuid is a desirable area.'], value='Oud-Zuid') pets_allowed=BooleanFeature(thoughts='The description does not mention anything about pets being allowed or not allowed. ', quotes=[], value=None)\n",
      "Errors:\n",
      "[{'type': 'missing', 'loc': ('number_of_bedrooms',), 'msg': 'Field required', 'input': {'gender': 'male', 'signup': '2021-01-26T00:00:00', 'address': {'street': '123 Main Street', 'number': 0, 'city': 'New York', 'country': 'USA'}, 'job': 'lawyer'}, 'url': 'https://errors.pydantic.dev/2.9/v/missing'}, {'type': 'missing', 'loc': ('neighborhood',), 'msg': 'Field required', 'input': {'gender': 'male', 'signup': '2021-01-26T00:00:00', 'address': {'street': '123 Main Street', 'number': 0, 'city': 'New York', 'country': 'USA'}, 'job': 'lawyer'}, 'url': 'https://errors.pydantic.dev/2.9/v/missing'}, {'type': 'missing', 'loc': ('pets_allowed',), 'msg': 'Field required', 'input': {'gender': 'male', 'signup': '2021-01-26T00:00:00', 'address': {'street': '123 Main Street', 'number': 0, 'city': 'New York', 'country': 'USA'}, 'job': 'lawyer'}, 'url': 'https://errors.pydantic.dev/2.9/v/missing'}]\n",
      "Asking the LLM to fix the errors:\n",
      "False\n",
      "✅ Row 2 is correct: number_of_bedrooms=DigitFeature(thoughts='The description explicitly states that the apartment has 2 bedrooms.', quotes=['Number of bedrooms: 2'], value=2) neighborhood=StringFeature(thoughts='The description mentions the neighborhood as Kinkerbuurt.', quotes=['Neighborhood: Kinkerbuurt'], value='Kinkerbuurt') pets_allowed=BooleanFeature(thoughts='The description explicitly states that pets are not allowed.', quotes=['Pets not allowed'], value=False)\n",
      "Errors:\n",
      "[{'type': 'missing', 'loc': ('number_of_bedrooms',), 'msg': 'Field required', 'input': {'gender': 'male', 'signup': '2021-01-26T00:00:00', 'address': {'street': '123 Main Street', 'number': 0, 'city': 'New York', 'country': 'USA'}, 'job': 'lawyer'}, 'url': 'https://errors.pydantic.dev/2.9/v/missing'}, {'type': 'missing', 'loc': ('neighborhood',), 'msg': 'Field required', 'input': {'gender': 'male', 'signup': '2021-01-26T00:00:00', 'address': {'street': '123 Main Street', 'number': 0, 'city': 'New York', 'country': 'USA'}, 'job': 'lawyer'}, 'url': 'https://errors.pydantic.dev/2.9/v/missing'}, {'type': 'missing', 'loc': ('pets_allowed',), 'msg': 'Field required', 'input': {'gender': 'male', 'signup': '2021-01-26T00:00:00', 'address': {'street': '123 Main Street', 'number': 0, 'city': 'New York', 'country': 'USA'}, 'job': 'lawyer'}, 'url': 'https://errors.pydantic.dev/2.9/v/missing'}]\n",
      "Asking the LLM to fix the errors:\n",
      "False\n",
      "✅ Row 3 is correct: number_of_bedrooms=DigitFeature(thoughts='The description explicitly states \"2 bedrooms\".', quotes=['2 bedrooms'], value=2) neighborhood=StringFeature(thoughts='The description mentions \"Geuzenbuurt\" as the location, which is a neighborhood in Amsterdam.', quotes=['On this beautiful location in the Geuzenbuurt'], value='Geuzenbuurt') pets_allowed=BooleanFeature(thoughts='The description explicitly states \"No Pets\".', quotes=['No Pets'], value=False)\n",
      "Errors:\n",
      "[{'type': 'missing', 'loc': ('number_of_bedrooms',), 'msg': 'Field required', 'input': {'gender': 'male', 'signup': '2021-01-26T00:00:00', 'address': {'street': '123 Main Street', 'number': 0, 'city': 'New York', 'country': 'USA'}, 'job': 'lawyer'}, 'url': 'https://errors.pydantic.dev/2.9/v/missing'}, {'type': 'missing', 'loc': ('neighborhood',), 'msg': 'Field required', 'input': {'gender': 'male', 'signup': '2021-01-26T00:00:00', 'address': {'street': '123 Main Street', 'number': 0, 'city': 'New York', 'country': 'USA'}, 'job': 'lawyer'}, 'url': 'https://errors.pydantic.dev/2.9/v/missing'}, {'type': 'missing', 'loc': ('pets_allowed',), 'msg': 'Field required', 'input': {'gender': 'male', 'signup': '2021-01-26T00:00:00', 'address': {'street': '123 Main Street', 'number': 0, 'city': 'New York', 'country': 'USA'}, 'job': 'lawyer'}, 'url': 'https://errors.pydantic.dev/2.9/v/missing'}]\n",
      "Asking the LLM to fix the errors:\n",
      "None\n",
      "✅ Row 4 is correct: number_of_bedrooms=DigitFeature(thoughts='The text mentions \"1 bedroom apartment\" multiple times. Therefore, the number of bedrooms is 1.', quotes=['This recently 100% renovated, unfurnished 1 bedroom apartment (58m2)with terrace-garden at the back, is situated in the heart of the neighbourhood De Pijp, also known as the Quartier Latin or Soho of Amsterdam.', 'This unfurnished 1-bedroom apartment is located on the ground floor and has the convenience of a terrace.'], value=1) neighborhood=StringFeature(thoughts='The text mentions \"De Pijp\" as the neighborhood. It also mentions \"Quartier Latin or Soho of Amsterdam\" as alternative names for the same neighborhood.', quotes=['This recently 100% renovated, unfurnished 1 bedroom apartment (58m2)with terrace-garden at the back, is situated in the heart of the neighbourhood De Pijp, also known as the Quartier Latin or Soho of Amsterdam.'], value='De Pijp') pets_allowed=BooleanFeature(thoughts='The text does not mention anything about pets being allowed or not allowed. Therefore, I cannot determine if pets are allowed.', quotes=[], value=None)\n",
      "Errors:\n",
      "[{'type': 'missing', 'loc': ('number_of_bedrooms',), 'msg': 'Field required', 'input': {'gender': 'male', 'signup': '2021-01-26T00:00:00', 'address': {'street': '123 Main Street', 'number': 0, 'city': 'New York', 'country': 'USA'}, 'job': 'lawyer'}, 'url': 'https://errors.pydantic.dev/2.9/v/missing'}, {'type': 'missing', 'loc': ('neighborhood',), 'msg': 'Field required', 'input': {'gender': 'male', 'signup': '2021-01-26T00:00:00', 'address': {'street': '123 Main Street', 'number': 0, 'city': 'New York', 'country': 'USA'}, 'job': 'lawyer'}, 'url': 'https://errors.pydantic.dev/2.9/v/missing'}, {'type': 'missing', 'loc': ('pets_allowed',), 'msg': 'Field required', 'input': {'gender': 'male', 'signup': '2021-01-26T00:00:00', 'address': {'street': '123 Main Street', 'number': 0, 'city': 'New York', 'country': 'USA'}, 'job': 'lawyer'}, 'url': 'https://errors.pydantic.dev/2.9/v/missing'}]\n",
      "Asking the LLM to fix the errors:\n",
      "False\n",
      "✅ Row 5 is correct: number_of_bedrooms=DigitFeature(thoughts='The description explicitly states that the apartment has 2 bedrooms.', quotes=['- Number of bedrooms: 2 (the 2nd bedroom has no windows)'], value=2) neighborhood=StringFeature(thoughts='The description mentions the neighborhood as Nieuw-Sloten.', quotes=['- Neighborhood: Nieuw-Sloten'], value='Nieuw-Sloten') pets_allowed=BooleanFeature(thoughts='The description explicitly states that pets are not allowed.', quotes=['- Pets not allowed'], value=False)\n",
      "Errors:\n",
      "[{'type': 'missing', 'loc': ('number_of_bedrooms',), 'msg': 'Field required', 'input': {'gender': 'male', 'signup': '2021-01-26T00:00:00', 'address': {'street': '123 Main Street', 'number': 0, 'city': 'New York', 'country': 'USA'}, 'job': 'lawyer'}, 'url': 'https://errors.pydantic.dev/2.9/v/missing'}, {'type': 'missing', 'loc': ('neighborhood',), 'msg': 'Field required', 'input': {'gender': 'male', 'signup': '2021-01-26T00:00:00', 'address': {'street': '123 Main Street', 'number': 0, 'city': 'New York', 'country': 'USA'}, 'job': 'lawyer'}, 'url': 'https://errors.pydantic.dev/2.9/v/missing'}, {'type': 'missing', 'loc': ('pets_allowed',), 'msg': 'Field required', 'input': {'gender': 'male', 'signup': '2021-01-26T00:00:00', 'address': {'street': '123 Main Street', 'number': 0, 'city': 'New York', 'country': 'USA'}, 'job': 'lawyer'}, 'url': 'https://errors.pydantic.dev/2.9/v/missing'}]\n",
      "Asking the LLM to fix the errors:\n",
      "None\n",
      "✅ Row 6 is correct: number_of_bedrooms=DigitFeature(thoughts='The description explicitly states \"Number of bedrooms: 1\", so the value is 1.', quotes=['Number of bedrooms: 1'], value=1) neighborhood=StringFeature(thoughts='The description mentions \"Helmersbuurt\" as the neighborhood, and it is also mentioned in the title.', quotes=['THIS FURNISHED ONE BEDROOM APARTMENT IS LOCATED ON THE 2ND FLOOR IN THE NEIGHBORHOOD Helmersbuurt CLOSE TO THE VONDELPARK!', 'In a fantastic location in Helmersbuurt lies this property with a spacious living room, open kitchen and 1 bedroom.'], value='Helmersbuurt') pets_allowed=BooleanFeature(thoughts='The description does not mention anything about pets being allowed or not allowed. Therefore, we can assume that pets are not allowed.', quotes=[], value=None)\n",
      "Errors:\n",
      "[{'type': 'missing', 'loc': ('number_of_bedrooms',), 'msg': 'Field required', 'input': {'gender': 'male', 'signup': '2021-01-26T00:00:00', 'address': {'street': '123 Main Street', 'number': 0, 'city': 'New York', 'country': 'USA'}, 'job': 'lawyer'}, 'url': 'https://errors.pydantic.dev/2.9/v/missing'}, {'type': 'missing', 'loc': ('neighborhood',), 'msg': 'Field required', 'input': {'gender': 'male', 'signup': '2021-01-26T00:00:00', 'address': {'street': '123 Main Street', 'number': 0, 'city': 'New York', 'country': 'USA'}, 'job': 'lawyer'}, 'url': 'https://errors.pydantic.dev/2.9/v/missing'}, {'type': 'missing', 'loc': ('pets_allowed',), 'msg': 'Field required', 'input': {'gender': 'male', 'signup': '2021-01-26T00:00:00', 'address': {'street': '123 Main Street', 'number': 0, 'city': 'New York', 'country': 'USA'}, 'job': 'lawyer'}, 'url': 'https://errors.pydantic.dev/2.9/v/missing'}]\n",
      "Asking the LLM to fix the errors:\n",
      "None\n",
      "✅ Row 7 is correct: number_of_bedrooms=DigitFeature(thoughts='The description explicitly mentions \"two bedroom apartment\", so the number of bedrooms is 2.', quotes=['Beautiful very light two bedroom apartment with spacious balcony located in the middle of the pipe!'], value=2) neighborhood=StringFeature(thoughts='The description mentions \"in the middle of the pipe\", which is a neighborhood in Amsterdam. It also mentions \"the famous Albert Cuypstraat and the Sarphatipark\", which are both located in De Pijp.', quotes=['Beautiful very light two bedroom apartment with spacious balcony located in the middle of the pipe!', 'The apartment is located in the cozy De Pijp between the famous Albert Cuypstraat and the Sarphatipark, with the Museumplein and many popular restaurants within walking distance.'], value='De Pijp') pets_allowed=BooleanFeature(thoughts=\"The description does not mention anything about pets being allowed or not allowed. Therefore, we can't determine if pets are allowed.\", quotes=[], value=None)\n",
      "Errors:\n",
      "[{'type': 'missing', 'loc': ('number_of_bedrooms',), 'msg': 'Field required', 'input': {'gender': 'male', 'signup': '2021-01-26T00:00:00', 'address': {'street': '123 Main Street', 'number': 0, 'city': 'New York', 'country': 'USA'}, 'job': 'lawyer'}, 'url': 'https://errors.pydantic.dev/2.9/v/missing'}, {'type': 'missing', 'loc': ('neighborhood',), 'msg': 'Field required', 'input': {'gender': 'male', 'signup': '2021-01-26T00:00:00', 'address': {'street': '123 Main Street', 'number': 0, 'city': 'New York', 'country': 'USA'}, 'job': 'lawyer'}, 'url': 'https://errors.pydantic.dev/2.9/v/missing'}, {'type': 'missing', 'loc': ('pets_allowed',), 'msg': 'Field required', 'input': {'gender': 'male', 'signup': '2021-01-26T00:00:00', 'address': {'street': '123 Main Street', 'number': 0, 'city': 'New York', 'country': 'USA'}, 'job': 'lawyer'}, 'url': 'https://errors.pydantic.dev/2.9/v/missing'}]\n",
      "Asking the LLM to fix the errors:\n",
      "None\n",
      "✅ Row 8 is correct: number_of_bedrooms=DigitFeature(thoughts='The description explicitly states that the apartment has 6 bedrooms.', quotes=['This very spacious unfurnished apartment with 6 bedrooms and two bathrooms will be available for rent soon.'], value=6) neighborhood=StringFeature(thoughts='The description mentions that the apartment is located in the Apollobuurt.', quotes=['located in the Apollobuurt'], value='Apollobuurt') pets_allowed=BooleanFeature(thoughts='The description does not mention anything about pets being allowed or not allowed. Therefore, I assume pets are not allowed.', quotes=[], value=None)\n",
      "Errors:\n",
      "[{'type': 'missing', 'loc': ('number_of_bedrooms',), 'msg': 'Field required', 'input': {'gender': 'male', 'signup': '2021-01-26T00:00:00', 'address': {'street': '123 Main Street', 'number': 0, 'city': 'New York', 'country': 'USA'}, 'job': 'lawyer'}, 'url': 'https://errors.pydantic.dev/2.9/v/missing'}, {'type': 'missing', 'loc': ('neighborhood',), 'msg': 'Field required', 'input': {'gender': 'male', 'signup': '2021-01-26T00:00:00', 'address': {'street': '123 Main Street', 'number': 0, 'city': 'New York', 'country': 'USA'}, 'job': 'lawyer'}, 'url': 'https://errors.pydantic.dev/2.9/v/missing'}, {'type': 'missing', 'loc': ('pets_allowed',), 'msg': 'Field required', 'input': {'gender': 'male', 'signup': '2021-01-26T00:00:00', 'address': {'street': '123 Main Street', 'number': 0, 'city': 'New York', 'country': 'USA'}, 'job': 'lawyer'}, 'url': 'https://errors.pydantic.dev/2.9/v/missing'}]\n",
      "Asking the LLM to fix the errors:\n",
      "None\n",
      "✅ Row 9 is correct: number_of_bedrooms=DigitFeature(thoughts='The description explicitly states \"2 bedroom apartment\", so the number of bedrooms is 2.', quotes=['2 bedroom apartment'], value=2) neighborhood=StringFeature(thoughts='The description mentions \"a popular neighbourhood in the south of Amsterdam (Buitenveldert-West)\".  Therefore, the neighborhood is Buitenveldert-West.', quotes=['a popular neighbourhood in the south of Amsterdam (Buitenveldert-West)'], value='Buitenveldert-West') pets_allowed=BooleanFeature(thoughts='The description does not mention anything about pets being allowed or not allowed. Therefore, we cannot determine if pets are allowed.', quotes=[], value=None)\n"
     ]
    }
   ],
   "execution_count": 75
  },
  {
   "cell_type": "markdown",
   "id": "4f1ea364",
   "metadata": {},
   "source": [
    "Note that you might still encounter some validation errors. \n",
    "\n",
    "The code above only instructs to LLM to correct itself once. Rather like a naughty child, the LLM may need to be told what to do more than once before it gets it right!"
   ]
  },
  {
   "attachments": {},
   "cell_type": "markdown",
   "id": "42ed680e8ffbc65d",
   "metadata": {
    "collapsed": false
   },
   "source": [
    "## Optional exercise 2e: Extract additional information\n",
    "The descriptions contain a lot more information. For example: \n",
    "- Is there a balcony? \n",
    "- Is there a garden? \n",
    "- What is the price of the house?\n",
    "- What is the house type (apartment, house, etc.)?\n",
    "- What is the city name?\n",
    "- etc.\n",
    "\n",
    "\n",
    "Your task is as follows:\n",
    "1. Inspect the descriptions in the `houses.csv` file.\n",
    "2. Identify additional information that you want to extract.\n",
    "3. Update the `HouseFeatures` model to include the new information.\n",
    "4. Update the `extract_info` function to extract the new information.\n",
    "5. Check if the information is extracted correctly.\n",
    "\n",
    "Here is some code to inspect the descriptions in the `houses.csv` file.\n"
   ]
  },
  {
   "cell_type": "code",
   "id": "fa2adb9963d28071",
   "metadata": {
    "ExecuteTime": {
     "end_time": "2025-03-06T09:27:00.134285Z",
     "start_time": "2025-03-06T09:27:00.131623Z"
    }
   },
   "source": [
    "house_idx = 0\n",
    "row = df.iloc[house_idx]\n",
    "print(\"House:\", house_idx)\n",
    "print(\"City:\", row[\"city\"])\n",
    "print(\"Price:\", row[\"price\"])\n",
    "print(\"Surface area:\", row[\"surface_area\"])\n",
    "print(\"Bedrooms:\", row[\"bedrooms\"])\n",
    "print(\"#\" * 80 + \"\\n\")\n",
    "print(\"Description:\\n\" + row[\"description\"])"
   ],
   "outputs": [
    {
     "name": "stdout",
     "output_type": "stream",
     "text": [
      "House: 0\n",
      "City: Amsterdam\n",
      "Price: 2350\n",
      "Surface area: 67\n",
      "Bedrooms: 1\n",
      "################################################################################\n",
      "\n",
      "Description:\n",
      "This tastefully styled one-bedroom apartment is located in the heart of Amsterdam Oud-West in the Da Costabuurt neighborhood. This beautiful home in the bustling center of Amsterdam tucked away on a quiet street can be your home away from home.\n",
      "The apartment is situated on the ground floor. It comes with a spacious garden of 62m2, walk in closet/study room and top of the range interior. In terms of comfort; the apartments has a separate toilet and a large bathroom with a rain shower and bath tub.\n",
      "The large bedroom looks onto the garden which has a bbq and lounge area. Spacious open plan living room with wooden floors and top of the range kitchen appliances. Situated in Oud West you get sun until the late afternoon. Oud west is a great area with lots of great restaurants and quaint cafes. It’s a 10 min walk to the Anne Frank house and the 9 streets.\n",
      "PARTICULARITIES\n",
      "- Monthly rent €2.250 excl\n",
      "- 1 bedroom\n",
      "- Walk-in closet and study room\n",
      "- Fully furnished\n",
      "- Spacious garden of 62m2\n",
      "- Dogs are allowed.\n"
     ]
    }
   ],
   "execution_count": 65
  },
  {
   "attachments": {},
   "cell_type": "markdown",
   "id": "d18e640efff9b621",
   "metadata": {
    "collapsed": false
   },
   "source": [
    "Here is some boilerplate code to get you started."
   ]
  },
  {
   "cell_type": "code",
   "id": "1f854ca8f5891d6",
   "metadata": {
    "ExecuteTime": {
     "end_time": "2025-03-06T10:04:43.932Z",
     "start_time": "2025-03-06T10:04:41.164336Z"
    }
   },
   "source": [
    "class HouseFeaturesAdvanced(HouseFeatures):\n",
    "    \"\"\"Extracted house listing features\"\"\"\n",
    "    # YOUR CODE HERE START: Add the boolean feature for pets_allowed and add a description with pydantic.Field\n",
    "    price: FloatFeature = pydantic.Field(description=\"The price of the house.\")\n",
    "    # YOUR CODE HERE END\n",
    "\n",
    "def extract_info_advanced(description):    \n",
    "    # YOUR CODE HERE START: Replace this your system prompt you can the above system prompt as an example.\n",
    "    system_prompt = f\"\"\"The user sends a description of a House. Its your task to extract details from the description.\n",
    "    Your response must be valid JSON parsable by Pydantic using the following schema:\n",
    "    {HouseFeaturesAdvanced.model_json_schema()}\n",
    "    This should not be a JSON Schema, but a JSON object that can be parsed by Pydantic based on the above schema.\n",
    "    \"\"\"\n",
    "    # YOUR CODE HERE END\n",
    "    \n",
    "    messages = [\n",
    "        {\"role\": \"system\", \"content\": system_prompt},\n",
    "        {\"role\": \"user\", \"content\": description},\n",
    "    ]\n",
    "    response = client.invoke(\n",
    "        input=messages,\n",
    "        # Optional: some models have a JSON response format which allows you to \n",
    "        # enforce the response format. Uncomment the following lines if you want to use it.\n",
    "        # response_format={\"type\": \"json_object\"}, # OpenAI or Azure\n",
    "        response_mime_type=\"application/json\", # GCP\n",
    "        temperature=0.0,\n",
    "    )\n",
    "\n",
    "    message = response.content\n",
    "    # YOUR CODE HERE START: Replace this with your code to parse the message into a HouseFeatures model\n",
    "    try:\n",
    "        # YOUR CODE HERE START: Replace this with your code to parse the message into a HouseFeatures model\n",
    "        HouseFeaturesAdvanced.model_validate_json(incorrect_response)\n",
    "        # YOUR CODE HERE END\n",
    "    except pydantic.ValidationError as e:\n",
    "        print(\"Errors:\")\n",
    "        print(e.errors())\n",
    "        print(\"Asking the LLM to fix the errors:\")\n",
    "        messages.append({\n",
    "            \"role\": \"assistant\",\n",
    "            \"content\": message\n",
    "        })\n",
    "        messages.append({\n",
    "            \"role\": \"user\",\n",
    "            # Write a user message that tells the LLM about the errors in its response `e.errors()`\n",
    "            # and tell the LLM to respond with JSON that does not have these errors.\n",
    "            # YOUR CODE HERE START:\n",
    "            \"content\": f\"Your response is incorrect! Respond only with JSON that does not have these errors: {e.errors()}\"\n",
    "            # YOUR CODE HERE END\n",
    "        })\n",
    "\n",
    "        response = client.invoke(\n",
    "            input=messages,\n",
    "            # Optional: some models have a JSON response format which allows you to \n",
    "            # enforce the response format. Uncomment the following lines if you want to use it.\n",
    "            # response_format={\"type\": \"json_object\"}, # OpenAI or Azure\n",
    "            response_mime_type=\"application/json\", # GCP\n",
    "            temperature=0.0,\n",
    "        )\n",
    "        message = response.content\n",
    "        parsed_house_features = HouseFeaturesAdvanced.model_validate_json(message)\n",
    "        \n",
    "    # YOUR CODE HERE END    \n",
    "    return parsed_house_features\n",
    "\n",
    "house_idx = 0\n",
    "row = df.iloc[house_idx]\n",
    "print(\"House:\", house_idx)\n",
    "print(\"City:\", row[\"city\"])\n",
    "print(\"Price:\", row[\"price\"])\n",
    "print(\"Surface area:\", row[\"surface_area\"])\n",
    "print(\"Bedrooms:\", row[\"bedrooms\"])\n",
    "print(\"#\" * 80 + \"\\n\")\n",
    "print(\"Description:\\n\" + row[\"description\"])\n",
    "print(\"#\" * 80 + \"\\n\")\n",
    "info = extract_info_advanced(row[\"description\"])\n",
    "print(info)"
   ],
   "outputs": [
    {
     "name": "stdout",
     "output_type": "stream",
     "text": [
      "House: 0\n",
      "City: Amsterdam\n",
      "Price: 2350\n",
      "Surface area: 67\n",
      "Bedrooms: 1\n",
      "################################################################################\n",
      "\n",
      "Description:\n",
      "This tastefully styled one-bedroom apartment is located in the heart of Amsterdam Oud-West in the Da Costabuurt neighborhood. This beautiful home in the bustling center of Amsterdam tucked away on a quiet street can be your home away from home.\n",
      "The apartment is situated on the ground floor. It comes with a spacious garden of 62m2, walk in closet/study room and top of the range interior. In terms of comfort; the apartments has a separate toilet and a large bathroom with a rain shower and bath tub.\n",
      "The large bedroom looks onto the garden which has a bbq and lounge area. Spacious open plan living room with wooden floors and top of the range kitchen appliances. Situated in Oud West you get sun until the late afternoon. Oud west is a great area with lots of great restaurants and quaint cafes. It’s a 10 min walk to the Anne Frank house and the 9 streets.\n",
      "PARTICULARITIES\n",
      "- Monthly rent €2.250 excl\n",
      "- 1 bedroom\n",
      "- Walk-in closet and study room\n",
      "- Fully furnished\n",
      "- Spacious garden of 62m2\n",
      "- Dogs are allowed.\n",
      "################################################################################\n",
      "\n",
      "Errors:\n",
      "[{'type': 'missing', 'loc': ('number_of_bedrooms',), 'msg': 'Field required', 'input': {'gender': 'male', 'signup': '2021-01-26T00:00:00', 'address': {'street': '123 Main Street', 'number': 0, 'city': 'New York', 'country': 'USA'}, 'job': 'lawyer'}, 'url': 'https://errors.pydantic.dev/2.9/v/missing'}, {'type': 'missing', 'loc': ('neighborhood',), 'msg': 'Field required', 'input': {'gender': 'male', 'signup': '2021-01-26T00:00:00', 'address': {'street': '123 Main Street', 'number': 0, 'city': 'New York', 'country': 'USA'}, 'job': 'lawyer'}, 'url': 'https://errors.pydantic.dev/2.9/v/missing'}, {'type': 'missing', 'loc': ('pets_allowed',), 'msg': 'Field required', 'input': {'gender': 'male', 'signup': '2021-01-26T00:00:00', 'address': {'street': '123 Main Street', 'number': 0, 'city': 'New York', 'country': 'USA'}, 'job': 'lawyer'}, 'url': 'https://errors.pydantic.dev/2.9/v/missing'}, {'type': 'missing', 'loc': ('price',), 'msg': 'Field required', 'input': {'gender': 'male', 'signup': '2021-01-26T00:00:00', 'address': {'street': '123 Main Street', 'number': 0, 'city': 'New York', 'country': 'USA'}, 'job': 'lawyer'}, 'url': 'https://errors.pydantic.dev/2.9/v/missing'}]\n",
      "Asking the LLM to fix the errors:\n",
      "number_of_bedrooms=DigitFeature(thoughts='The description explicitly states \"one-bedroom apartment\" and later mentions \"1 bedroom\" in the \"PARTICULARITIES\" section. Therefore, the number of bedrooms is 1.', quotes=['This tastefully styled one-bedroom apartment', '- 1 bedroom'], value=1) neighborhood=StringFeature(thoughts='The description mentions \"Amsterdam Oud-West\" and \"Da Costabuurt neighborhood\". Since the description is about a house in Amsterdam, we can safely assume that \"Da Costabuurt\" is the neighborhood.', quotes=['This tastefully styled one-bedroom apartment is located in the heart of Amsterdam Oud-West in the Da Costabuurt neighborhood.'], value='Da Costabuurt') pets_allowed=BooleanFeature(thoughts='The description mentions \"Dogs are allowed\" in the \"PARTICULARITIES\" section. This implies that pets are allowed.', quotes=['- Dogs are allowed.'], value=True) price=FloatFeature(thoughts='The description mentions \"Monthly rent €2.250 excl\". This is the price of the house.', quotes=['- Monthly rent €2.250 excl'], value=2250.0)\n"
     ]
    }
   ],
   "execution_count": 79
  },
  {
   "cell_type": "markdown",
   "id": "f2fd0c55",
   "metadata": {},
   "source": [
    "## Structured Output (JSON mode)\n",
    "\n",
    "A recent update guarantees that Large Language Models (LLMs) will consistently generate responses conforming to your provided JSON Schema.  This eliminates the risk of the model omitting required keys or producing invalid enum values.\n",
    "\n",
    "While this update significantly improves reliability, [Gemini currently has limitations with more complex data structures](https://cloud.google.com/vertex-ai/generative-ai/docs/multimodal/control-generated-output#fields), such as the `HouseFeatures` Pydantic model we created"
   ]
  },
  {
   "cell_type": "code",
   "execution_count": null,
   "id": "7ba0201c",
   "metadata": {},
   "outputs": [],
   "source": [
    "# Here we create the client. \n",
    "# Make sure you select the LLM provider that corresponds to the one you are using in this course!\n",
    "client = instantiate_langchain_model(\n",
    "    llm_provider=\"azure\",\n",
    "    # llm_provider=\"gcp\",\n",
    ")\n",
    "client.model_name"
   ]
  },
  {
   "cell_type": "code",
   "execution_count": null,
   "id": "c11e4890",
   "metadata": {},
   "outputs": [],
   "source": [
    "def extract_structured_output(description):    \n",
    "    # YOUR CODE HERE START: Replace this your system prompt. \n",
    "    # YOUR CODE HERE END\n",
    "    \n",
    "    messages = [\n",
    "        {\"role\": \"system\", \"content\": system_prompt},\n",
    "        {\"role\": \"user\", \"content\": description},\n",
    "    ]\n",
    "\n",
    "    # Invoke the LLM\n",
    "    response = client.invoke(\n",
    "        input=messages,\n",
    "        # Select the correct parameter based on the LLM provider you are using\n",
    "        response_format=HouseFeatures, # OpenAI or Azure\n",
    "        # generation_config=GenerationConfig(\n",
    "        #     response_mime_type=\"application/json\",\n",
    "        #     response_schema=HouseFeatures.model_json_schema()\n",
    "        #     ), # GCP\n",
    "        temperature=0.0,\n",
    "    )\n",
    "    message = response.content\n",
    "    parsed_house_features = HouseFeatures.model_validate_json(message)\n",
    "    return parsed_house_features\n",
    "\n"
   ]
  },
  {
   "cell_type": "markdown",
   "id": "5eee03db",
   "metadata": {},
   "source": [
    "Use the function below to investigate how the LLM performs at the task when we ensure the output must adhere to a specified JSON schema.\n",
    "\n",
    "If the validation fail for a particular house, can you identify why from the description?"
   ]
  },
  {
   "cell_type": "code",
   "execution_count": null,
   "id": "e726d685",
   "metadata": {},
   "outputs": [],
   "source": [
    "def check_extracted_house_information(i):\n",
    "    description = df.loc[i, \"description\"]\n",
    "\n",
    "    info = extract_structured_output(description)\n",
    "\n",
    "    try:\n",
    "        # Check assertions with enhanced error messages\n",
    "        assert info.pets_allowed.value == df.loc[i, \"pets_allowed\"], \\\n",
    "            f\"For row {i}, expected `pets_allowed` to be `{df.loc[i, 'pets_allowed']}` but got `{info.pets_allowed.value}`. Description: `{description}`\"\n",
    "        \n",
    "        assert info.neighborhood.value == df.loc[i, \"neighborhood\"], \\\n",
    "            f\"For row {i}, expected `neighborhood` to be `{df.loc[i, 'neighborhood']}` but got `{info.neighborhood.value}`. Description: `{description}`\"\n",
    "        \n",
    "        assert info.number_of_bedrooms.value == df.loc[i, \"bedrooms\"], \\\n",
    "            f\"For row {i}, expected `bedrooms` to be `{df.loc[i, 'bedrooms']}` but got `{info.number_of_bedrooms.value}`. Description: `{description}`\"\n",
    "        \n",
    "        print(f\"✅ Row {i} is correct: {info}\")\n",
    "    except AssertionError as e:\n",
    "        print(f\"❌ Assertion failed for row {i}: {e}\")\n",
    "\n",
    "# First ten houses\n",
    "for i in range(10):\n",
    "    check_extracted_house_information(i)"
   ]
  },
  {
   "cell_type": "markdown",
   "id": "9b16e623",
   "metadata": {},
   "source": [
    "---"
   ]
  }
 ],
 "metadata": {
  "language_info": {
   "name": "python"
  },
  "kernelspec": {
   "name": "python3",
   "language": "python",
   "display_name": "Python 3 (ipykernel)"
  }
 },
 "nbformat": 4,
 "nbformat_minor": 5
}
