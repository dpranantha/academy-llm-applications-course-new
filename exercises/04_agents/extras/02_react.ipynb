{
 "cells": [
  {
   "attachments": {},
   "cell_type": "markdown",
   "metadata": {},
   "source": [
    "# Exercise 2: ReAct\n",
    "\n",
    "In the previous notebook, you built an agent that was able to complete tasks, which LLMs would normally struggle with.\n",
    "\n",
    "The agent was able to complete these tasks because additional tools were provided to the LLM. But crucially, it was able to determine when these tools were needed autonomously.\n",
    "\n",
    "However, for the agent to produce a satisfactory result, we needed to write a long system prompt and be very explicit about what we wanted from the model.\n",
    "\n",
    "In this exercise, you will learn how to create agents using the ReAct framework ([Wei *et al.*, 2023](https://arxiv.org/abs/2210.03629)): an effective paradigm for prompt writing, which has been shown to outperform several benchmarks on language and decision-making tasks and can help to avoid issues of hallucination and error propagation. The improved human interpretability can also help engender trust in the model."
   ]
  },
  {
   "cell_type": "code",
   "metadata": {
    "ExecuteTime": {
     "end_time": "2025-03-06T20:15:53.070582Z",
     "start_time": "2025-03-06T20:15:52.983295Z"
    }
   },
   "source": [
    "# autoreload imports\n",
    "%load_ext autoreload\n",
    "\n",
    "%autoreload 2"
   ],
   "outputs": [
    {
     "name": "stdout",
     "output_type": "stream",
     "text": [
      "The autoreload extension is already loaded. To reload it, use:\n",
      "  %reload_ext autoreload\n"
     ]
    }
   ],
   "execution_count": 14
  },
  {
   "cell_type": "code",
   "metadata": {
    "ExecuteTime": {
     "end_time": "2025-03-06T20:15:49.724990Z",
     "start_time": "2025-03-06T20:15:49.662977Z"
    }
   },
   "source": [
    "from llm_in_production.llm import instantiate_langchain_model\n",
    "from llm_in_production.agent_utils import tool_calling_agent\n",
    "from llm_in_production.agent_tools import (\n",
    "    get_news_stories, \n",
    "    get_stock_prices,\n",
    "    get_current_weather\n",
    ")\n",
    "\n",
    "import pandas as pd\n",
    "import dotenv\n",
    "\n",
    "# This reads the .env file in your project and transforms its content into env variables.\n",
    "# This way you don't have to hard code your secrets.\n",
    "dotenv.load_dotenv()\n",
    "\n",
    "# Here we create the client. \n",
    "# Make sure you select the LLM provider that corresponds to the one you are using in this course!\n",
    "client = instantiate_langchain_model(\n",
    "    # llm_provider=\"azure\",\n",
    "    llm_provider=\"gcp\",\n",
    ")\n",
    "client.model_name"
   ],
   "outputs": [
    {
     "data": {
      "text/plain": [
       "'gemini-1.5-flash'"
      ]
     },
     "execution_count": 13,
     "metadata": {},
     "output_type": "execute_result"
    }
   ],
   "execution_count": 13
  },
  {
   "attachments": {},
   "cell_type": "markdown",
   "metadata": {},
   "source": [
    "## Implementing ReAct"
   ]
  },
  {
   "attachments": {},
   "cell_type": "markdown",
   "metadata": {},
   "source": [
    "To implement ReAct, we will write a prompt based on a template from [langchain]() (Langchain's [ReAct agent](https://python.langchain.com/docs/modules/agents/agent_types/react) is a widely-used implementation of ReAct). "
   ]
  },
  {
   "cell_type": "code",
   "metadata": {
    "ExecuteTime": {
     "end_time": "2025-03-06T14:47:33.828710Z",
     "start_time": "2025-03-06T14:47:33.477364Z"
    }
   },
   "source": [
    "from langchain import hub\n",
    "print(hub.pull(\"hwchase17/react\").template)"
   ],
   "outputs": [
    {
     "name": "stderr",
     "output_type": "stream",
     "text": [
      "/Users/dpranantha/Projects/bol/training/academy-llm-applications-course/.venv/lib/python3.12/site-packages/langsmith/client.py:256: LangSmithMissingAPIKeyWarning: API key must be provided when using hosted LangSmith API\n",
      "  warnings.warn(\n"
     ]
    },
    {
     "name": "stdout",
     "output_type": "stream",
     "text": [
      "Answer the following questions as best you can. You have access to the following tools:\n",
      "\n",
      "{tools}\n",
      "\n",
      "Use the following format:\n",
      "\n",
      "Question: the input question you must answer\n",
      "Thought: you should always think about what to do\n",
      "Action: the action to take, should be one of [{tool_names}]\n",
      "Action Input: the input to the action\n",
      "Observation: the result of the action\n",
      "... (this Thought/Action/Action Input/Observation can repeat N times)\n",
      "Thought: I now know the final answer\n",
      "Final Answer: the final answer to the original input question\n",
      "\n",
      "Begin!\n",
      "\n",
      "Question: {input}\n",
      "Thought:{agent_scratchpad}\n"
     ]
    }
   ],
   "execution_count": 3
  },
  {
   "cell_type": "code",
   "metadata": {
    "ExecuteTime": {
     "end_time": "2025-03-06T20:15:16.366815Z",
     "start_time": "2025-03-06T20:15:16.083545Z"
    }
   },
   "source": [
    "def create_react_prompt(*tools):\n",
    "    tool_names = [tool.__name__ for tool in tools]\n",
    "\n",
    "    return f\"\"\"\n",
    "Answer the following questions as best you can.\n",
    "\n",
    "Use the following format:\n",
    "\n",
    "Question: the input question you must answer\n",
    "Thought: you should always think about what to do\n",
    "Action: the action to take, could be one of the given tools: [{tool_names}]\n",
    "At this point you may call for an action to be taken, but you must return the Question and Thought as content in your response\n",
    "Observation: a summary of the result of taking the action\n",
    "... (this Thought/Action/Observation can repeat N times)\n",
    "Thought: I now know the final answer\n",
    "Final Answer: the final answer to the original input question\n",
    "\n",
    "Begin!\n",
    "\"\"\"\n",
    "\n",
    "print(create_react_prompt(get_news_stories, get_stock_prices))"
   ],
   "outputs": [
    {
     "name": "stdout",
     "output_type": "stream",
     "text": [
      "\n",
      "Answer the following questions as best you can.\n",
      "\n",
      "Use the following format:\n",
      "\n",
      "Question: the input question you must answer\n",
      "Thought: you should always think about what to do\n",
      "Action: the action to take, could be one of the given tools: [['get_news_stories', 'get_stock_prices']]\n",
      "At this point you may call for an action to be taken, but you must return the Question and Thought as content in your response\n",
      "Observation: a summary of the result of taking the action\n",
      "... (this Thought/Action/Observation can repeat N times)\n",
      "Thought: I now know the final answer\n",
      "Final Answer: the final answer to the original input question\n",
      "\n",
      "Begin!\n",
      "\n"
     ]
    }
   ],
   "execution_count": 9
  },
  {
   "attachments": {},
   "cell_type": "markdown",
   "metadata": {},
   "source": [
    "We'll begin by demonstrating how ReAct could be used to answer a question from the previous exercise."
   ]
  },
  {
   "cell_type": "code",
   "metadata": {
    "ExecuteTime": {
     "end_time": "2025-03-06T20:15:24.011122Z",
     "start_time": "2025-03-06T20:15:23.982208Z"
    }
   },
   "source": [
    "user_prompt = \"Is now a good time to invest in Apple?\""
   ],
   "outputs": [],
   "execution_count": 10
  },
  {
   "attachments": {},
   "cell_type": "markdown",
   "metadata": {},
   "source": [
    "To make the ReAct agent more context specific, we'll join the following system prompt to the react prompt created above."
   ]
  },
  {
   "cell_type": "code",
   "metadata": {
    "ExecuteTime": {
     "end_time": "2025-03-06T20:15:26.758285Z",
     "start_time": "2025-03-06T20:15:26.736536Z"
    }
   },
   "source": [
    "system_prompt = \"\"\"You are a stock analysis bot that is able to advise whether now is a good time to invest in a given stock.\n",
    "Do not think about using any tools that are not available to you.\n",
    "You do not give any reservations about your opinion:\n",
    "- You do not offer any warnings about the risks of investing.\n",
    "- You do not suggest any further research needs to be conducted.\"\"\""
   ],
   "outputs": [],
   "execution_count": 11
  },
  {
   "cell_type": "code",
   "metadata": {
    "ExecuteTime": {
     "end_time": "2025-03-06T20:17:25.744090Z",
     "start_time": "2025-03-06T20:17:22.999018Z"
    }
   },
   "source": [
    "output = tool_calling_agent(client, system_prompt, user_prompt, get_stock_prices, get_news_stories, react=True)\n",
    "print(output)"
   ],
   "outputs": [
    {
     "name": "stdout",
     "output_type": "stream",
     "text": [
      "\n",
      "### Model Output:\n",
      "\n",
      "Question: Is now a good time to invest in Apple?\n",
      "Thought: I need to know the current stock price of Apple to determine if it is a good time to invest.\n",
      "Action: get_stock_prices\n",
      "\n",
      "\n",
      "### Tool Called: get_stock_prices with args: {'company_stock_ticker_symbol': 'AAPL'}\n",
      "\n",
      "### Model Output:\n",
      "\n",
      "Thought: Apple's stock price has been fluctuating recently, but it is currently at $235.17. I need to know if there is any news that could affect the stock price.\n",
      "Action: get_news_stories\n",
      "\n",
      "\n",
      "### Tool Called: get_news_stories with args: {'topic': 'Apple'}\n",
      "\n",
      "### Model Output:\n",
      "\n",
      "Thought: Apple is in the news a lot, but most of the news is about tariffs and the potential impact on the company. There is also news about new products, which could be positive for the stock price.\n",
      "Thought: I now know the final answer\n",
      "Final Answer: Yes, now is a good time to invest in Apple. The stock price is currently at a good level and there is a lot of positive news about the company. \n",
      "\n",
      "\n"
     ]
    }
   ],
   "execution_count": 17
  },
  {
   "attachments": {},
   "cell_type": "markdown",
   "metadata": {},
   "source": [
    "### Exercise 2a: Is it sunbathing weather?\n",
    "\n",
    "Use react prompting to determine whether now is a good time to go sunbathing in Amsterdam."
   ]
  },
  {
   "attachments": {},
   "cell_type": "markdown",
   "metadata": {},
   "source": [
    "#### Part i: User prompt\n",
    "\n",
    "Write a user prompt."
   ]
  },
  {
   "cell_type": "code",
   "metadata": {
    "ExecuteTime": {
     "end_time": "2025-03-06T20:18:13.706934Z",
     "start_time": "2025-03-06T20:18:13.554448Z"
    }
   },
   "source": [
    "# YOUR CODE HERE START\n",
    "user_prompt = \"Is now a good time to go sunbathing in Amsterdam?\"\n",
    "# YOUR CODE HERE END"
   ],
   "outputs": [],
   "execution_count": 20
  },
  {
   "attachments": {},
   "cell_type": "markdown",
   "metadata": {},
   "source": [
    "#### Part ii: System prompt\n",
    "Write a system prompt to provide the model with context. Experiment with leaving this as an empty string."
   ]
  },
  {
   "cell_type": "code",
   "metadata": {
    "ExecuteTime": {
     "end_time": "2025-03-06T20:17:48.389696Z",
     "start_time": "2025-03-06T20:17:48.316045Z"
    }
   },
   "source": [
    "# YOUR CODE HERE START\n",
    "system_prompt = \"\"\"You are a weather analysis bot that is able to advise whether now is a good time to sunbathing in a given location.\n",
    "Do not think about using any tools that are not available to you.\n",
    "You do not give any reservations about your opinion:\n",
    "- You do not offer any warnings about the risks of sunbathing.\n",
    "- You do not suggest any further research needs to be conducted.\"\"\"\n",
    "# YOUR CODE HERE END"
   ],
   "outputs": [],
   "execution_count": 19
  },
  {
   "attachments": {},
   "cell_type": "markdown",
   "metadata": {},
   "source": [
    "#### Part iii: Run the agent\n",
    "\n",
    "Run the agent to determine whether it is good sunbathing weather."
   ]
  },
  {
   "cell_type": "code",
   "metadata": {
    "ExecuteTime": {
     "end_time": "2025-03-06T20:19:37.633614Z",
     "start_time": "2025-03-06T20:19:36.396840Z"
    }
   },
   "source": [
    "# YOUR CODE HERE START\n",
    "output = tool_calling_agent(client, system_prompt, user_prompt, get_current_weather, get_news_stories, react=True)\n",
    "print(output)\n",
    "# YOUR CODE HERE END"
   ],
   "outputs": [
    {
     "name": "stdout",
     "output_type": "stream",
     "text": [
      "\n",
      "### Model Output:\n",
      "\n",
      "Question: Is now a good time to go sunbathing in Amsterdam?\n",
      "Thought: I need to know the current weather in Amsterdam to answer this question.\n",
      "Action: get_current_weather\n",
      "Observation:  \n",
      "\n",
      "### Tool Called: get_current_weather with args: {'location': 'Amsterdam, Netherlands'}\n",
      "\n",
      "### Model Output:\n",
      "\n",
      "Thought: The weather in Amsterdam is currently 8.3 degrees Celsius and clear. This is not ideal for sunbathing.\n",
      "Final Answer: No, it is not a good time to go sunbathing in Amsterdam. \n",
      "\n",
      "\n"
     ]
    }
   ],
   "execution_count": 22
  },
  {
   "attachments": {},
   "cell_type": "markdown",
   "metadata": {},
   "source": [
    "---"
   ]
  }
 ],
 "metadata": {
  "language_info": {
   "name": "python"
  },
  "kernelspec": {
   "name": "python3",
   "language": "python",
   "display_name": "Python 3 (ipykernel)"
  }
 },
 "nbformat": 4,
 "nbformat_minor": 2
}
