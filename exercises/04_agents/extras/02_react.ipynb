{
 "cells": [
  {
   "attachments": {},
   "cell_type": "markdown",
   "metadata": {},
   "source": [
    "# Exercise 2: ReAct\n",
    "\n",
    "In the previous notebook, you built an agent that was able to complete tasks, which LLMs would normally struggle with.\n",
    "\n",
    "The agent was able to complete these tasks because additional tools were provided to the LLM. But crucially, it was able to determine when these tools were needed autonomously.\n",
    "\n",
    "However, for the agent to produce a satisfactory result, we needed to write a long system prompt and be very explicit about what we wanted from the model.\n",
    "\n",
    "In this exercise, you will learn how to create agents using the ReAct framework ([Wei *et al.*, 2023](https://arxiv.org/abs/2210.03629)): an effective paradigm for prompt writing, which has been shown to outperform several benchmarks on language and decision-making tasks and can help to avoid issues of hallucination and error propagation. The improved human interpretability can also help engender trust in the model."
   ]
  },
  {
   "cell_type": "code",
   "execution_count": null,
   "metadata": {},
   "outputs": [],
   "source": [
    "# autoreload imports\n",
    "%load_ext autoreload\n",
    "\n",
    "%autoreload 2"
   ]
  },
  {
   "cell_type": "code",
   "execution_count": null,
   "metadata": {},
   "outputs": [],
   "source": [
    "from llm_in_production.llm import instantiate_langchain_model\n",
    "from llm_in_production.agent_utils import tool_calling_agent\n",
    "from llm_in_production.agent_tools import (\n",
    "    get_news_stories, \n",
    "    get_stock_prices,\n",
    "    get_current_weather\n",
    ")\n",
    "\n",
    "import pandas as pd\n",
    "import dotenv\n",
    "\n",
    "# This reads the .env file in your project and transforms its content into env variables.\n",
    "# This way you don't have to hard code your secrets.\n",
    "dotenv.load_dotenv()\n",
    "\n",
    "# Here we create the client. \n",
    "# Make sure you select the LLM provider that corresponds to the one you are using in this course!\n",
    "client = instantiate_langchain_model(\n",
    "    # llm_provider=\"azure\",\n",
    "    llm_provider=\"gcp\",\n",
    ")\n",
    "client.model_name"
   ]
  },
  {
   "attachments": {},
   "cell_type": "markdown",
   "metadata": {},
   "source": [
    "## Implementing ReAct"
   ]
  },
  {
   "attachments": {},
   "cell_type": "markdown",
   "metadata": {},
   "source": [
    "To implement ReAct, we will write a prompt based on a template from [langchain]() (Langchain's [ReAct agent](https://python.langchain.com/docs/modules/agents/agent_types/react) is a widely-used implementation of ReAct). "
   ]
  },
  {
   "cell_type": "code",
   "execution_count": null,
   "metadata": {},
   "outputs": [],
   "source": [
    "from langchain import hub\n",
    "print(hub.pull(\"hwchase17/react\").template)"
   ]
  },
  {
   "cell_type": "code",
   "execution_count": null,
   "metadata": {},
   "outputs": [],
   "source": [
    "def create_react_prompt(*tools):\n",
    "    tool_names = [tool.__name__ for tool in tools]\n",
    "\n",
    "    return f\"\"\"\n",
    "Answer the following questions as best you can.\n",
    "\n",
    "Use the following format:\n",
    "\n",
    "Question: the input question you must answer\n",
    "Thought: you should always think about what to do\n",
    "Action: the action to take, could be one of the given tools: [{tool_names}]\n",
    "At this point you may call for an action to be taken, but you must return the Question and Thought as content in your response\n",
    "Observation: a summary of the result of taking the action\n",
    "... (this Thought/Action/Observation can repeat N times)\n",
    "Thought: I now know the final answer\n",
    "Final Answer: the final answer to the original input question\n",
    "\n",
    "Begin!\n",
    "\"\"\"\n",
    "\n",
    "print(create_react_prompt(get_news_stories, get_stock_prices))"
   ]
  },
  {
   "attachments": {},
   "cell_type": "markdown",
   "metadata": {},
   "source": [
    "We'll begin by demonstrating how ReAct could be used to answer a question from the previous exercise."
   ]
  },
  {
   "cell_type": "code",
   "execution_count": null,
   "metadata": {},
   "outputs": [],
   "source": [
    "user_prompt = \"Is now a good time to invest in Apple?\""
   ]
  },
  {
   "attachments": {},
   "cell_type": "markdown",
   "metadata": {},
   "source": [
    "To make the ReAct agent more context specific, we'll join the following system prompt to the react prompt created above."
   ]
  },
  {
   "cell_type": "code",
   "execution_count": null,
   "metadata": {},
   "outputs": [],
   "source": [
    "system_prompt = \"\"\"You are a stock analysis bot that is able to advise whether now is a good time to invest in a given stock.\n",
    "Do not think about using any tools that are not available to you.\n",
    "You do not give any reservations about your opinion:\n",
    "- You do not offer any warnings about the risks of investing.\n",
    "- You do not suggest any further research needs to be conducted.\"\"\""
   ]
  },
  {
   "cell_type": "code",
   "execution_count": null,
   "metadata": {},
   "outputs": [],
   "source": [
    "output = tool_calling_agent(client, system_prompt, user_prompt, get_stock_prices, get_news_stories, react=True)\n",
    "print(output)"
   ]
  },
  {
   "attachments": {},
   "cell_type": "markdown",
   "metadata": {},
   "source": [
    "### Exercise 2a: Is it sunbathing weather?\n",
    "\n",
    "Use react prompting to determine whether now is a good time to go sunbathing in Amsterdam."
   ]
  },
  {
   "attachments": {},
   "cell_type": "markdown",
   "metadata": {},
   "source": [
    "#### Part i: User prompt\n",
    "\n",
    "Write a user prompt."
   ]
  },
  {
   "cell_type": "code",
   "execution_count": null,
   "metadata": {},
   "outputs": [],
   "source": [
    "# YOUR CODE HERE START\n",
    "# YOUR CODE HERE END"
   ]
  },
  {
   "attachments": {},
   "cell_type": "markdown",
   "metadata": {},
   "source": [
    "#### Part ii: System prompt\n",
    "Write a system prompt to provide the model with context. Experiment with leaving this as an empty string."
   ]
  },
  {
   "cell_type": "code",
   "execution_count": null,
   "metadata": {},
   "outputs": [],
   "source": [
    "# YOUR CODE HERE START\n",
    "# YOUR CODE HERE END"
   ]
  },
  {
   "attachments": {},
   "cell_type": "markdown",
   "metadata": {},
   "source": [
    "#### Part iii: Run the agent\n",
    "\n",
    "Run the agent to determine whether it is good sunbathing weather."
   ]
  },
  {
   "cell_type": "code",
   "execution_count": null,
   "metadata": {},
   "outputs": [],
   "source": [
    "# YOUR CODE HERE START\n",
    "# YOUR CODE HERE END"
   ]
  },
  {
   "attachments": {},
   "cell_type": "markdown",
   "metadata": {},
   "source": [
    "---"
   ]
  }
 ],
 "metadata": {
  "language_info": {
   "name": "python"
  }
 },
 "nbformat": 4,
 "nbformat_minor": 2
}