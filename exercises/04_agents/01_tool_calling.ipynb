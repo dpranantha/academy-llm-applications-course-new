{
 "cells": [
  {
   "attachments": {},
   "cell_type": "markdown",
   "metadata": {},
   "source": [
    "# Exercise 1: Tool Calling"
   ]
  },
  {
   "attachments": {},
   "cell_type": "markdown",
   "metadata": {},
   "source": [
    "Large Language Models (LLMs) are incredibly powerful. However, as we've seen, they can struggle with simple mathematical problems and are limited by the information contained in their training data.\n",
    "\n",
    "That said, we can describe tools, such as Python functions, to the LLM that may be useful for solving tasks. While the models themselves won't call the functions directly, they can determine when a function is needed and return the appropriate arguments for use.\n",
    "\n",
    "In this notebook, you'll learn how describing functions to a model can transform it into an agent capable of reasoning with itself to answer a query."
   ]
  },
  {
   "cell_type": "code",
   "metadata": {
    "ExecuteTime": {
     "end_time": "2025-03-06T13:56:32.716331Z",
     "start_time": "2025-03-06T13:56:32.646059Z"
    }
   },
   "source": [
    "# autoreload imports\n",
    "%load_ext autoreload\n",
    "\n",
    "%autoreload 2"
   ],
   "outputs": [
    {
     "name": "stdout",
     "output_type": "stream",
     "text": [
      "The autoreload extension is already loaded. To reload it, use:\n",
      "  %reload_ext autoreload\n"
     ]
    }
   ],
   "execution_count": 21
  },
  {
   "cell_type": "code",
   "metadata": {
    "ExecuteTime": {
     "end_time": "2025-03-06T13:56:35.325040Z",
     "start_time": "2025-03-06T13:56:35.255010Z"
    }
   },
   "source": [
    "from llm_in_production.llm import instantiate_langchain_model\n",
    "from llm_in_production.agent_utils import (\n",
    "    # function_to_json,\n",
    "    tool_calling_agent,\n",
    ")\n",
    "from langchain_core.utils.function_calling import convert_to_openai_function\n",
    "import dotenv\n",
    "import numpy as np\n",
    "import os\n",
    "import json\n",
    "import requests\n",
    "import pandas as pd\n",
    "import yfinance as yf\n",
    "import tiktoken\n",
    "\n",
    "# This reads the .env file in your project and transforms its content into env variables.\n",
    "# This way you don't have to hard code your secrets.\n",
    "dotenv.load_dotenv()\n",
    "\n",
    "# Here we create the client. \n",
    "# Make sure you select the LLM provider that corresponds to the one you are using in this course!\n",
    "client = instantiate_langchain_model(\n",
    "    # llm_provider=\"azure\",\n",
    "    llm_provider=\"gcp\",\n",
    ")\n",
    "client.model_name"
   ],
   "outputs": [
    {
     "data": {
      "text/plain": [
       "'gemini-1.5-flash'"
      ]
     },
     "execution_count": 22,
     "metadata": {},
     "output_type": "execute_result"
    }
   ],
   "execution_count": 22
  },
  {
   "attachments": {},
   "cell_type": "markdown",
   "metadata": {},
   "source": [
    "## LLM limiations\n",
    "\n",
    "Let's start by demonstrating one of the limitations of LLMs.\n",
    "\n",
    "The prompt below is asking the model to answer a simple highschool mathematics problem."
   ]
  },
  {
   "cell_type": "code",
   "metadata": {
    "ExecuteTime": {
     "end_time": "2025-03-06T13:43:03.550553Z",
     "start_time": "2025-03-06T13:43:03.346338Z"
    }
   },
   "source": [
    "math_problem = \"what is the circumference of a circle with radius 5.31cm\""
   ],
   "outputs": [],
   "execution_count": 3
  },
  {
   "cell_type": "code",
   "metadata": {
    "ExecuteTime": {
     "end_time": "2025-03-06T13:43:04.700449Z",
     "start_time": "2025-03-06T13:43:04.678179Z"
    }
   },
   "source": [
    "system_prompt = \"You are a calculator bot that is used to answer mathematics problems\""
   ],
   "outputs": [],
   "execution_count": 4
  },
  {
   "cell_type": "code",
   "metadata": {
    "ExecuteTime": {
     "end_time": "2025-03-06T13:43:05.710433Z",
     "start_time": "2025-03-06T13:43:05.684087Z"
    }
   },
   "source": [
    "messages = [\n",
    "    {\"role\": \"system\", \"content\": system_prompt},\n",
    "    {\"role\": \"user\", \"content\": math_problem},\n",
    "]\n"
   ],
   "outputs": [],
   "execution_count": 5
  },
  {
   "cell_type": "code",
   "metadata": {
    "ExecuteTime": {
     "end_time": "2025-03-06T13:43:10.354034Z",
     "start_time": "2025-03-06T13:43:07.348161Z"
    }
   },
   "source": [
    "\n",
    "response = client.invoke(\n",
    "    input=messages,\n",
    "    seed=0,\n",
    ")\n",
    "\n",
    "message = response.content\n",
    "\n",
    "print(message)"
   ],
   "outputs": [
    {
     "name": "stdout",
     "output_type": "stream",
     "text": [
      "The circumference of a circle is calculated using the formula:\n",
      "\n",
      "**Circumference = 2 * π * radius**\n",
      "\n",
      "Where:\n",
      "\n",
      "* **π (pi)** is a mathematical constant approximately equal to 3.14159\n",
      "* **radius** is the distance from the center of the circle to its edge.\n",
      "\n",
      "In this case, the radius is 5.31 cm. \n",
      "\n",
      "So, the circumference is:\n",
      "\n",
      "Circumference = 2 * 3.14159 * 5.31 cm \n",
      "**Circumference ≈ 33.38 cm** \n",
      "\n"
     ]
    }
   ],
   "execution_count": 6
  },
  {
   "attachments": {},
   "cell_type": "markdown",
   "metadata": {},
   "source": [
    "However, the answer it produces is incorrect.\n",
    "\n",
    "$2*\\pi*5.31 = 33.3637139811...$\n",
    "\n",
    "For this problem, a simple Python function would be more useful!"
   ]
  },
  {
   "cell_type": "code",
   "metadata": {
    "ExecuteTime": {
     "end_time": "2025-03-06T13:43:20.961812Z",
     "start_time": "2025-03-06T13:43:20.936418Z"
    }
   },
   "source": [
    "def circumference_calculator(radius: float, something: float = 4.4) -> float:\n",
    "    \"\"\"Calculates the circumference of a circle given the radius\n",
    "\n",
    "    :param radius: The radius of the circle\n",
    "    :return: The circumference of the circle\n",
    "    \"\"\"\n",
    "    return 2 * np.pi * radius\n",
    "\n",
    "\n",
    "circumference_calculator(5.31)"
   ],
   "outputs": [
    {
     "data": {
      "text/plain": [
       "33.3637139811236"
      ]
     },
     "execution_count": 7,
     "metadata": {},
     "output_type": "execute_result"
    }
   ],
   "execution_count": 7
  },
  {
   "attachments": {},
   "cell_type": "markdown",
   "metadata": {},
   "source": [
    "But what if the LLM knew about this Python function?"
   ]
  },
  {
   "attachments": {},
   "cell_type": "markdown",
   "metadata": {},
   "source": [
    "## Tool Calling"
   ]
  },
  {
   "attachments": {},
   "cell_type": "markdown",
   "metadata": {},
   "source": [
    "It is now possible to inform LLMs about external tools.\n",
    "\n",
    "The model can then determine on its own when it's appropriate to use one of these tools and, if needed, return the appropriate arguments."
   ]
  },
  {
   "attachments": {},
   "cell_type": "markdown",
   "metadata": {},
   "source": [
    "To describe a function to the model it must be in a particular JSON format. LangChain have created a helpful function to transform Python functions into this format."
   ]
  },
  {
   "cell_type": "code",
   "metadata": {
    "ExecuteTime": {
     "end_time": "2025-03-06T13:43:23.205237Z",
     "start_time": "2025-03-06T13:43:23.159353Z"
    }
   },
   "source": [
    "circumference_calculator_json = convert_to_openai_function(circumference_calculator)\n",
    "circumference_calculator_json"
   ],
   "outputs": [
    {
     "data": {
      "text/plain": [
       "{'name': 'circumference_calculator',\n",
       " 'description': 'Calculates the circumference of a circle given the radius :param radius: The radius of the circle\\n:return: The circumference of the circle',\n",
       " 'parameters': {'properties': {'radius': {'type': 'number'},\n",
       "   'something': {'default': 4.4, 'type': 'number'}},\n",
       "  'required': ['radius'],\n",
       "  'type': 'object'}}"
      ]
     },
     "execution_count": 8,
     "metadata": {},
     "output_type": "execute_result"
    }
   ],
   "execution_count": 8
  },
  {
   "attachments": {},
   "cell_type": "markdown",
   "metadata": {},
   "source": [
    "Let's give the model access to this tool and repeat the prompt we did before."
   ]
  },
  {
   "cell_type": "code",
   "metadata": {
    "ExecuteTime": {
     "end_time": "2025-03-06T13:43:40.967894Z",
     "start_time": "2025-03-06T13:43:40.419048Z"
    }
   },
   "source": [
    "tools = [{\"type\": \"function\", \"function\": circumference_calculator_json}]\n",
    "\n",
    "response = client.invoke(\n",
    "    input=messages,\n",
    "    seed=0,\n",
    "    tools=tools,\n",
    "    tool_choice = \"auto\"  # (default setting) the model will pick between generating a message or calling a function automatically \n",
    ")\n",
    "response"
   ],
   "outputs": [
    {
     "data": {
      "text/plain": [
       "AIMessage(content='', additional_kwargs={'function_call': {'name': 'circumference_calculator', 'arguments': '{\"radius\": 5.31}'}}, response_metadata={'is_blocked': False, 'safety_ratings': [{'category': 'HARM_CATEGORY_HATE_SPEECH', 'probability_label': 'NEGLIGIBLE', 'probability_score': 0.09521484375, 'blocked': False, 'severity': 'HARM_SEVERITY_NEGLIGIBLE', 'severity_score': 0.064453125}, {'category': 'HARM_CATEGORY_DANGEROUS_CONTENT', 'probability_label': 'NEGLIGIBLE', 'probability_score': 0.10107421875, 'blocked': False, 'severity': 'HARM_SEVERITY_NEGLIGIBLE', 'severity_score': 0.07177734375}, {'category': 'HARM_CATEGORY_HARASSMENT', 'probability_label': 'NEGLIGIBLE', 'probability_score': 0.16015625, 'blocked': False, 'severity': 'HARM_SEVERITY_NEGLIGIBLE', 'severity_score': 0.11572265625}, {'category': 'HARM_CATEGORY_SEXUALLY_EXPLICIT', 'probability_label': 'NEGLIGIBLE', 'probability_score': 0.06640625, 'blocked': False, 'severity': 'HARM_SEVERITY_NEGLIGIBLE', 'severity_score': 0.0260009765625}], 'usage_metadata': {'prompt_token_count': 62, 'candidates_token_count': 5, 'total_token_count': 67, 'prompt_tokens_details': [{'modality': 1, 'token_count': 62}], 'candidates_tokens_details': [{'modality': 1, 'token_count': 5}], 'cached_content_token_count': 0, 'cache_tokens_details': []}, 'finish_reason': 'STOP', 'avg_logprobs': -1.2159460311522708e-06}, id='run-7438c6ea-d036-4d5f-9cda-7859c7197f38-0', tool_calls=[{'name': 'circumference_calculator', 'args': {'radius': 5.31}, 'id': '02195e83-21cd-4ea0-806b-74d84ab3e573', 'type': 'tool_call'}], usage_metadata={'input_tokens': 62, 'output_tokens': 5, 'total_tokens': 67})"
      ]
     },
     "execution_count": 9,
     "metadata": {},
     "output_type": "execute_result"
    }
   ],
   "execution_count": 9
  },
  {
   "cell_type": "markdown",
   "metadata": {},
   "source": [
    "The model has no message to return:"
   ]
  },
  {
   "cell_type": "code",
   "metadata": {
    "ExecuteTime": {
     "end_time": "2025-03-06T13:44:46.376476Z",
     "start_time": "2025-03-06T13:44:46.223006Z"
    }
   },
   "source": [
    "message = response.content\n",
    "print(f\"Message: {message}\")"
   ],
   "outputs": [
    {
     "name": "stdout",
     "output_type": "stream",
     "text": [
      "Message: \n"
     ]
    }
   ],
   "execution_count": 10
  },
  {
   "cell_type": "markdown",
   "metadata": {},
   "source": [
    "But, it has called for a tool to be used, with arguments!"
   ]
  },
  {
   "cell_type": "code",
   "metadata": {
    "ExecuteTime": {
     "end_time": "2025-03-06T13:44:57.337798Z",
     "start_time": "2025-03-06T13:44:57.314150Z"
    }
   },
   "source": [
    "tool_calls = response.tool_calls\n",
    "print(f\"Tool calls: {tool_calls}\")"
   ],
   "outputs": [
    {
     "name": "stdout",
     "output_type": "stream",
     "text": [
      "Tool calls: [{'name': 'circumference_calculator', 'args': {'radius': 5.31}, 'id': '02195e83-21cd-4ea0-806b-74d84ab3e573', 'type': 'tool_call'}]\n"
     ]
    }
   ],
   "execution_count": 11
  },
  {
   "attachments": {},
   "cell_type": "markdown",
   "metadata": {},
   "source": [
    "Let's do what the model suggests and call the Python function `circumference_calculator`, with the argument `radius=5.31`."
   ]
  },
  {
   "cell_type": "code",
   "metadata": {
    "ExecuteTime": {
     "end_time": "2025-03-06T13:45:16.602540Z",
     "start_time": "2025-03-06T13:45:16.530888Z"
    }
   },
   "source": [
    "tool_name = tool_calls[0]['name']\n",
    "tool_args = tool_calls[0]['args']\n",
    "tool_response = json.dumps(eval(tool_name)(**tool_args))\n",
    "\n",
    "print(f\"Function response {tool_response}\")"
   ],
   "outputs": [
    {
     "name": "stdout",
     "output_type": "stream",
     "text": [
      "Function response 33.3637139811236\n"
     ]
    }
   ],
   "execution_count": 12
  },
  {
   "attachments": {},
   "cell_type": "markdown",
   "metadata": {},
   "source": [
    "The number is correct. Let's pass information back to the model.\n",
    "\n",
    "First we need to update the message history."
   ]
  },
  {
   "cell_type": "code",
   "metadata": {
    "ExecuteTime": {
     "end_time": "2025-03-06T13:45:24.355562Z",
     "start_time": "2025-03-06T13:45:24.204719Z"
    }
   },
   "source": [
    "messages.append(response)\n",
    "\n",
    "messages.append(\n",
    "    {\n",
    "        \"role\": \"tool\",\n",
    "        \"name\": tool_name,\n",
    "        \"content\": tool_response,\n",
    "        \"tool_call_id\": tool_calls[0]['id'],\n",
    "    }\n",
    ")  # extend conversation with function response\n",
    "\n",
    "if len(messages) > 4:\n",
    "    raise Exception(\n",
    "        \"Too many messages have been added! Restart and rerun the notebook.\"\n",
    "    )\n",
    "\n",
    "messages"
   ],
   "outputs": [
    {
     "data": {
      "text/plain": [
       "[{'role': 'system',\n",
       "  'content': 'You are a calculator bot that is used to answer mathematics problems'},\n",
       " {'role': 'user',\n",
       "  'content': 'what is the circumference of a circle with radius 5.31cm'},\n",
       " AIMessage(content='', additional_kwargs={'function_call': {'name': 'circumference_calculator', 'arguments': '{\"radius\": 5.31}'}}, response_metadata={'is_blocked': False, 'safety_ratings': [{'category': 'HARM_CATEGORY_HATE_SPEECH', 'probability_label': 'NEGLIGIBLE', 'probability_score': 0.09521484375, 'blocked': False, 'severity': 'HARM_SEVERITY_NEGLIGIBLE', 'severity_score': 0.064453125}, {'category': 'HARM_CATEGORY_DANGEROUS_CONTENT', 'probability_label': 'NEGLIGIBLE', 'probability_score': 0.10107421875, 'blocked': False, 'severity': 'HARM_SEVERITY_NEGLIGIBLE', 'severity_score': 0.07177734375}, {'category': 'HARM_CATEGORY_HARASSMENT', 'probability_label': 'NEGLIGIBLE', 'probability_score': 0.16015625, 'blocked': False, 'severity': 'HARM_SEVERITY_NEGLIGIBLE', 'severity_score': 0.11572265625}, {'category': 'HARM_CATEGORY_SEXUALLY_EXPLICIT', 'probability_label': 'NEGLIGIBLE', 'probability_score': 0.06640625, 'blocked': False, 'severity': 'HARM_SEVERITY_NEGLIGIBLE', 'severity_score': 0.0260009765625}], 'usage_metadata': {'prompt_token_count': 62, 'candidates_token_count': 5, 'total_token_count': 67, 'prompt_tokens_details': [{'modality': 1, 'token_count': 62}], 'candidates_tokens_details': [{'modality': 1, 'token_count': 5}], 'cached_content_token_count': 0, 'cache_tokens_details': []}, 'finish_reason': 'STOP', 'avg_logprobs': -1.2159460311522708e-06}, id='run-7438c6ea-d036-4d5f-9cda-7859c7197f38-0', tool_calls=[{'name': 'circumference_calculator', 'args': {'radius': 5.31}, 'id': '02195e83-21cd-4ea0-806b-74d84ab3e573', 'type': 'tool_call'}], usage_metadata={'input_tokens': 62, 'output_tokens': 5, 'total_tokens': 67}),\n",
       " {'role': 'tool',\n",
       "  'name': 'circumference_calculator',\n",
       "  'content': '33.3637139811236',\n",
       "  'tool_call_id': '02195e83-21cd-4ea0-806b-74d84ab3e573'}]"
      ]
     },
     "execution_count": 13,
     "metadata": {},
     "output_type": "execute_result"
    }
   ],
   "execution_count": 13
  },
  {
   "attachments": {},
   "cell_type": "markdown",
   "metadata": {},
   "source": [
    "Now we can call the model again to answer the original query."
   ]
  },
  {
   "cell_type": "code",
   "metadata": {
    "ExecuteTime": {
     "end_time": "2025-03-06T13:46:13.789189Z",
     "start_time": "2025-03-06T13:46:13.051113Z"
    }
   },
   "source": [
    "response = client.invoke(\n",
    "    input=messages,\n",
    "    seed=0,\n",
    "    tools=tools,\n",
    ")  # get a new response using the result of the function call\n",
    "\n",
    "\n",
    "message = response.content\n",
    "tool_calls = response.tool_calls\n",
    "\n",
    "print(f\"New tool calls: {len(tool_calls)}\")\n",
    "print(message)"
   ],
   "outputs": [
    {
     "name": "stdout",
     "output_type": "stream",
     "text": [
      "New tool calls: 0\n",
      "The circumference of the circle is 33.3637139811236 cm. \n",
      "\n"
     ]
    }
   ],
   "execution_count": 14
  },
  {
   "attachments": {},
   "cell_type": "markdown",
   "metadata": {},
   "source": [
    "Thanks to tool calling, we were able to produce the correct result!"
   ]
  },
  {
   "attachments": {},
   "cell_type": "markdown",
   "metadata": {},
   "source": [
    "Notice how the model will only reach for a function if it is needed."
   ]
  },
  {
   "cell_type": "code",
   "metadata": {
    "ExecuteTime": {
     "end_time": "2025-03-06T13:47:48.144998Z",
     "start_time": "2025-03-06T13:47:47.520313Z"
    }
   },
   "source": [
    "history_problem = \"How many wives did king Henry VIII of England have?\"\n",
    "\n",
    "response = client.invoke(\n",
    "    input=[\n",
    "        # {\"role\": \"system\", \"content\": system_prompt},\n",
    "        {\"role\": \"user\", \"content\": history_problem},\n",
    "    ],\n",
    "    seed=0,\n",
    "    tools=tools,\n",
    ")\n",
    "\n",
    "message = response.content\n",
    "tool_calls = response.tool_calls\n",
    "\n",
    "print(f\"Message: {message}\")\n",
    "print(f\"Tool calls: {tool_calls}\")"
   ],
   "outputs": [
    {
     "name": "stdout",
     "output_type": "stream",
     "text": [
      "Message: King Henry VIII of England had six wives. \n",
      "\n",
      "Tool calls: []\n"
     ]
    }
   ],
   "execution_count": 16
  },
  {
   "attachments": {},
   "cell_type": "markdown",
   "metadata": {},
   "source": [
    "## External APIs\n",
    "\n",
    "One way of gathering live information is through the use of an external API.\n",
    "\n",
    "They can enable us to retrieve a wide variety of information (although some will come at a cost for commercial usage). For example:\n",
    "- The weather conditions for a particular location.\n",
    "- The topic headline from a particular news source.\n",
    "- The recent prices of a stock .\n",
    "\n",
    "\n",
    "### Weather\n",
    "\n",
    "To get information about local weather we can use the API from https://www.weatherapi.com, which is availble on a [free plan](https://www.weatherapi.com/pricing.aspx). An API key has been provided for you in the Codespace."
   ]
  },
  {
   "attachments": {},
   "cell_type": "markdown",
   "metadata": {},
   "source": [
    "We can use the function below to obtain weather information for a particular location. You can take a look at the [WeatherAPI docs](https://www.weatherapi.com/docs/) for more examples of how to use the API."
   ]
  },
  {
   "cell_type": "code",
   "metadata": {
    "ExecuteTime": {
     "end_time": "2025-03-06T13:59:23.470162Z",
     "start_time": "2025-03-06T13:59:23.351866Z"
    }
   },
   "source": [
    "from dotenv import load_dotenv\n",
    "\n",
    "load_dotenv()\n",
    "\n",
    "%reload_ext dotenv\n",
    "%dotenv /Users/dpranantha/Projects/bol/training/academy-llm-applications-course/.env\n",
    "\n",
    "def get_current_weather(location: str) -> dict:\n",
    "    \"\"\"Get the current weather conditions in a given location\n",
    "\n",
    "    :param location: The city (and state), e.g. \"San Francisco, CA\"\n",
    "    :return: The weather conditions\n",
    "    \"\"\"\n",
    "    return requests.get(\n",
    "        f\"https://api.weatherapi.com/v1/current.json?key=4aebfed4097a43aebe6135356250603&q={location}\"\n",
    "    ).json()\n",
    "\n",
    "\n",
    "get_current_weather(\"London\")"
   ],
   "outputs": [
    {
     "name": "stdout",
     "output_type": "stream",
     "text": [
      "TODO\n"
     ]
    },
    {
     "data": {
      "text/plain": [
       "{'location': {'name': 'London',\n",
       "  'region': 'City of London, Greater London',\n",
       "  'country': 'United Kingdom',\n",
       "  'lat': 51.5171,\n",
       "  'lon': -0.1062,\n",
       "  'tz_id': 'Europe/London',\n",
       "  'localtime_epoch': 1741269563,\n",
       "  'localtime': '2025-03-06 13:59'},\n",
       " 'current': {'last_updated_epoch': 1741268700,\n",
       "  'last_updated': '2025-03-06 13:45',\n",
       "  'temp_c': 17.1,\n",
       "  'temp_f': 62.8,\n",
       "  'is_day': 1,\n",
       "  'condition': {'text': 'Sunny',\n",
       "   'icon': '//cdn.weatherapi.com/weather/64x64/day/113.png',\n",
       "   'code': 1000},\n",
       "  'wind_mph': 12.1,\n",
       "  'wind_kph': 19.4,\n",
       "  'wind_degree': 185,\n",
       "  'wind_dir': 'S',\n",
       "  'pressure_mb': 1012.0,\n",
       "  'pressure_in': 29.88,\n",
       "  'precip_mm': 0.0,\n",
       "  'precip_in': 0.0,\n",
       "  'humidity': 45,\n",
       "  'cloud': 0,\n",
       "  'feelslike_c': 17.1,\n",
       "  'feelslike_f': 62.8,\n",
       "  'windchill_c': 12.8,\n",
       "  'windchill_f': 55.0,\n",
       "  'heatindex_c': 14.3,\n",
       "  'heatindex_f': 57.7,\n",
       "  'dewpoint_c': 4.4,\n",
       "  'dewpoint_f': 39.9,\n",
       "  'vis_km': 10.0,\n",
       "  'vis_miles': 6.0,\n",
       "  'uv': 2.3,\n",
       "  'gust_mph': 14.1,\n",
       "  'gust_kph': 22.7}}"
      ]
     },
     "execution_count": 30,
     "metadata": {},
     "output_type": "execute_result"
    }
   ],
   "execution_count": 30
  },
  {
   "attachments": {},
   "cell_type": "markdown",
   "metadata": {},
   "source": [
    "There is a lot of information in the JSON that the function returns, more than is needed for the average person. However, an LLM would be able to summarize this information into a readable paragraph.\n",
    "\n",
    "In the cell below, we have written a system prompt and user prompt, which we pass to the `tool_calling_agent` function, along with the `get_current_weather` function.\n",
    "\n",
    "The `tool_calling_agent` is a helpful function we wrote to automate the reasoning process used above:\n",
    "\n",
    "- First, any functions or tools we want to give the model access to are transformed into the JSON format it expects.\n",
    "- We then extract a response from the model based on the input prompts.\n",
    "- The process may finish there, but if the model deems it necessary, it may ask for a tool to be called. In this case:\n",
    "    - The tool is called using the parameters returned by the model.\n",
    "    - The tool’s response is then given to the model.\n",
    "    - Finally, the output based on this new information is returned.\n",
    "    \n",
    "We’ve added some logging to help you understand what’s going on \"under the hood.\"\n"
   ]
  },
  {
   "cell_type": "code",
   "metadata": {
    "ExecuteTime": {
     "end_time": "2025-03-06T13:59:34.292252Z",
     "start_time": "2025-03-06T13:59:34.196893Z"
    }
   },
   "source": [
    "system_prompt = \"\"\"\n",
    "You are a weather bot that is able to give back a summary of the weather conditions in the given location. \n",
    "\n",
    "You do not return many measurements about the conditions.\n",
    "\n",
    "Instead, you give an overall idea as to what conditions are like in one or two sentences.\"\n",
    "\"\"\"\n",
    "\n",
    "user_prompt = \"What is the weather in London?\""
   ],
   "outputs": [],
   "execution_count": 31
  },
  {
   "cell_type": "code",
   "metadata": {
    "ExecuteTime": {
     "end_time": "2025-03-06T13:59:36.997290Z",
     "start_time": "2025-03-06T13:59:35.217437Z"
    }
   },
   "source": [
    "output = tool_calling_agent(client, system_prompt, user_prompt, get_current_weather)\n",
    "print(output)"
   ],
   "outputs": [
    {
     "name": "stdout",
     "output_type": "stream",
     "text": [
      "\n",
      "### Model Output:\n",
      "\n",
      "\n",
      "\n",
      "### Tool Called: get_current_weather with args: {'location': 'London'}\n",
      "\n",
      "### Model Output:\n",
      "\n",
      "It is sunny in London with a temperature of 17.1 degrees Celsius. \n",
      "\n",
      "\n"
     ]
    }
   ],
   "execution_count": 32
  },
  {
   "attachments": {},
   "cell_type": "markdown",
   "metadata": {},
   "source": [
    "### Exercise 1a: News\n",
    "\n",
    "Your task is to build an agent that can summarize the top headlines of the day from a given news source.\n",
    "\n",
    "To give the model access to the latest news stories, you can use the https://newsapi.org/ API, which is available on a [free plan](https://newsapi.org/pricing). An API key is already provided for you in the Codespace.\n"
   ]
  },
  {
   "attachments": {},
   "cell_type": "markdown",
   "metadata": {},
   "source": [
    "#### Part i: The day's top headlines\n",
    "\n",
    "Write a Python function that returns JSON information about the top headlines of the day (from a given source) in the Python dictionary format. You can use the examples given in the [NewsAPI docs](https://newsapi.org/docs/endpoints/top-headlines) to help you answer this question."
   ]
  },
  {
   "cell_type": "code",
   "metadata": {
    "ExecuteTime": {
     "end_time": "2025-03-06T14:12:14.586110Z",
     "start_time": "2025-03-06T14:12:14.405194Z"
    }
   },
   "source": [
    "def get_top_headlines(source: str) -> dict:\n",
    "    # YOUR CODE HERE START\n",
    "    return requests.get(\n",
    "        f\"https://newsapi.org/v2/top-headlines?apiKey=a49e3df725554d18b2ad712959e8fd61&source={source}&category=politics\"\n",
    "    ).json()\n",
    "    # YOUR CODE HERE END\n",
    "\n",
    "get_top_headlines(\"bbc-news\")"
   ],
   "outputs": [
    {
     "data": {
      "text/plain": [
       "{'status': 'ok',\n",
       " 'totalResults': 35,\n",
       " 'articles': [{'source': {'id': None, 'name': 'MarketWatch'},\n",
       "   'author': 'Jeffry Bartash, Myra P. Saefong, Vivien Lou Chen, Joseph Adinolfi, Isabel Wang, Christine Idzelis, Joy Wiltermuth, Jamie Chisholm, Steve Goldstein',\n",
       "   'title': 'Stock Market Today: Dow, S&P 500 and Nasdaq futures erase gains as investors weigh weak ADP report, potential tariff relief - MarketWatch',\n",
       "   'description': 'Stocks are struggling to hold an early bounce Wednesday, with focus on weaker-than-forecast ADP jobs data and hopes for a potential softer approach on tariffs from President Trump.',\n",
       "   'url': 'https://www.marketwatch.com/livecoverage/stock-market-today-dow-s-p-500-and-nasdaq-in-line-for-rebound-amid-volatile-trading',\n",
       "   'urlToImage': 'https://images.mktw.net/im-38813246/social',\n",
       "   'publishedAt': '2025-03-05T14:20:00Z',\n",
       "   'content': None},\n",
       "  {'source': {'id': 'cnn', 'name': 'CNN'},\n",
       "   'author': 'John Fritze',\n",
       "   'title': 'Supreme Court rejects Trump’s request to keep billions in foreign aid frozen - CNN',\n",
       "   'description': 'A divided Supreme Court on Wednesday rejected the Trump administration’s request to keep billions of dollars in foreign aid approved by Congress frozen.',\n",
       "   'url': 'https://www.cnn.com/2025/03/05/politics/supreme-court-usaid-foreign-aid/index.html',\n",
       "   'urlToImage': 'https://media.cnn.com/api/v1/images/stellar/prod/2025-02-24t143153z-1113666480-rc2bl8a8wu4b-rtrmadp-3-usa-court-abortion-clinics.JPG?c=16x9&q=w_800,c_fill',\n",
       "   'publishedAt': '2025-03-05T14:09:00Z',\n",
       "   'content': 'A divided Supreme Court on Wednesday rejected the Trump administrations request to keep billions of dollars in foreign aid approved by Congress frozen.\\r\\nHowever, the court did not immediately say whe… [+5428 chars]'},\n",
       "  {'source': {'id': None, 'name': 'Apple Newsroom'},\n",
       "   'author': None,\n",
       "   'title': 'Apple introduces the new MacBook Air with the M4 chip and a sky blue color - Apple Newsroom',\n",
       "   'description': 'Apple announced the new MacBook Air, featuring the M4 chip, up to 18 hours of battery life, a 12MP Center Stage camera, and a lower starting price.',\n",
       "   'url': 'https://www.apple.com/newsroom/2025/03/apple-introduces-the-new-macbook-air-with-the-m4-chip-and-a-sky-blue-color/',\n",
       "   'urlToImage': 'https://www.apple.com/newsroom/images/2025/03/apple-introduces-the-new-macbook-air-with-the-m4-chip-and-a-sky-blue-color/tile/Apple-MacBook-Air-hero-250305-lp.jpg.og.jpg?202503051400',\n",
       "   'publishedAt': '2025-03-05T14:00:37Z',\n",
       "   'content': 'March 5, 2025\\r\\nPRESS RELEASE\\r\\nApple introduces the new MacBook\\xa0Air with the soaring performance of the M4\\xa0chip, a\\xa0gorgeous new sky blue color, and a lower starting price of\\xa0$999\\r\\nThe worlds most popu… [+15417 chars]'},\n",
       "  {'source': {'id': 'ars-technica', 'name': 'Ars Technica'},\n",
       "   'author': 'Andrew Cunningham',\n",
       "   'title': 'Apple announces M3 Ultra—and says not every generation will see an “Ultra” chip - Ars Technica',\n",
       "   'description': 'It could explain why we’re getting an M3 Ultra this deep into the M4 rollout.',\n",
       "   'url': 'https://arstechnica.com/apple/2025/03/apple-announces-m3-ultra-and-says-not-every-generation-will-see-an-ultra-chip/',\n",
       "   'urlToImage': 'https://cdn.arstechnica.net/wp-content/uploads/2025/03/m3-ultra-scaled-1152x648-1741184385.jpeg',\n",
       "   'publishedAt': '2025-03-05T14:00:23Z',\n",
       "   'content': None},\n",
       "  {'source': {'id': 'the-verge', 'name': 'The Verge'},\n",
       "   'author': 'Tom Warren',\n",
       "   'title': 'AMD Radeon RX 9070 / 9070 XT review: Nvidia gets some big next-gen competition - The Verge',\n",
       "   'description': 'AMD’s new Radeon RX 9070 and RX 9070 XT cards are taking on Nvidia. They beat the RTX 5070 and put pressure on pricing.',\n",
       "   'url': 'https://www.theverge.com/gpu-reviews/624423/amd-radeon-rx-9070-xt-review-benchmarks-price',\n",
       "   'urlToImage': 'https://platform.theverge.com/wp-content/uploads/sites/2/2025/03/257587_AMD_RX_9700_and_9700_XT_TWarren_0001.jpg?quality=90&strip=all&crop=0%2C10.471204188482%2C100%2C79.057591623037&w=1200',\n",
       "   'publishedAt': '2025-03-05T14:00:00Z',\n",
       "   'content': 'AMDs two new GPUs beat Nvidias RTX 5070 and put the pressure on pricing.\\r\\nNvidias dominance over the latest generation of graphics cards ends today. AMD might have surrendered the high end of the GPU… [+10400 chars]'},\n",
       "  {'source': {'id': None, 'name': 'Page Six'},\n",
       "   'author': 'Nicki Cox',\n",
       "   'title': \"'Bachelorette' and 'Traitors' star Gabby Windey marries girlfriend Robby Hoffman in Las Vegas - Page Six\",\n",
       "   'description': 'The couple quietly tied the knot during an intimate ceremony in Las Vegas last month after fleeing from the California wildfires.',\n",
       "   'url': 'https://pagesix.com/2025/03/05/celebrity-news/bachelorette-and-traitors-star-gabby-windey-marries-girlfriend-robby-hoffman-in-las-vegas/',\n",
       "   'urlToImage': 'https://pagesix.com/wp-content/uploads/sites/3/2025/03/99809689.jpg?quality=75&strip=all&w=1024',\n",
       "   'publishedAt': '2025-03-05T13:36:00Z',\n",
       "   'content': 'Surprise!\\r\\n“Bachelorette” star Gabby Windey married comedian Robby Hoffman during a secret Las Vegas ceremony earlier this year.\\r\\nThe couple, who began dating in the summer of 2023, announced the big… [+4774 chars]'},\n",
       "  {'source': {'id': None, 'name': 'BBC News'},\n",
       "   'author': None,\n",
       "   'title': \"Zelensky's conciliatory letter to Trump suggests he's run out of road - BBC.com\",\n",
       "   'description': \"The Ukrainian leader's climb-down on security guarantees may be because the US is the only place he can turn to, writes BBC Ukraine correspondent James Waterhouse.\",\n",
       "   'url': 'https://www.bbc.com/news/articles/c4gde1zj5pyo',\n",
       "   'urlToImage': 'https://ichef.bbci.co.uk/news/1024/branded_news/1273/live/07bd52a0-f9cb-11ef-8c03-7dfdbeeb2526.jpg',\n",
       "   'publishedAt': '2025-03-05T13:35:19Z',\n",
       "   'content': \"James WaterhouseBBC Ukraine correspondent\\r\\nWhether Ukraine's President Volodymyr Zelensky's decision to patch up relations with his US counterpart Donald Trump is wise depends on who you ask in Ukrai… [+2989 chars]\"},\n",
       "  {'source': {'id': 'cnn', 'name': 'CNN'},\n",
       "   'author': 'Jim Sciutto, Katie Bo Lillis, Zachary Cohen',\n",
       "   'title': 'CIA director says US has paused intelligence support to Ukraine - CNN',\n",
       "   'description': 'CIA Director John Ratcliffe said Wednesday that the US has paused weapons shipments and intelligence support to Ukraine following the clash in the Oval office between President Volodymyr Zelensky and US President Donald Trump last Friday.',\n",
       "   'url': 'https://www.cnn.com/2025/03/05/politics/us-pause-intelligence-support-ukraine/index.html',\n",
       "   'urlToImage': 'https://media.cnn.com/api/v1/images/stellar/prod/gettyimages-2200569649.jpg?c=16x9&q=w_800,c_fill',\n",
       "   'publishedAt': '2025-03-05T13:30:00Z',\n",
       "   'content': 'CIA Director John Ratcliffe said Wednesday that the US has paused intelligence support and weapons shipments to Ukraine following the clash in the Oval Office between President Volodymyr Zelensky and… [+1663 chars]'},\n",
       "  {'source': {'id': 'bleacher-report', 'name': 'Bleacher Report'},\n",
       "   'author': 'Mike Chiari',\n",
       "   'title': \"Kevin Durant Defends Budenholzer Exchange, Rips 'Narrative' After Win vs. Clippers - Bleacher Report\",\n",
       "   'description': None,\n",
       "   'url': 'https://bleacherreport.com/articles/25167028-kevin-durant-defends-budenholzer-exchange-rips-narrative-after-win-vs-clippers',\n",
       "   'urlToImage': 'https://gsp-image-cdn.wmsports.io/cms/prod/bleacher-report/getty_images/2202601691_large_cropped_1.jpg',\n",
       "   'publishedAt': '2025-03-05T13:21:58Z',\n",
       "   'content': \"Phoenix Suns superstar Kevin Durant downplayed the magnitude of an interaction he had with head coach Mike Budenholzer during the first quarter of Tuesday's 119-117 win over the Los Angeles Clippers.… [+2704 chars]\"},\n",
       "  {'source': {'id': None, 'name': 'Sports Illustrated'},\n",
       "   'author': 'Matt Verderame, Gilberto Manzano',\n",
       "   'title': '2025 NFL Free Agency: Projecting Contracts for the Top 50 Players Set to Hit the Market - Sports Illustrated',\n",
       "   'description': 'Coming off a Super Bowl title, the Eagles could have three players who should cash in. Plus, Sam Darnold, Jevon Holland and Nick Bolton are other players likely to get paid big money.',\n",
       "   'url': 'https://www.si.com/nfl/2025-nfl-free-agency-projecting-contracts-top-50-players',\n",
       "   'urlToImage': 'https://images2.minutemediacdn.com/image/upload/c_crop,x_547,y_0,w_2657,h_2657/c_fill,w_1440,ar_1440:810,f_auto,q_auto,g_auto/images/ImagnImages/mmsport/si/01jnf3fk0gvyzz655a92.jpg',\n",
       "   'publishedAt': '2025-03-05T13:00:01Z',\n",
       "   'content': 'The confetti has been cleaned off the Superdome floor. Now the work begins for 32 NFL teams as they build toward what they hope will be a spot in Super Bowl LX next February in Santa Clara.\\r\\nWhile th… [+26766 chars]'},\n",
       "  {'source': {'id': None, 'name': 'BBC News'},\n",
       "   'author': None,\n",
       "   'title': \"US and Israel reject Arab alternative to Trump's Gaza reconstruction plan - BBC.com\",\n",
       "   'description': \"They say the Arab League's proposal for post-war reconstruction fails to address realities in Gaza.\",\n",
       "   'url': 'https://www.bbc.com/news/articles/cn7vd4pnxx3o',\n",
       "   'urlToImage': 'https://ichef.bbci.co.uk/news/1024/branded_news/d70c/live/093d6b50-f9bd-11ef-9e61-71ee71f26eb1.jpg',\n",
       "   'publishedAt': '2025-03-05T12:53:39Z',\n",
       "   'content': 'The UN says more than 90% of homes in Gaza are destroyed or damaged\\r\\nThe US and Israel have rejected an Arab plan for the post-war reconstruction of the Gaza Strip that would allow the 2.1 million Pa… [+5937 chars]'},\n",
       "  {'source': {'id': 'cnn', 'name': 'CNN'},\n",
       "   'author': 'Neha Mukherjee',\n",
       "   'title': 'Instead of vaccines, RFK Jr. focuses on unconventional measles treatments, driving worries about misinformation - CNN',\n",
       "   'description': 'As a measles outbreak in West Texas continues to grow, the response from US Health and Human Services Secretary Robert F. Kennedy Jr. has leaned heavily on treatment with vitamin A, as well as “good results” from the use of the steroid budesonide, the antibio…',\n",
       "   'url': 'https://www.cnn.com/2025/03/05/health/measles-rfk-vitamin-a-misinformation/index.html',\n",
       "   'urlToImage': 'https://media.cnn.com/api/v1/images/stellar/prod/gettyimages-2201696919.jpg?c=16x9&q=w_800,c_fill',\n",
       "   'publishedAt': '2025-03-05T12:21:00Z',\n",
       "   'content': 'As a measles outbreak in West Texas continues to grow, the response from US Health and Human Services Secretary Robert F. Kennedy Jr. has leaned heavily on treatment with vitamin A, as well as good r… [+5356 chars]'},\n",
       "  {'source': {'id': None, 'name': 'Yahoo Entertainment'},\n",
       "   'author': 'Mike Dolan',\n",
       "   'title': \"Morning Bid: Dollar 'smile' looks lopsided - Yahoo Finance\",\n",
       "   'description': \"Europe's stocks and the euro have surged again on the extraordinary news that Germany is ready to take its foot off its debt brake, re-arm and plan half a...\",\n",
       "   'url': 'https://finance.yahoo.com/news/morning-bid-dollar-smile-looks-115634371.html',\n",
       "   'urlToImage': 'https://media.zenfs.com/en/reuters-finance.com/808cbff7922c26527fe5be22682323e1',\n",
       "   'publishedAt': '2025-03-05T11:56:34Z',\n",
       "   'content': 'Morning Bid U.S.What matters in U.S. and global markets todayWeve revamped Morning Bid U.S. to offer you more in-depth markets analysis and commentary. Mike Dolan will help you make sense of the key … [+7037 chars]'},\n",
       "  {'source': {'id': None, 'name': 'syracuse.com'},\n",
       "   'author': 'Geoff Herbert | gherbert@syracuse.com',\n",
       "   'title': 'Rock singer’s fiancee dead after going overboard ‘80s-themed cruise ship - syracuse.com',\n",
       "   'description': \"The cruise featured '80s music stars like Squeeze, Adam Ant, Tiffany, Quiet Riot and Christopher Cross.\",\n",
       "   'url': 'https://www.syracuse.com/celebrity-news/2025/03/rock-singers-fiancee-dead-after-going-overboard-80s-themed-cruise-ship.html',\n",
       "   'urlToImage': 'https://www.syracuse.com/resizer/v2/YWCWS6PP2BCV3JPJMRYOGABCOI.jpg?auth=b9f5f80ef10277f3b4638aab1a55e7b480160fbe05d38ab70d8889c6d61d8e1e&width=1280&quality=90',\n",
       "   'publishedAt': '2025-03-05T11:16:00Z',\n",
       "   'content': 'A rock singers fiancée is dead after allegedly falling off an 80s-themed cruise ship.\\r\\nKimberly Burch, who was engaged to Faster Pussycat frontman Taime Downe, died when she went overboard a Royal Ca… [+2560 chars]'},\n",
       "  {'source': {'id': 'cnn', 'name': 'CNN'},\n",
       "   'author': None,\n",
       "   'title': 'One moment, calm waters. The next, a 900-pound dolphin landed on their boat - CNN',\n",
       "   'description': 'A placid fishing trip turned “berserk” for three New Zealand men when a dolphin weighing more than 400 kilograms (900 pounds) appeared to fall out of the sky before crash-landing in their small boat.',\n",
       "   'url': 'https://www.cnn.com/2025/03/05/asia/new-zealand-900-pound-dolphin-boat-intl-scli/index.html',\n",
       "   'urlToImage': 'https://media.cnn.com/api/v1/images/stellar/prod/ap25064136131160.jpg?c=16x9&q=w_800,c_fill',\n",
       "   'publishedAt': '2025-03-05T10:18:00Z',\n",
       "   'content': 'A placid fishing trip turned berserk for three New Zealand men when a dolphin weighing more than 400 kilograms (900 pounds) appeared to fall out of the sky before crash-landing in their small boat.\\r\\n… [+2022 chars]'}]}"
      ]
     },
     "execution_count": 51,
     "metadata": {},
     "output_type": "execute_result"
    }
   ],
   "execution_count": 51
  },
  {
   "attachments": {},
   "cell_type": "markdown",
   "metadata": {},
   "source": [
    "#### Part ii: Prompt engineering for a news summary\n",
    "\n",
    "Write a system prompt and user prompt that will lead the agent to summarize the day's top headlines. \n",
    "\n",
    "Rather than simply returning a list of the top stories, the agent should be able to condense the information into a few sentences. The agent should also be capable of only writing about the news category the user is interested in, e.g. politics or sport."
   ]
  },
  {
   "cell_type": "code",
   "metadata": {
    "ExecuteTime": {
     "end_time": "2025-03-06T14:12:51.854867Z",
     "start_time": "2025-03-06T14:12:51.656301Z"
    }
   },
   "source": [
    "# YOUR CODE HERE START\n",
    "system_prompt = \"\"\"\n",
    "You are a newscaster bot that is able to give back a summary of the top stories from a news source in the given category selected by a user.\n",
    "\n",
    "You do not return the top stories per se.\n",
    "\n",
    "Instead, you need to condense the overall information into a few sentences from those top stories and only within that category of interest.\n",
    "\"\"\"\n",
    "\n",
    "user_prompt = \"What is the state of politic affairs worldwide from BBC news?\"\n",
    "# YOUR CODE HERE END"
   ],
   "outputs": [],
   "execution_count": 52
  },
  {
   "cell_type": "code",
   "metadata": {
    "ExecuteTime": {
     "end_time": "2025-03-06T14:12:54.784858Z",
     "start_time": "2025-03-06T14:12:53.546404Z"
    }
   },
   "source": [
    "output = tool_calling_agent(client, system_prompt, user_prompt, get_top_headlines)\n",
    "print(output)"
   ],
   "outputs": [
    {
     "name": "stdout",
     "output_type": "stream",
     "text": [
      "\n",
      "### Model Output:\n",
      "\n",
      "\n",
      "\n",
      "### Tool Called: get_top_headlines with args: {'source': 'bbc-news'}\n",
      "\n",
      "### Model Output:\n",
      "\n",
      "The US and Israel have rejected an Arab plan for the reconstruction of the Gaza Strip. The US has paused intelligence support and weapons shipments to Ukraine following a clash between President Zelensky and President Trump. The Ukrainian leader's climb-down on security guarantees may be because the US is the only place he can turn to.\n",
      "```\n",
      "\n"
     ]
    }
   ],
   "execution_count": 53
  },
  {
   "attachments": {},
   "cell_type": "markdown",
   "metadata": {},
   "source": [
    "### Exercise 1b: Stocks\n",
    "\n",
    "In this exercise you will build a stock analysis agent to help a user to make investment decisions.\n",
    "\n",
    "The agent will be able examine the recent history of a stock, along with recent press articles about it, to determine whether or not the stock is a good investment.\n",
    "\n",
    "<mark>Warning! This agent is only intended to be used for educational purpose and we do not expect its suggestions to be of much worth.</mark> \n",
    "\n",
    "<mark> Xebia will not be held liable for any financial losses incurred from its usage!</mark> "
   ]
  },
  {
   "attachments": {},
   "cell_type": "markdown",
   "metadata": {},
   "source": [
    "To get the recent history of a stock we will use [yfinance](https://github.com/ranaroussi/yfinance). yfinance offers a threaded and Pythonic way to download market data from [Yahoo!Ⓡ finance](https://finance.yahoo.com). Note that it is **not** affiliated, endorsed, or vetted by Yahoo, Inc. It's an open-source tool that uses Yahoo's publicly available APIs, and is intended for research and educational purposes.\n",
    "\n",
    "Given a stock ticker symbol, we can retrive recent information about that stock."
   ]
  },
  {
   "cell_type": "code",
   "metadata": {
    "ExecuteTime": {
     "end_time": "2025-03-06T14:06:44.005554Z",
     "start_time": "2025-03-06T14:06:42.556972Z"
    }
   },
   "source": [
    "stock = yf.Ticker(\"IBM\")\n",
    "df = stock.history(period=\"1mo\")\n",
    "df = df[[\"Close\", \"Volume\"]]\n",
    "print(df.index.max() - df.index.min())\n",
    "df.index = [str(x).split()[0] for x in list(df.index)]\n",
    "df.index.rename(\"Date\", inplace=True)\n",
    "df"
   ],
   "outputs": [
    {
     "name": "stdout",
     "output_type": "stream",
     "text": [
      "27 days 00:00:00\n"
     ]
    },
    {
     "data": {
      "text/plain": [
       "                 Close   Volume\n",
       "Date                           \n",
       "2025-02-06  251.762711  6128300\n",
       "2025-02-07  250.669983  3370300\n",
       "2025-02-10  249.270004  3564400\n",
       "2025-02-11  254.699997  4801600\n",
       "2025-02-12  255.809998  3075300\n",
       "2025-02-13  259.190002  4531500\n",
       "2025-02-14  261.279999  3925300\n",
       "2025-02-18  263.070007  4262800\n",
       "2025-02-19  264.320007  3718700\n",
       "2025-02-20  264.739990  4884800\n",
       "2025-02-21  261.480011  5667900\n",
       "2025-02-24  261.869995  4398100\n",
       "2025-02-25  257.750000  6292200\n",
       "2025-02-26  255.839996  3460100\n",
       "2025-02-27  253.229996  3402200\n",
       "2025-02-28  252.440002  7988800\n",
       "2025-03-03  250.190002  2977700\n",
       "2025-03-04  253.210007  5342100\n",
       "2025-03-05  251.350006  4009100"
      ],
      "text/html": [
       "<div>\n",
       "<style scoped>\n",
       "    .dataframe tbody tr th:only-of-type {\n",
       "        vertical-align: middle;\n",
       "    }\n",
       "\n",
       "    .dataframe tbody tr th {\n",
       "        vertical-align: top;\n",
       "    }\n",
       "\n",
       "    .dataframe thead th {\n",
       "        text-align: right;\n",
       "    }\n",
       "</style>\n",
       "<table border=\"1\" class=\"dataframe\">\n",
       "  <thead>\n",
       "    <tr style=\"text-align: right;\">\n",
       "      <th></th>\n",
       "      <th>Close</th>\n",
       "      <th>Volume</th>\n",
       "    </tr>\n",
       "    <tr>\n",
       "      <th>Date</th>\n",
       "      <th></th>\n",
       "      <th></th>\n",
       "    </tr>\n",
       "  </thead>\n",
       "  <tbody>\n",
       "    <tr>\n",
       "      <th>2025-02-06</th>\n",
       "      <td>251.762711</td>\n",
       "      <td>6128300</td>\n",
       "    </tr>\n",
       "    <tr>\n",
       "      <th>2025-02-07</th>\n",
       "      <td>250.669983</td>\n",
       "      <td>3370300</td>\n",
       "    </tr>\n",
       "    <tr>\n",
       "      <th>2025-02-10</th>\n",
       "      <td>249.270004</td>\n",
       "      <td>3564400</td>\n",
       "    </tr>\n",
       "    <tr>\n",
       "      <th>2025-02-11</th>\n",
       "      <td>254.699997</td>\n",
       "      <td>4801600</td>\n",
       "    </tr>\n",
       "    <tr>\n",
       "      <th>2025-02-12</th>\n",
       "      <td>255.809998</td>\n",
       "      <td>3075300</td>\n",
       "    </tr>\n",
       "    <tr>\n",
       "      <th>2025-02-13</th>\n",
       "      <td>259.190002</td>\n",
       "      <td>4531500</td>\n",
       "    </tr>\n",
       "    <tr>\n",
       "      <th>2025-02-14</th>\n",
       "      <td>261.279999</td>\n",
       "      <td>3925300</td>\n",
       "    </tr>\n",
       "    <tr>\n",
       "      <th>2025-02-18</th>\n",
       "      <td>263.070007</td>\n",
       "      <td>4262800</td>\n",
       "    </tr>\n",
       "    <tr>\n",
       "      <th>2025-02-19</th>\n",
       "      <td>264.320007</td>\n",
       "      <td>3718700</td>\n",
       "    </tr>\n",
       "    <tr>\n",
       "      <th>2025-02-20</th>\n",
       "      <td>264.739990</td>\n",
       "      <td>4884800</td>\n",
       "    </tr>\n",
       "    <tr>\n",
       "      <th>2025-02-21</th>\n",
       "      <td>261.480011</td>\n",
       "      <td>5667900</td>\n",
       "    </tr>\n",
       "    <tr>\n",
       "      <th>2025-02-24</th>\n",
       "      <td>261.869995</td>\n",
       "      <td>4398100</td>\n",
       "    </tr>\n",
       "    <tr>\n",
       "      <th>2025-02-25</th>\n",
       "      <td>257.750000</td>\n",
       "      <td>6292200</td>\n",
       "    </tr>\n",
       "    <tr>\n",
       "      <th>2025-02-26</th>\n",
       "      <td>255.839996</td>\n",
       "      <td>3460100</td>\n",
       "    </tr>\n",
       "    <tr>\n",
       "      <th>2025-02-27</th>\n",
       "      <td>253.229996</td>\n",
       "      <td>3402200</td>\n",
       "    </tr>\n",
       "    <tr>\n",
       "      <th>2025-02-28</th>\n",
       "      <td>252.440002</td>\n",
       "      <td>7988800</td>\n",
       "    </tr>\n",
       "    <tr>\n",
       "      <th>2025-03-03</th>\n",
       "      <td>250.190002</td>\n",
       "      <td>2977700</td>\n",
       "    </tr>\n",
       "    <tr>\n",
       "      <th>2025-03-04</th>\n",
       "      <td>253.210007</td>\n",
       "      <td>5342100</td>\n",
       "    </tr>\n",
       "    <tr>\n",
       "      <th>2025-03-05</th>\n",
       "      <td>251.350006</td>\n",
       "      <td>4009100</td>\n",
       "    </tr>\n",
       "  </tbody>\n",
       "</table>\n",
       "</div>"
      ]
     },
     "execution_count": 44,
     "metadata": {},
     "output_type": "execute_result"
    }
   ],
   "execution_count": 44
  },
  {
   "attachments": {},
   "cell_type": "markdown",
   "metadata": {},
   "source": [
    "#### Part i: Recent stock history\n",
    "\n",
    "Write a Python function that returns JSON information about the recent history of a particular stock in the Python dictionary format."
   ]
  },
  {
   "cell_type": "code",
   "metadata": {
    "ExecuteTime": {
     "end_time": "2025-03-06T14:16:12.225205Z",
     "start_time": "2025-03-06T14:16:12.204183Z"
    }
   },
   "source": [
    "def get_stock_prices(company_stock_ticker_symbol: str, period: str = \"1mo\") -> dict:\n",
    "    # YOUR CODE HERE START\n",
    "    stock = yf.Ticker(company_stock_ticker_symbol)\n",
    "    if stock:\n",
    "        df = stock.history(period=\"1mo\")\n",
    "        df = df[[\"Close\", \"Volume\"]]\n",
    "        df.index = [str(x).split()[0] for x in list(df.index)]\n",
    "        df.index.rename(\"Date\", inplace=True)\n",
    "# YOUR CODE HERE END\n",
    "        return df.to_json()\n",
    "    else:\n",
    "        {}"
   ],
   "outputs": [],
   "execution_count": 56
  },
  {
   "cell_type": "code",
   "metadata": {
    "ExecuteTime": {
     "end_time": "2025-03-06T14:16:14.143717Z",
     "start_time": "2025-03-06T14:16:13.941948Z"
    }
   },
   "source": [
    "get_stock_prices(\"IBM\")"
   ],
   "outputs": [
    {
     "data": {
      "text/plain": [
       "'{\"Close\":{\"2025-02-06\":251.7627105713,\"2025-02-07\":250.6699829102,\"2025-02-10\":249.2700042725,\"2025-02-11\":254.6999969482,\"2025-02-12\":255.8099975586,\"2025-02-13\":259.1900024414,\"2025-02-14\":261.2799987793,\"2025-02-18\":263.0700073242,\"2025-02-19\":264.3200073242,\"2025-02-20\":264.7399902344,\"2025-02-21\":261.4800109863,\"2025-02-24\":261.8699951172,\"2025-02-25\":257.75,\"2025-02-26\":255.8399963379,\"2025-02-27\":253.2299957275,\"2025-02-28\":252.4400024414,\"2025-03-03\":250.1900024414,\"2025-03-04\":253.2100067139,\"2025-03-05\":251.3500061035},\"Volume\":{\"2025-02-06\":6128300,\"2025-02-07\":3370300,\"2025-02-10\":3564400,\"2025-02-11\":4801600,\"2025-02-12\":3075300,\"2025-02-13\":4531500,\"2025-02-14\":3925300,\"2025-02-18\":4262800,\"2025-02-19\":3718700,\"2025-02-20\":4884800,\"2025-02-21\":5667900,\"2025-02-24\":4398100,\"2025-02-25\":6292200,\"2025-02-26\":3460100,\"2025-02-27\":3402200,\"2025-02-28\":7988800,\"2025-03-03\":2977700,\"2025-03-04\":5342100,\"2025-03-05\":4009100}}'"
      ]
     },
     "execution_count": 57,
     "metadata": {},
     "output_type": "execute_result"
    }
   ],
   "execution_count": 57
  },
  {
   "attachments": {},
   "cell_type": "markdown",
   "metadata": {},
   "source": [
    "We can use NewsAPI again to retrieve the recent headlines about a particular stock."
   ]
  },
  {
   "cell_type": "code",
   "metadata": {
    "ExecuteTime": {
     "end_time": "2025-03-06T14:16:17.164210Z",
     "start_time": "2025-03-06T14:16:17.141095Z"
    }
   },
   "source": [
    "today = pd.Timestamp.today()\n",
    "start = pd.Timestamp.today()\n",
    "end = today - pd.Timedelta(days=30)"
   ],
   "outputs": [],
   "execution_count": 58
  },
  {
   "cell_type": "code",
   "metadata": {
    "ExecuteTime": {
     "end_time": "2025-03-06T14:16:40.370889Z",
     "start_time": "2025-03-06T14:16:39.836748Z"
    }
   },
   "source": [
    "topic = \"IBM stock news\"\n",
    "\n",
    "request = requests.get(\n",
    "    f\"https://newsapi.org/v2/everything?q={topic}&from={start}&to={end}&sortBy=popularity&apiKey=a49e3df725554d18b2ad712959e8fd61\"\n",
    ").json()\n",
    "articles = pd.DataFrame(request[\"articles\"])\n",
    "titles = articles[\"title\"]\n",
    "titles\n"
   ],
   "outputs": [
    {
     "data": {
      "text/plain": [
       "0     Aberdeen restores the 'e's after admitting 'ab...\n",
       "1     IBM’s Arvind Krishna Is Betting on Specialized AI\n",
       "2     Work at the Mill Or, the Story of Digital Equi...\n",
       "3     The Tinkerings of Robert Noyce by Tom Wolfe (1...\n",
       "4     International Business Machines Corporation (I...\n",
       "5     Intel's vacant CEO spot rumored to be filled b...\n",
       "6     Vulnerability Summary for the Week of February...\n",
       "7     On theCUBE Pod: IBM stock soars as DeepSeek ne...\n",
       "8     Nvidia’s fine! Besides, who else is going to p...\n",
       "9     DeepSeek didn’t deep-six AI startup funding af...\n",
       "10    As Trump and Musk scramble everything, investo...\n",
       "11    Dave Vellante’s Breaking Analysis: The complet...\n",
       "12    Dave Vellante’s Breaking Analysis: The complet...\n",
       "13    Dave Vellante’s Breaking Analysis: The complet...\n",
       "14    Das Cyber-Vorhängeschloss knacken: Warum Quant...\n",
       "15    Stock Market Live Updates 21 February 2025: Se...\n",
       "16    GitHub - modelcontextprotocol/servers: Model C...\n",
       "17    IBM CEO Arvind Krishna: AI Adoption Will ‘Expl...\n",
       "18       Q1 Earnings Estimate for IBM Issued By Wedbush\n",
       "19    What is Wedbush’s Forecast for IBM FY2025 Earn...\n",
       "20    Equities Analysts Set Expectations for IBM Q2 ...\n",
       "21    Zacks Research Has Bullish Estimate for IBM Q2...\n",
       "22    What is Zacks Research’s Forecast for IBM Q1 E...\n",
       "23    International Business Machines (NYSE:IBM) Upg...\n",
       "24    International Business Machines (NYSE:IBM) Ear...\n",
       "25    International Business Machines (NYSE:IBM) Low...\n",
       "26    Data Storage (NASDAQ:DTSTW) Trading Down 6.4% ...\n",
       "27    Cisco, IBM, Oracle show old-school tech can be...\n",
       "28    International Business Machines Co. (NYSE:IBM)...\n",
       "29    Head-To-Head Contrast: Data Storage (NASDAQ:DT...\n",
       "30                  It’s a Big Club and You Ain’t in It\n",
       "31    CNBC Daily Open: Global central banks are lowe...\n",
       "32    Gov’t Consultants Drunk On Taxpayer Cash Brace...\n",
       "33          Margin Balances Suggests Risks Are Building\n",
       "34    Japan’s attempt at a silicon renaissance is ab...\n",
       "35                                           wg21 (v83)\n",
       "36                   A History of the Future, 2025-2040\n",
       "Name: title, dtype: object"
      ]
     },
     "execution_count": 60,
     "metadata": {},
     "output_type": "execute_result"
    }
   ],
   "execution_count": 60
  },
  {
   "attachments": {},
   "cell_type": "markdown",
   "metadata": {},
   "source": [
    "#### Part ii: Any recent news?\n",
    "\n",
    "Write a Python function that returns JSON information about the recent headlines of a particulaer stock in the Python dictionary format."
   ]
  },
  {
   "cell_type": "code",
   "metadata": {
    "ExecuteTime": {
     "end_time": "2025-03-06T14:17:57.959278Z",
     "start_time": "2025-03-06T14:17:57.756238Z"
    }
   },
   "source": [
    "def get_news_stories(topic: str) -> dict:\n",
    "    # YOUR CODE HERE START\n",
    "    request = requests.get(\n",
    "        f\"https://newsapi.org/v2/everything?q={topic}&from={start}&to={end}&sortBy=popularity&apiKey=a49e3df725554d18b2ad712959e8fd61\"\n",
    "    ).json()\n",
    "    # YOUR CODE HERE END\n",
    "    return titles.to_json()"
   ],
   "outputs": [],
   "execution_count": 61
  },
  {
   "cell_type": "code",
   "metadata": {
    "ExecuteTime": {
     "end_time": "2025-03-06T14:18:39.656608Z",
     "start_time": "2025-03-06T14:18:39.129404Z"
    }
   },
   "source": [
    "get_news_stories(\"Apple\")"
   ],
   "outputs": [
    {
     "data": {
      "text/plain": [
       "'{\"0\":\"Aberdeen restores the \\'e\\'s after admitting \\'abrdn\\' rebrand wasn\\'t that clvr\",\"1\":\"IBM\\\\u2019s Arvind Krishna Is Betting on Specialized AI\",\"2\":\"Work at the Mill Or, the Story of Digital Equipment Corporation\",\"3\":\"The Tinkerings of Robert Noyce by Tom Wolfe (1983)\",\"4\":\"International Business Machines Corporation (IBM) Reaffirmed with Buy Rating by Bank of America, Set Target at $270 Following Investor Day\",\"5\":\"Intel\\'s vacant CEO spot rumored to be filled by Toms Caulfield \\\\u2014 abrupt GlobalFoundries shakeup sparks speculation\",\"6\":\"Vulnerability Summary for the Week of February 10, 2025\",\"7\":\"On theCUBE Pod: IBM stock soars as DeepSeek news continues to shake up industry\",\"8\":\"Nvidia\\\\u2019s fine! Besides, who else is going to power all these new AI models?\",\"9\":\"DeepSeek didn\\\\u2019t deep-six AI startup funding after all\",\"10\":\"As Trump and Musk scramble everything, investors cool on enterprise tech\\\\u2019s prospects\",\"11\":\"Dave Vellante\\\\u2019s Breaking Analysis: The complete collection\",\"12\":\"Dave Vellante\\\\u2019s Breaking Analysis: The complete collection\",\"13\":\"Dave Vellante\\\\u2019s Breaking Analysis: The complete collection\",\"14\":\"Das Cyber-Vorh\\\\u00e4ngeschloss knacken: Warum Quantencomputer ein Problem f\\\\u00fcr die Verschl\\\\u00fcsselung bedeuten\",\"15\":\"Stock Market Live Updates 21 February 2025: Sensex, Nifty dip; analysts expect range-bound trade amid lack of triggers\",\"16\":\"GitHub - modelcontextprotocol\\\\/servers: Model Context Protocol Servers\",\"17\":\"IBM CEO Arvind Krishna: AI Adoption Will \\\\u2018Explode\\\\u2019 As Costs Drop\",\"18\":\"Q1 Earnings Estimate for IBM Issued By Wedbush\",\"19\":\"What is Wedbush\\\\u2019s Forecast for IBM FY2025 Earnings?\",\"20\":\"Equities Analysts Set Expectations for IBM Q2 Earnings\",\"21\":\"Zacks Research Has Bullish Estimate for IBM Q2 Earnings\",\"22\":\"What is Zacks Research\\\\u2019s Forecast for IBM Q1 Earnings?\",\"23\":\"International Business Machines (NYSE:IBM) Upgraded to Buy at StockNews.com\",\"24\":\"International Business Machines (NYSE:IBM) Earns Outperform Rating from Analysts at Oppenheimer\",\"25\":\"International Business Machines (NYSE:IBM) Lowered to Hold Rating by StockNews.com\",\"26\":\"Data Storage (NASDAQ:DTSTW) Trading Down 6.4% \\\\u2013 What\\\\u2019s Next?\",\"27\":\"Cisco, IBM, Oracle show old-school tech can be AI winners\",\"28\":\"International Business Machines Co. (NYSE:IBM) Receives $231.44 Average Price Target from Analysts\",\"29\":\"Head-To-Head Contrast: Data Storage (NASDAQ:DTST) vs. E2open Parent (NYSE:ETWO)\",\"30\":\"It\\\\u2019s a Big Club and You Ain\\\\u2019t in It\",\"31\":\"CNBC Daily Open: Global central banks are lowering rates \\\\u2014 the Fed might not be as inclined\",\"32\":\"Gov\\\\u2019t Consultants Drunk On Taxpayer Cash Brace For Trump-Mandated Fiscal Sobriety\",\"33\":\"Margin Balances Suggests Risks Are Building\",\"34\":\"Japan\\\\u2019s attempt at a silicon renaissance is absolutely fabulous\",\"35\":\"wg21 (v83)\",\"36\":\"A History of the Future, 2025-2040\"}'"
      ]
     },
     "execution_count": 62,
     "metadata": {},
     "output_type": "execute_result"
    }
   ],
   "execution_count": 62
  },
  {
   "attachments": {},
   "cell_type": "markdown",
   "metadata": {},
   "source": [
    "#### Part iii: Prompt engineering for a stock\n",
    "\n",
    "Write a system prompt and user prompt that will lead the agent to determine whether or not a stock is a good investment. \n",
    "\n",
    "As you may have already experienced with ChatGPT, the model will want to caveat its opinions.\n",
    "For the purpose of this assignment, see if you can get it to provide an opinion without any reservations."
   ]
  },
  {
   "cell_type": "code",
   "metadata": {
    "ExecuteTime": {
     "end_time": "2025-03-06T14:24:04.924015Z",
     "start_time": "2025-03-06T14:24:04.703430Z"
    }
   },
   "source": [
    "# YOUR CODE HERE START\n",
    "system_prompt = \"\"\"\n",
    "You are a stockbroker bot that is able to give advise or opinion if someone should invest in a stock of a company based on the stock prices and news about that company and news source given by a user. The company name is the topic for the news source.\n",
    "\n",
    "You do not return the top stories and stock price per se.\n",
    "\n",
    "Instead, you need to condense the overall information into a few sentences and provide opinion of yes or no.\n",
    "\"\"\"\n",
    "\n",
    "user_prompt = \"Please read BBC if I should invest on Apple?\"\n",
    "# YOUR CODE HERE END"
   ],
   "outputs": [],
   "execution_count": 63
  },
  {
   "cell_type": "code",
   "metadata": {
    "ExecuteTime": {
     "end_time": "2025-03-06T14:24:11.138001Z",
     "start_time": "2025-03-06T14:24:08.582230Z"
    }
   },
   "source": [
    "output = tool_calling_agent(client, system_prompt, user_prompt, get_news_stories, get_stock_prices)\n",
    "print(output)"
   ],
   "outputs": [
    {
     "name": "stdout",
     "output_type": "stream",
     "text": [
      "\n",
      "### Model Output:\n",
      "\n",
      "\n",
      "\n",
      "### Tool Called: get_news_stories with args: {'topic': 'Apple'}\n",
      "\n",
      "### Model Output:\n",
      "\n",
      "```\n",
      "\n",
      "\n",
      "### Tool Called: get_stock_prices with args: {'company_stock_ticker_symbol': 'AAPL'}\n",
      "\n",
      "### Model Output:\n",
      "\n",
      "Apple stock has been on a steady rise recently, with a slight dip in the last few days. The news is mostly positive, with articles about IBM's AI adoption and the potential for AI to drive growth in the tech sector. Overall, the outlook for Apple is positive. \n",
      "Yes.\n",
      "\n",
      "\n"
     ]
    }
   ],
   "execution_count": 64
  },
  {
   "attachments": {},
   "cell_type": "markdown",
   "metadata": {},
   "source": [
    "#### Part iv: Prompt engineering for multiple stocks.\n",
    "\n",
    "Update your system/user prompt so that it will lead the agent to make an investment decision for more than one stock."
   ]
  },
  {
   "cell_type": "code",
   "metadata": {
    "ExecuteTime": {
     "end_time": "2025-03-06T14:29:32.163742Z",
     "start_time": "2025-03-06T14:29:32.017518Z"
    }
   },
   "source": [
    "# YOUR CODE HERE START\n",
    "system_prompt = \"\"\"\n",
    "You are a stockbroker bot that is able to give advise or opinion if someone should invest in stocks of several companies based on the stock prices and news about those companies and news source given by a user. The company name is the topic for the news source.\n",
    "\n",
    "You do not return the top stories and stock prices per se.\n",
    "\n",
    "Instead, you need to condense the overall information into a few sentences and provide opinion of yes or no for each company asked. Also provide alternative of companies.\n",
    "\"\"\"\n",
    "\n",
    "user_prompt = \"Please read BBC if I should invest on Apple, Palantir, NVIDIA and Google?\"\n",
    "# YOUR CODE HERE END"
   ],
   "outputs": [],
   "execution_count": 71
  },
  {
   "metadata": {
    "ExecuteTime": {
     "end_time": "2025-03-06T14:29:40.411847Z",
     "start_time": "2025-03-06T14:29:35.056889Z"
    }
   },
   "cell_type": "code",
   "source": [
    "output = tool_calling_agent(client, system_prompt, user_prompt, get_news_stories, get_stock_prices)\n",
    "print(output)"
   ],
   "outputs": [
    {
     "name": "stdout",
     "output_type": "stream",
     "text": [
      "\n",
      "### Model Output:\n",
      "\n",
      "\n",
      "\n",
      "### Tool Called: get_news_stories with args: {'topic': 'Apple'}\n",
      "\n",
      "### Tool Called: get_news_stories with args: {'topic': 'Palantir'}\n",
      "\n",
      "### Tool Called: get_news_stories with args: {'topic': 'NVIDIA'}\n",
      "\n",
      "### Tool Called: get_news_stories with args: {'topic': 'Google'}\n",
      "\n",
      "### Tool Called: get_stock_prices with args: {'company_stock_ticker_symbol': 'AAPL'}\n",
      "\n",
      "### Tool Called: get_stock_prices with args: {'company_stock_ticker_symbol': 'PLTR'}\n",
      "\n",
      "### Tool Called: get_stock_prices with args: {'company_stock_ticker_symbol': 'NVDA'}\n",
      "\n",
      "### Tool Called: get_stock_prices with args: {'company_stock_ticker_symbol': 'GOOGL'}\n",
      "\n",
      "### Model Output:\n",
      "\n",
      "Apple is doing well, but the stock price is a bit high.  I would say no.  Consider investing in Palantir or NVIDIA.  Palantir is a data analytics company that is growing rapidly.  NVIDIA is a graphics processing unit (GPU) company that is benefiting from the growth of artificial intelligence (AI).  Google is a good company, but the stock price is also high.  I would say no.\n",
      "\n",
      "\n"
     ]
    }
   ],
   "execution_count": 72
  },
  {
   "cell_type": "markdown",
   "metadata": {},
   "source": [
    "---"
   ]
  }
 ],
 "metadata": {
  "language_info": {
   "name": "python"
  },
  "kernelspec": {
   "name": "python3",
   "language": "python",
   "display_name": "Python 3 (ipykernel)"
  }
 },
 "nbformat": 4,
 "nbformat_minor": 2
}
